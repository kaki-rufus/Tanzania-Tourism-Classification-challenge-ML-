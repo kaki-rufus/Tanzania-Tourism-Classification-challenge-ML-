{
 "cells": [
  {
   "cell_type": "markdown",
   "metadata": {
    "id": "A8hJzadXve9Z"
   },
   "source": [
    "# Tanzania Tourism EDA + MODELLING\n",
    "* Can you use tourism survey data and ML to classify the range of expenditures a tourist spends in Tanzania \n"
   ]
  },
  {
   "cell_type": "markdown",
   "metadata": {
    "id": "KBtWrKVCve9g"
   },
   "source": [
    "### Import necessary Libraries and load the data\n",
    "Libraries help reduce coding errors, make programmers more efficient, and make software smaller in size (and lines of code). Instead of writing long lines of code to accomplish a common task, coders can simply call upon a library – often with a single line of code – to perform that task instead."
   ]
  },
  {
   "cell_type": "code",
   "execution_count": 2,
   "metadata": {
    "id": "hBrMd5Ieve9h"
   },
   "outputs": [],
   "source": [
    "import pandas as pd #A fast, powerful, flexible and easy to use open source data analysis and manipulation tool\n",
    "import numpy as np # Library for working with arrays\n",
    "\n",
    "# creating visualizations in python\n",
    "import matplotlib.pyplot as plt \n",
    "import plotly.express as px\n",
    "from pylab import rcParams\n",
    "import seaborn as sb\n",
    "sb.set_style('darkgrid')\n",
    "rcParams['figure.figsize'] = 8,8\n",
    "import warnings\n",
    "warnings.filterwarnings(\"ignore\")\n",
    "%matplotlib inline\n",
    "\n",
    "\n",
    "import catboost as catt\n",
    "\n",
    "from sklearn.metrics import log_loss\n",
    "from sklearn.model_selection import StratifiedKFold,KFold,RepeatedStratifiedKFold,train_test_split\n",
    "\n",
    "pd.options.display.max_rows = 2200\n",
    "import gc "
   ]
  },
  {
   "cell_type": "code",
   "execution_count": null,
   "metadata": {
    "id": "nqt1L01Dve9j"
   },
   "outputs": [],
   "source": [
    "##where your train and test files are located, \n",
    "##don't change this if you are running this notebook om the same folder that the data is\n",
    "path = \"./\""
   ]
  },
  {
   "cell_type": "code",
   "execution_count": 3,
   "metadata": {
    "id": "ESEFsu1ive9k"
   },
   "outputs": [],
   "source": [
    "#import data\n",
    "train = pd.read_csv(path+'Train.csv')\n",
    "test=  pd.read_csv(path+'Test.csv')\n",
    "\n",
    "submission = pd.read_csv(path+'SampleSubmission.csv')\n"
   ]
  },
  {
   "cell_type": "code",
   "execution_count": 4,
   "metadata": {
    "colab": {
     "base_uri": "https://localhost:8080/"
    },
    "id": "oJxWK2irve9l",
    "outputId": "79a06936-2373-4d1c-9103-eab2f3bf2296"
   },
   "outputs": [
    {
     "data": {
      "text/plain": [
       "((18506, 21), (6169, 20))"
      ]
     },
     "execution_count": 4,
     "metadata": {},
     "output_type": "execute_result"
    }
   ],
   "source": [
    "# How to check the number of rows and columns in a dataset\n",
    "train.shape,test.shape"
   ]
  },
  {
   "cell_type": "code",
   "execution_count": 5,
   "metadata": {
    "colab": {
     "base_uri": "https://localhost:8080/",
     "height": 526
    },
    "id": "X0Fm_zaeve9m",
    "outputId": "ea86a5ef-f3f6-4213-fd39-078821aa6920"
   },
   "outputs": [
    {
     "data": {
      "text/html": [
       "<div>\n",
       "<style scoped>\n",
       "    .dataframe tbody tr th:only-of-type {\n",
       "        vertical-align: middle;\n",
       "    }\n",
       "\n",
       "    .dataframe tbody tr th {\n",
       "        vertical-align: top;\n",
       "    }\n",
       "\n",
       "    .dataframe thead th {\n",
       "        text-align: right;\n",
       "    }\n",
       "</style>\n",
       "<table border=\"1\" class=\"dataframe\">\n",
       "  <thead>\n",
       "    <tr style=\"text-align: right;\">\n",
       "      <th></th>\n",
       "      <th>Tour_ID</th>\n",
       "      <th>country</th>\n",
       "      <th>age_group</th>\n",
       "      <th>travel_with</th>\n",
       "      <th>total_female</th>\n",
       "      <th>total_male</th>\n",
       "      <th>purpose</th>\n",
       "      <th>main_activity</th>\n",
       "      <th>info_source</th>\n",
       "      <th>tour_arrangement</th>\n",
       "      <th>...</th>\n",
       "      <th>package_accomodation</th>\n",
       "      <th>package_food</th>\n",
       "      <th>package_transport_tz</th>\n",
       "      <th>package_sightseeing</th>\n",
       "      <th>package_guided_tour</th>\n",
       "      <th>package_insurance</th>\n",
       "      <th>night_mainland</th>\n",
       "      <th>night_zanzibar</th>\n",
       "      <th>first_trip_tz</th>\n",
       "      <th>cost_category</th>\n",
       "    </tr>\n",
       "  </thead>\n",
       "  <tbody>\n",
       "    <tr>\n",
       "      <th>0</th>\n",
       "      <td>tour_id1hffseyw</td>\n",
       "      <td>ITALY</td>\n",
       "      <td>45-64</td>\n",
       "      <td>With Children</td>\n",
       "      <td>0.0</td>\n",
       "      <td>2.0</td>\n",
       "      <td>Visiting Friends and Relatives</td>\n",
       "      <td>Beach Tourism</td>\n",
       "      <td>Friends, relatives</td>\n",
       "      <td>Package Tour</td>\n",
       "      <td>...</td>\n",
       "      <td>Yes</td>\n",
       "      <td>Yes</td>\n",
       "      <td>Yes</td>\n",
       "      <td>No</td>\n",
       "      <td>No</td>\n",
       "      <td>No</td>\n",
       "      <td>0</td>\n",
       "      <td>7</td>\n",
       "      <td>Yes</td>\n",
       "      <td>High Cost</td>\n",
       "    </tr>\n",
       "    <tr>\n",
       "      <th>1</th>\n",
       "      <td>tour_idnacd7zag</td>\n",
       "      <td>UNITED KINGDOM</td>\n",
       "      <td>25-44</td>\n",
       "      <td>With Spouse</td>\n",
       "      <td>1.0</td>\n",
       "      <td>1.0</td>\n",
       "      <td>Leisure and Holidays</td>\n",
       "      <td>Wildlife Tourism</td>\n",
       "      <td>Travel agent, tour operator</td>\n",
       "      <td>Package Tour</td>\n",
       "      <td>...</td>\n",
       "      <td>Yes</td>\n",
       "      <td>Yes</td>\n",
       "      <td>Yes</td>\n",
       "      <td>No</td>\n",
       "      <td>No</td>\n",
       "      <td>No</td>\n",
       "      <td>0</td>\n",
       "      <td>7</td>\n",
       "      <td>Yes</td>\n",
       "      <td>High Cost</td>\n",
       "    </tr>\n",
       "    <tr>\n",
       "      <th>2</th>\n",
       "      <td>tour_id62vz7e71</td>\n",
       "      <td>UNITED STATES OF AMERICA</td>\n",
       "      <td>65+</td>\n",
       "      <td>With Spouse</td>\n",
       "      <td>1.0</td>\n",
       "      <td>1.0</td>\n",
       "      <td>Leisure and Holidays</td>\n",
       "      <td>Widlife Tourism</td>\n",
       "      <td>Travel agent, tour operator</td>\n",
       "      <td>Package Tour</td>\n",
       "      <td>...</td>\n",
       "      <td>Yes</td>\n",
       "      <td>Yes</td>\n",
       "      <td>Yes</td>\n",
       "      <td>Yes</td>\n",
       "      <td>Yes</td>\n",
       "      <td>No</td>\n",
       "      <td>6</td>\n",
       "      <td>6</td>\n",
       "      <td>Yes</td>\n",
       "      <td>Higher Cost</td>\n",
       "    </tr>\n",
       "    <tr>\n",
       "      <th>3</th>\n",
       "      <td>tour_idrc76tzix</td>\n",
       "      <td>RWANDA</td>\n",
       "      <td>25-44</td>\n",
       "      <td>With Spouse and Children</td>\n",
       "      <td>3.0</td>\n",
       "      <td>1.0</td>\n",
       "      <td>Leisure and Holidays</td>\n",
       "      <td>Beach Tourism</td>\n",
       "      <td>Radio, TV, Web</td>\n",
       "      <td>Independent</td>\n",
       "      <td>...</td>\n",
       "      <td>No</td>\n",
       "      <td>No</td>\n",
       "      <td>No</td>\n",
       "      <td>No</td>\n",
       "      <td>No</td>\n",
       "      <td>No</td>\n",
       "      <td>3</td>\n",
       "      <td>0</td>\n",
       "      <td>No</td>\n",
       "      <td>Lower Cost</td>\n",
       "    </tr>\n",
       "    <tr>\n",
       "      <th>4</th>\n",
       "      <td>tour_idn723m0n9</td>\n",
       "      <td>UNITED STATES OF AMERICA</td>\n",
       "      <td>45-64</td>\n",
       "      <td>Alone</td>\n",
       "      <td>0.0</td>\n",
       "      <td>1.0</td>\n",
       "      <td>Leisure and Holidays</td>\n",
       "      <td>Widlife Tourism</td>\n",
       "      <td>Travel agent, tour operator</td>\n",
       "      <td>Package Tour</td>\n",
       "      <td>...</td>\n",
       "      <td>Yes</td>\n",
       "      <td>Yes</td>\n",
       "      <td>Yes</td>\n",
       "      <td>No</td>\n",
       "      <td>Yes</td>\n",
       "      <td>Yes</td>\n",
       "      <td>7</td>\n",
       "      <td>0</td>\n",
       "      <td>Yes</td>\n",
       "      <td>Higher Cost</td>\n",
       "    </tr>\n",
       "  </tbody>\n",
       "</table>\n",
       "<p>5 rows × 21 columns</p>\n",
       "</div>"
      ],
      "text/plain": [
       "           Tour_ID                   country age_group  \\\n",
       "0  tour_id1hffseyw                     ITALY     45-64   \n",
       "1  tour_idnacd7zag            UNITED KINGDOM     25-44   \n",
       "2  tour_id62vz7e71  UNITED STATES OF AMERICA       65+   \n",
       "3  tour_idrc76tzix                    RWANDA     25-44   \n",
       "4  tour_idn723m0n9  UNITED STATES OF AMERICA     45-64   \n",
       "\n",
       "                travel_with  total_female  total_male  \\\n",
       "0             With Children           0.0         2.0   \n",
       "1               With Spouse           1.0         1.0   \n",
       "2               With Spouse           1.0         1.0   \n",
       "3  With Spouse and Children           3.0         1.0   \n",
       "4                     Alone           0.0         1.0   \n",
       "\n",
       "                          purpose     main_activity  \\\n",
       "0  Visiting Friends and Relatives     Beach Tourism   \n",
       "1            Leisure and Holidays  Wildlife Tourism   \n",
       "2            Leisure and Holidays   Widlife Tourism   \n",
       "3            Leisure and Holidays     Beach Tourism   \n",
       "4            Leisure and Holidays   Widlife Tourism   \n",
       "\n",
       "                   info_source tour_arrangement  ... package_accomodation  \\\n",
       "0           Friends, relatives     Package Tour  ...                  Yes   \n",
       "1  Travel agent, tour operator     Package Tour  ...                  Yes   \n",
       "2  Travel agent, tour operator     Package Tour  ...                  Yes   \n",
       "3               Radio, TV, Web      Independent  ...                   No   \n",
       "4  Travel agent, tour operator     Package Tour  ...                  Yes   \n",
       "\n",
       "  package_food package_transport_tz package_sightseeing package_guided_tour  \\\n",
       "0          Yes                  Yes                  No                  No   \n",
       "1          Yes                  Yes                  No                  No   \n",
       "2          Yes                  Yes                 Yes                 Yes   \n",
       "3           No                   No                  No                  No   \n",
       "4          Yes                  Yes                  No                 Yes   \n",
       "\n",
       "  package_insurance night_mainland  night_zanzibar  first_trip_tz  \\\n",
       "0                No              0               7            Yes   \n",
       "1                No              0               7            Yes   \n",
       "2                No              6               6            Yes   \n",
       "3                No              3               0             No   \n",
       "4               Yes              7               0            Yes   \n",
       "\n",
       "  cost_category  \n",
       "0     High Cost  \n",
       "1     High Cost  \n",
       "2   Higher Cost  \n",
       "3    Lower Cost  \n",
       "4   Higher Cost  \n",
       "\n",
       "[5 rows x 21 columns]"
      ]
     },
     "execution_count": 5,
     "metadata": {},
     "output_type": "execute_result"
    }
   ],
   "source": [
    "# How to see the first 5 rows in a dataset\n",
    "train.head()"
   ]
  },
  {
   "cell_type": "code",
   "execution_count": 6,
   "metadata": {},
   "outputs": [
    {
     "data": {
      "text/plain": [
       "Index(['Tour_ID', 'country', 'age_group', 'travel_with', 'total_female',\n",
       "       'total_male', 'purpose', 'main_activity', 'info_source',\n",
       "       'tour_arrangement', 'package_transport_int', 'package_accomodation',\n",
       "       'package_food', 'package_transport_tz', 'package_sightseeing',\n",
       "       'package_guided_tour', 'package_insurance', 'night_mainland',\n",
       "       'night_zanzibar', 'first_trip_tz', 'cost_category'],\n",
       "      dtype='object')"
      ]
     },
     "execution_count": 6,
     "metadata": {},
     "output_type": "execute_result"
    }
   ],
   "source": [
    "## List all the columns available\n",
    "train.columns"
   ]
  },
  {
   "cell_type": "code",
   "execution_count": 7,
   "metadata": {},
   "outputs": [
    {
     "data": {
      "text/plain": [
       "array(['High Cost', 'Higher Cost', 'Lower Cost', 'Normal Cost',\n",
       "       'Low Cost', 'Highest Cost'], dtype=object)"
      ]
     },
     "execution_count": 7,
     "metadata": {},
     "output_type": "execute_result"
    }
   ],
   "source": [
    "## This is what you are trying to predict \n",
    "train.cost_category.unique()"
   ]
  },
  {
   "cell_type": "markdown",
   "metadata": {
    "id": "LVqorAAFve9o"
   },
   "source": [
    "### DATATYPE DESCRIPTION AND  STATISTICAL INFORMATION"
   ]
  },
  {
   "cell_type": "code",
   "execution_count": 8,
   "metadata": {
    "colab": {
     "base_uri": "https://localhost:8080/"
    },
    "id": "9LRof82Ive9p",
    "outputId": "7b0ae13b-c468-4deb-af66-6ef75633e7f4"
   },
   "outputs": [
    {
     "name": "stdout",
     "output_type": "stream",
     "text": [
      "<class 'pandas.core.frame.DataFrame'>\n",
      "RangeIndex: 18506 entries, 0 to 18505\n",
      "Data columns (total 21 columns):\n",
      " #   Column                 Non-Null Count  Dtype  \n",
      "---  ------                 --------------  -----  \n",
      " 0   Tour_ID                18506 non-null  object \n",
      " 1   country                18506 non-null  object \n",
      " 2   age_group              18506 non-null  object \n",
      " 3   travel_with            17431 non-null  object \n",
      " 4   total_female           18504 non-null  float64\n",
      " 5   total_male             18500 non-null  float64\n",
      " 6   purpose                18506 non-null  object \n",
      " 7   main_activity          18506 non-null  object \n",
      " 8   info_source            18506 non-null  object \n",
      " 9   tour_arrangement       18506 non-null  object \n",
      " 10  package_transport_int  18506 non-null  object \n",
      " 11  package_accomodation   18506 non-null  object \n",
      " 12  package_food           18506 non-null  object \n",
      " 13  package_transport_tz   18506 non-null  object \n",
      " 14  package_sightseeing    18506 non-null  object \n",
      " 15  package_guided_tour    18506 non-null  object \n",
      " 16  package_insurance      18506 non-null  object \n",
      " 17  night_mainland         18506 non-null  int64  \n",
      " 18  night_zanzibar         18506 non-null  int64  \n",
      " 19  first_trip_tz          18506 non-null  object \n",
      " 20  cost_category          18506 non-null  object \n",
      "dtypes: float64(2), int64(2), object(17)\n",
      "memory usage: 3.0+ MB\n"
     ]
    }
   ],
   "source": [
    "train.info()"
   ]
  },
  {
   "cell_type": "markdown",
   "metadata": {
    "id": "_kRBmWX2ve9r"
   },
   "source": [
    "#### We can see a mixture of object columns and int ones with object columns being the majority ones"
   ]
  },
  {
   "cell_type": "code",
   "execution_count": 9,
   "metadata": {
    "colab": {
     "base_uri": "https://localhost:8080/",
     "height": 175
    },
    "id": "746vey_pve9s",
    "outputId": "faa362c9-b548-4162-c93a-344eb2e6692a"
   },
   "outputs": [
    {
     "data": {
      "text/html": [
       "<div>\n",
       "<style scoped>\n",
       "    .dataframe tbody tr th:only-of-type {\n",
       "        vertical-align: middle;\n",
       "    }\n",
       "\n",
       "    .dataframe tbody tr th {\n",
       "        vertical-align: top;\n",
       "    }\n",
       "\n",
       "    .dataframe thead th {\n",
       "        text-align: right;\n",
       "    }\n",
       "</style>\n",
       "<table border=\"1\" class=\"dataframe\">\n",
       "  <thead>\n",
       "    <tr style=\"text-align: right;\">\n",
       "      <th></th>\n",
       "      <th>count</th>\n",
       "      <th>mean</th>\n",
       "      <th>std</th>\n",
       "      <th>min</th>\n",
       "      <th>25%</th>\n",
       "      <th>50%</th>\n",
       "      <th>75%</th>\n",
       "      <th>max</th>\n",
       "    </tr>\n",
       "  </thead>\n",
       "  <tbody>\n",
       "    <tr>\n",
       "      <th>total_female</th>\n",
       "      <td>18504.0</td>\n",
       "      <td>0.936230</td>\n",
       "      <td>1.215582</td>\n",
       "      <td>0.0</td>\n",
       "      <td>0.0</td>\n",
       "      <td>1.0</td>\n",
       "      <td>1.0</td>\n",
       "      <td>49.0</td>\n",
       "    </tr>\n",
       "    <tr>\n",
       "      <th>total_male</th>\n",
       "      <td>18500.0</td>\n",
       "      <td>0.998757</td>\n",
       "      <td>1.173177</td>\n",
       "      <td>0.0</td>\n",
       "      <td>1.0</td>\n",
       "      <td>1.0</td>\n",
       "      <td>1.0</td>\n",
       "      <td>58.0</td>\n",
       "    </tr>\n",
       "    <tr>\n",
       "      <th>night_mainland</th>\n",
       "      <td>18506.0</td>\n",
       "      <td>9.141576</td>\n",
       "      <td>14.127449</td>\n",
       "      <td>0.0</td>\n",
       "      <td>3.0</td>\n",
       "      <td>6.0</td>\n",
       "      <td>11.0</td>\n",
       "      <td>365.0</td>\n",
       "    </tr>\n",
       "    <tr>\n",
       "      <th>night_zanzibar</th>\n",
       "      <td>18506.0</td>\n",
       "      <td>2.493516</td>\n",
       "      <td>5.275156</td>\n",
       "      <td>0.0</td>\n",
       "      <td>0.0</td>\n",
       "      <td>0.0</td>\n",
       "      <td>4.0</td>\n",
       "      <td>240.0</td>\n",
       "    </tr>\n",
       "  </tbody>\n",
       "</table>\n",
       "</div>"
      ],
      "text/plain": [
       "                  count      mean        std  min  25%  50%   75%    max\n",
       "total_female    18504.0  0.936230   1.215582  0.0  0.0  1.0   1.0   49.0\n",
       "total_male      18500.0  0.998757   1.173177  0.0  1.0  1.0   1.0   58.0\n",
       "night_mainland  18506.0  9.141576  14.127449  0.0  3.0  6.0  11.0  365.0\n",
       "night_zanzibar  18506.0  2.493516   5.275156  0.0  0.0  0.0   4.0  240.0"
      ]
     },
     "execution_count": 9,
     "metadata": {},
     "output_type": "execute_result"
    }
   ],
   "source": [
    "train.describe().T"
   ]
  },
  {
   "cell_type": "markdown",
   "metadata": {
    "id": "g2Daohyyve9s"
   },
   "source": [
    "#### The max is so far away from the 75th percentile in almost all cols, Are those outliers??  Can you deal with them?"
   ]
  },
  {
   "cell_type": "markdown",
   "metadata": {
    "id": "qZB9lU49ve9t"
   },
   "source": [
    "## Missing values"
   ]
  },
  {
   "cell_type": "code",
   "execution_count": 10,
   "metadata": {
    "colab": {
     "base_uri": "https://localhost:8080/",
     "height": 708
    },
    "id": "imZrGZVfve9u",
    "outputId": "18445318-cb96-4d97-e951-45d0583f362e"
   },
   "outputs": [
    {
     "data": {
      "text/html": [
       "<div>\n",
       "<style scoped>\n",
       "    .dataframe tbody tr th:only-of-type {\n",
       "        vertical-align: middle;\n",
       "    }\n",
       "\n",
       "    .dataframe tbody tr th {\n",
       "        vertical-align: top;\n",
       "    }\n",
       "\n",
       "    .dataframe thead th {\n",
       "        text-align: right;\n",
       "    }\n",
       "</style>\n",
       "<table border=\"1\" class=\"dataframe\">\n",
       "  <thead>\n",
       "    <tr style=\"text-align: right;\">\n",
       "      <th></th>\n",
       "      <th>column_name</th>\n",
       "      <th>percent_missing</th>\n",
       "    </tr>\n",
       "  </thead>\n",
       "  <tbody>\n",
       "    <tr>\n",
       "      <th>Tour_ID</th>\n",
       "      <td>Tour_ID</td>\n",
       "      <td>0.000000</td>\n",
       "    </tr>\n",
       "    <tr>\n",
       "      <th>country</th>\n",
       "      <td>country</td>\n",
       "      <td>0.000000</td>\n",
       "    </tr>\n",
       "    <tr>\n",
       "      <th>age_group</th>\n",
       "      <td>age_group</td>\n",
       "      <td>0.000000</td>\n",
       "    </tr>\n",
       "    <tr>\n",
       "      <th>travel_with</th>\n",
       "      <td>travel_with</td>\n",
       "      <td>5.808927</td>\n",
       "    </tr>\n",
       "    <tr>\n",
       "      <th>total_female</th>\n",
       "      <td>total_female</td>\n",
       "      <td>0.010807</td>\n",
       "    </tr>\n",
       "    <tr>\n",
       "      <th>total_male</th>\n",
       "      <td>total_male</td>\n",
       "      <td>0.032422</td>\n",
       "    </tr>\n",
       "    <tr>\n",
       "      <th>purpose</th>\n",
       "      <td>purpose</td>\n",
       "      <td>0.000000</td>\n",
       "    </tr>\n",
       "    <tr>\n",
       "      <th>main_activity</th>\n",
       "      <td>main_activity</td>\n",
       "      <td>0.000000</td>\n",
       "    </tr>\n",
       "    <tr>\n",
       "      <th>info_source</th>\n",
       "      <td>info_source</td>\n",
       "      <td>0.000000</td>\n",
       "    </tr>\n",
       "    <tr>\n",
       "      <th>tour_arrangement</th>\n",
       "      <td>tour_arrangement</td>\n",
       "      <td>0.000000</td>\n",
       "    </tr>\n",
       "    <tr>\n",
       "      <th>package_transport_int</th>\n",
       "      <td>package_transport_int</td>\n",
       "      <td>0.000000</td>\n",
       "    </tr>\n",
       "    <tr>\n",
       "      <th>package_accomodation</th>\n",
       "      <td>package_accomodation</td>\n",
       "      <td>0.000000</td>\n",
       "    </tr>\n",
       "    <tr>\n",
       "      <th>package_food</th>\n",
       "      <td>package_food</td>\n",
       "      <td>0.000000</td>\n",
       "    </tr>\n",
       "    <tr>\n",
       "      <th>package_transport_tz</th>\n",
       "      <td>package_transport_tz</td>\n",
       "      <td>0.000000</td>\n",
       "    </tr>\n",
       "    <tr>\n",
       "      <th>package_sightseeing</th>\n",
       "      <td>package_sightseeing</td>\n",
       "      <td>0.000000</td>\n",
       "    </tr>\n",
       "    <tr>\n",
       "      <th>package_guided_tour</th>\n",
       "      <td>package_guided_tour</td>\n",
       "      <td>0.000000</td>\n",
       "    </tr>\n",
       "    <tr>\n",
       "      <th>package_insurance</th>\n",
       "      <td>package_insurance</td>\n",
       "      <td>0.000000</td>\n",
       "    </tr>\n",
       "    <tr>\n",
       "      <th>night_mainland</th>\n",
       "      <td>night_mainland</td>\n",
       "      <td>0.000000</td>\n",
       "    </tr>\n",
       "    <tr>\n",
       "      <th>night_zanzibar</th>\n",
       "      <td>night_zanzibar</td>\n",
       "      <td>0.000000</td>\n",
       "    </tr>\n",
       "    <tr>\n",
       "      <th>first_trip_tz</th>\n",
       "      <td>first_trip_tz</td>\n",
       "      <td>0.000000</td>\n",
       "    </tr>\n",
       "    <tr>\n",
       "      <th>cost_category</th>\n",
       "      <td>cost_category</td>\n",
       "      <td>0.000000</td>\n",
       "    </tr>\n",
       "  </tbody>\n",
       "</table>\n",
       "</div>"
      ],
      "text/plain": [
       "                                 column_name  percent_missing\n",
       "Tour_ID                              Tour_ID         0.000000\n",
       "country                              country         0.000000\n",
       "age_group                          age_group         0.000000\n",
       "travel_with                      travel_with         5.808927\n",
       "total_female                    total_female         0.010807\n",
       "total_male                        total_male         0.032422\n",
       "purpose                              purpose         0.000000\n",
       "main_activity                  main_activity         0.000000\n",
       "info_source                      info_source         0.000000\n",
       "tour_arrangement            tour_arrangement         0.000000\n",
       "package_transport_int  package_transport_int         0.000000\n",
       "package_accomodation    package_accomodation         0.000000\n",
       "package_food                    package_food         0.000000\n",
       "package_transport_tz    package_transport_tz         0.000000\n",
       "package_sightseeing      package_sightseeing         0.000000\n",
       "package_guided_tour      package_guided_tour         0.000000\n",
       "package_insurance          package_insurance         0.000000\n",
       "night_mainland                night_mainland         0.000000\n",
       "night_zanzibar                night_zanzibar         0.000000\n",
       "first_trip_tz                  first_trip_tz         0.000000\n",
       "cost_category                  cost_category         0.000000"
      ]
     },
     "execution_count": 10,
     "metadata": {},
     "output_type": "execute_result"
    }
   ],
   "source": [
    "#check for missing values\n",
    "percent_missing = train.isnull().sum() * 100 / len(train)\n",
    "missing_value_train = pd.DataFrame({'column_name': train.columns,\n",
    "                                 'percent_missing': percent_missing})\n",
    "missing_value_train"
   ]
  },
  {
   "cell_type": "markdown",
   "metadata": {
    "id": "xs1KhjpCve9u"
   },
   "source": [
    "#### Only few columns with missing values which are travel_with with 5%, total_female 0.01%, total_male 0.03%. There are many ways to feeel this columns, You've to try all and evaluate which is best"
   ]
  },
  {
   "cell_type": "code",
   "execution_count": 11,
   "metadata": {
    "colab": {
     "base_uri": "https://localhost:8080/"
    },
    "id": "mspR60vdve9v",
    "outputId": "76cb7028-e347-472a-cbda-f6d2f61db085"
   },
   "outputs": [
    {
     "data": {
      "text/plain": [
       "Tour_ID                     0\n",
       "country                     0\n",
       "age_group                   0\n",
       "travel_with              1075\n",
       "total_female                2\n",
       "total_male                  6\n",
       "purpose                     0\n",
       "main_activity               0\n",
       "info_source                 0\n",
       "tour_arrangement            0\n",
       "package_transport_int       0\n",
       "package_accomodation        0\n",
       "package_food                0\n",
       "package_transport_tz        0\n",
       "package_sightseeing         0\n",
       "package_guided_tour         0\n",
       "package_insurance           0\n",
       "night_mainland              0\n",
       "night_zanzibar              0\n",
       "first_trip_tz               0\n",
       "cost_category               0\n",
       "dtype: int64"
      ]
     },
     "execution_count": 11,
     "metadata": {},
     "output_type": "execute_result"
    }
   ],
   "source": [
    "train.isnull().sum()"
   ]
  },
  {
   "cell_type": "code",
   "execution_count": 12,
   "metadata": {
    "id": "aJ6UAsp2ve9w"
   },
   "outputs": [],
   "source": [
    "cat_columns = [col for col in train.select_dtypes('object').columns]\n",
    "\n",
    "num_columns = [col for col in train.select_dtypes(['int', 'float']).columns]"
   ]
  },
  {
   "cell_type": "markdown",
   "metadata": {
    "id": "BycTJZnQve9x"
   },
   "source": [
    "### Find a way to fill the missing values"
   ]
  },
  {
   "cell_type": "code",
   "execution_count": 13,
   "metadata": {},
   "outputs": [],
   "source": [
    "## the code should run here \n"
   ]
  },
  {
   "cell_type": "markdown",
   "metadata": {
    "id": "gxNhsfNvve90"
   },
   "source": [
    "## Categorical Data"
   ]
  },
  {
   "cell_type": "code",
   "execution_count": 14,
   "metadata": {
    "colab": {
     "base_uri": "https://localhost:8080/"
    },
    "id": "Deti-5Prve91",
    "outputId": "c5019245-79e5-4281-f17e-a56c3e328001"
   },
   "outputs": [
    {
     "data": {
      "text/plain": [
       "Tour_ID                  18506\n",
       "country                    131\n",
       "age_group                    5\n",
       "travel_with                  6\n",
       "total_female                25\n",
       "total_male                  25\n",
       "purpose                      8\n",
       "main_activity               10\n",
       "info_source                  8\n",
       "tour_arrangement             2\n",
       "package_transport_int        2\n",
       "package_accomodation         2\n",
       "package_food                 2\n",
       "package_transport_tz         2\n",
       "package_sightseeing          2\n",
       "package_guided_tour          2\n",
       "package_insurance            2\n",
       "night_mainland             110\n",
       "night_zanzibar              60\n",
       "first_trip_tz                2\n",
       "cost_category                6\n",
       "dtype: int64"
      ]
     },
     "execution_count": 14,
     "metadata": {},
     "output_type": "execute_result"
    }
   ],
   "source": [
    "# check unique values in dataset\n",
    "train.apply(lambda x: len(x.unique()))"
   ]
  },
  {
   "cell_type": "markdown",
   "metadata": {
    "id": "5iPkgZr3ve91"
   },
   "source": [
    "### EXPLORATORY DATA ANALYSIS"
   ]
  },
  {
   "cell_type": "markdown",
   "metadata": {
    "id": "RNIaMnLqve98"
   },
   "source": [
    "### Age Group"
   ]
  },
  {
   "cell_type": "code",
   "execution_count": 15,
   "metadata": {
    "colab": {
     "base_uri": "https://localhost:8080/",
     "height": 475
    },
    "id": "ea19OcMeve98",
    "outputId": "37491e83-32be-45c0-a658-383304863acc"
   },
   "outputs": [
    {
     "name": "stdout",
     "output_type": "stream",
     "text": [
      "25-44    9047\n",
      "45-64    5648\n",
      "18-24    2222\n",
      "65+      1467\n",
      "<18       122\n",
      "Name: age_group, dtype: int64\n"
     ]
    },
    {
     "data": {
      "text/plain": [
       "Text(0.5, 0, 'age_group')"
      ]
     },
     "execution_count": 15,
     "metadata": {},
     "output_type": "execute_result"
    },
    {
     "data": {
      "image/png": "[encoded data removed]",
      "text/plain": [
       "<Figure size 720x360 with 1 Axes>"
      ]
     },
     "metadata": {
      "needs_background": "light"
     },
     "output_type": "display_data"
    }
   ],
   "source": [
    "print(train['age_group'].value_counts())\n",
    "plt.figure(figsize=(10,5))\n",
    "train['age_group'].value_counts(normalize=True).plot(kind='bar')\n",
    "plt.ylabel('counts')\n",
    "plt.xlabel('age_group')"
   ]
  },
  {
   "cell_type": "markdown",
   "metadata": {
    "id": "jc6zyEpove98"
   },
   "source": [
    "#### 25-44 age group are the majority since they are in the working class and have freedom+ energy.This feature is in contention for a StratifiedGroupKFold as per the description"
   ]
  },
  {
   "cell_type": "markdown",
   "metadata": {
    "id": "OhZ6VLwPve99"
   },
   "source": [
    "### Travel With"
   ]
  },
  {
   "cell_type": "code",
   "execution_count": 16,
   "metadata": {
    "colab": {
     "base_uri": "https://localhost:8080/",
     "height": 606
    },
    "id": "sRxA-wAxve99",
    "outputId": "95ec56b7-47e6-496a-9a9e-e0d2846f3022"
   },
   "outputs": [
    {
     "name": "stdout",
     "output_type": "stream",
     "text": [
      "Alone                           7590\n",
      "With Spouse                     4842\n",
      "With Other Friends/Relatives    3268\n",
      "With Spouse and Children        1193\n",
      "With Children                    538\n",
      "Name: travel_with, dtype: int64\n"
     ]
    },
    {
     "data": {
      "text/plain": [
       "Text(0.5, 0, 'travel_with')"
      ]
     },
     "execution_count": 16,
     "metadata": {},
     "output_type": "execute_result"
    },
    {
     "data": {
      "image/png": "[encoded data removed]",
      "text/plain": [
       "<Figure size 720x360 with 1 Axes>"
      ]
     },
     "metadata": {
      "needs_background": "light"
     },
     "output_type": "display_data"
    }
   ],
   "source": [
    "print(train['travel_with'].value_counts())\n",
    "plt.figure(figsize=(10,5))\n",
    "train['travel_with'].value_counts(normalize=True).plot(kind='bar')\n",
    "plt.ylabel('counts')\n",
    "plt.xlabel('travel_with')"
   ]
  },
  {
   "cell_type": "markdown",
   "metadata": {
    "id": "fVLrQEOuve99"
   },
   "source": [
    "### Purpose"
   ]
  },
  {
   "cell_type": "markdown",
   "metadata": {
    "id": "87ERe8K5ve99"
   },
   "source": [
    "#### Alone the majority, followed by spouse which is understandable"
   ]
  },
  {
   "cell_type": "code",
   "execution_count": 17,
   "metadata": {
    "colab": {
     "base_uri": "https://localhost:8080/",
     "height": 645
    },
    "id": "kdAsKEUeve99",
    "outputId": "af3c9d6e-80f6-4182-8685-42f0c1f31358"
   },
   "outputs": [
    {
     "name": "stdout",
     "output_type": "stream",
     "text": [
      "Leisure and Holidays              11755\n",
      "Visiting Friends and Relatives     2304\n",
      "Business                           2297\n",
      "Meetings and Conference            1179\n",
      "Volunteering                        438\n",
      "Other                               326\n",
      "Scientific and Academic             198\n",
      "Medical                               9\n",
      "Name: purpose, dtype: int64\n"
     ]
    },
    {
     "data": {
      "text/plain": [
       "Text(0.5, 0, 'purpose')"
      ]
     },
     "execution_count": 17,
     "metadata": {},
     "output_type": "execute_result"
    },
    {
     "data": {
      "image/png": "[encoded data removed]",
      "text/plain": [
       "<Figure size 720x360 with 1 Axes>"
      ]
     },
     "metadata": {
      "needs_background": "light"
     },
     "output_type": "display_data"
    }
   ],
   "source": [
    "print(train['purpose'].value_counts())\n",
    "plt.figure(figsize=(10,5))\n",
    "train['purpose'].value_counts(normalize=True).plot(kind='bar')\n",
    "plt.ylabel('counts')\n",
    "plt.xlabel('purpose')"
   ]
  },
  {
   "cell_type": "markdown",
   "metadata": {
    "id": "6FwqDkS_ve9-"
   },
   "source": [
    "#### Understandable with majority being here for leisure and holiday. This feature is also in contention for a Group KFold as per the description"
   ]
  },
  {
   "cell_type": "markdown",
   "metadata": {
    "id": "O0SPeAaEve9-"
   },
   "source": [
    "### Main Activity"
   ]
  },
  {
   "cell_type": "code",
   "execution_count": 18,
   "metadata": {
    "colab": {
     "base_uri": "https://localhost:8080/",
     "height": 655
    },
    "id": "QCQVhW24ve9-",
    "outputId": "f04d36ed-0c40-4d48-e2c4-6e82d6f77aed"
   },
   "outputs": [
    {
     "name": "stdout",
     "output_type": "stream",
     "text": [
      "Widlife Tourism             5988\n",
      "Beach Tourism               4172\n",
      "Wildlife Tourism            2283\n",
      "Conference Tourism          1920\n",
      "Hunting Tourism             1712\n",
      "Cultural Tourism            1444\n",
      "Mountain Climbing            529\n",
      "Business                     280\n",
      "Bird Tourism                 144\n",
      "Diving and Sport Fishing      34\n",
      "Name: main_activity, dtype: int64\n"
     ]
    },
    {
     "data": {
      "text/plain": [
       "Text(0.5, 0, 'main_activity')"
      ]
     },
     "execution_count": 18,
     "metadata": {},
     "output_type": "execute_result"
    },
    {
     "data": {
      "image/png": "[encoded data removed]",
      "text/plain": [
       "<Figure size 720x360 with 1 Axes>"
      ]
     },
     "metadata": {
      "needs_background": "light"
     },
     "output_type": "display_data"
    }
   ],
   "source": [
    "print(train['main_activity'].value_counts())\n",
    "plt.figure(figsize=(10,5))\n",
    "train['main_activity'].value_counts(normalize=True).plot(kind='bar')\n",
    "plt.ylabel('counts')\n",
    "plt.xlabel('main_activity')"
   ]
  },
  {
   "cell_type": "markdown",
   "metadata": {
    "id": "ZuuiOyenve9_"
   },
   "source": [
    "#### Wildlife Tourism is the majority one, since AFrica is well know for Tourism"
   ]
  },
  {
   "cell_type": "markdown",
   "metadata": {
    "id": "aiBR42J-ve9_"
   },
   "source": [
    " ### Info Source"
   ]
  },
  {
   "cell_type": "code",
   "execution_count": 19,
   "metadata": {
    "colab": {
     "base_uri": "https://localhost:8080/",
     "height": 671
    },
    "id": "f6VWwSIfve-A",
    "outputId": "b871653e-32ac-40c8-9b53-fe8aa2714ae0"
   },
   "outputs": [
    {
     "name": "stdout",
     "output_type": "stream",
     "text": [
      "Travel agent, tour operator        8005\n",
      "Friends, relatives                 6077\n",
      "Others                             1368\n",
      "Newspaper, magazines, brochures    1301\n",
      "Radio, TV, Web                     1223\n",
      "Trade fair                          243\n",
      "Tanzania Mission Abroad             197\n",
      "Inflight magazines                   92\n",
      "Name: info_source, dtype: int64\n"
     ]
    },
    {
     "data": {
      "text/plain": [
       "Text(0.5, 0, 'info_source')"
      ]
     },
     "execution_count": 19,
     "metadata": {},
     "output_type": "execute_result"
    },
    {
     "data": {
      "image/png": "[encoded data removed]",
      "text/plain": [
       "<Figure size 720x360 with 1 Axes>"
      ]
     },
     "metadata": {
      "needs_background": "light"
     },
     "output_type": "display_data"
    }
   ],
   "source": [
    "print(train['info_source'].value_counts())\n",
    "plt.figure(figsize=(10,5))\n",
    "train['info_source'].value_counts(normalize=True).plot(kind='bar')\n",
    "plt.ylabel('counts')\n",
    "plt.xlabel('info_source')"
   ]
  },
  {
   "cell_type": "markdown",
   "metadata": {
    "id": "LYX4ieAGve-A"
   },
   "source": [
    "#### Travel agencies are the leading source of info, which is understandable followed by friends "
   ]
  },
  {
   "cell_type": "markdown",
   "metadata": {
    "id": "1uYlJB_Mve-B"
   },
   "source": [
    "### Tour Arrangement"
   ]
  },
  {
   "cell_type": "code",
   "execution_count": 20,
   "metadata": {
    "colab": {
     "base_uri": "https://localhost:8080/",
     "height": 458
    },
    "id": "_84PVg9pve-C",
    "outputId": "2343753c-3a67-40ca-df3d-aec5cf749813"
   },
   "outputs": [
    {
     "name": "stdout",
     "output_type": "stream",
     "text": [
      "Package Tour    9295\n",
      "Independent     9211\n",
      "Name: tour_arrangement, dtype: int64\n"
     ]
    },
    {
     "data": {
      "text/plain": [
       "Text(0.5, 0, 'tour_arrangement')"
      ]
     },
     "execution_count": 20,
     "metadata": {},
     "output_type": "execute_result"
    },
    {
     "data": {
      "image/png": "[encoded data removed]",
      "text/plain": [
       "<Figure size 720x360 with 1 Axes>"
      ]
     },
     "metadata": {
      "needs_background": "light"
     },
     "output_type": "display_data"
    }
   ],
   "source": [
    "\n",
    "print(train['tour_arrangement'].value_counts())\n",
    "plt.figure(figsize=(10,5))\n",
    "train['tour_arrangement'].value_counts(normalize=True).plot(kind='bar')\n",
    "plt.ylabel('counts')\n",
    "plt.xlabel('tour_arrangement')"
   ]
  },
  {
   "cell_type": "markdown",
   "metadata": {
    "id": "ia-WFF7Qve-C"
   },
   "source": [
    "#### Equal distribution here"
   ]
  },
  {
   "cell_type": "markdown",
   "metadata": {
    "id": "gsxroHjsve-C"
   },
   "source": [
    "### Package Transport Int"
   ]
  },
  {
   "cell_type": "code",
   "execution_count": 21,
   "metadata": {
    "colab": {
     "base_uri": "https://localhost:8080/",
     "height": 410
    },
    "id": "5MID1P1Rve-D",
    "outputId": "56146cc9-5104-4f8f-ee1f-38f16c49e6ff"
   },
   "outputs": [
    {
     "name": "stdout",
     "output_type": "stream",
     "text": [
      "No     12238\n",
      "Yes     6268\n",
      "Name: package_transport_int, dtype: int64\n"
     ]
    },
    {
     "data": {
      "text/plain": [
       "Text(0.5, 0, 'package_transport_int')"
      ]
     },
     "execution_count": 21,
     "metadata": {},
     "output_type": "execute_result"
    },
    {
     "data": {
      "image/png": "[encoded data removed]",
      "text/plain": [
       "<Figure size 720x360 with 1 Axes>"
      ]
     },
     "metadata": {
      "needs_background": "light"
     },
     "output_type": "display_data"
    }
   ],
   "source": [
    "\n",
    "print(train['package_transport_int'].value_counts())\n",
    "plt.figure(figsize=(10,5))\n",
    "train['package_transport_int'].value_counts(normalize=True).plot(kind='bar')\n",
    "plt.ylabel('counts')\n",
    "plt.xlabel('package_transport_int')"
   ]
  },
  {
   "cell_type": "markdown",
   "metadata": {
    "id": "9lVwsvYDve-D"
   },
   "source": [
    "#### Majority the international transport wasn't provided"
   ]
  },
  {
   "cell_type": "markdown",
   "metadata": {
    "id": "Twf7eqUqve-D"
   },
   "source": [
    "### Package Accomodation"
   ]
  },
  {
   "cell_type": "code",
   "execution_count": 22,
   "metadata": {
    "colab": {
     "base_uri": "https://localhost:8080/",
     "height": 410
    },
    "id": "Dpe0JLAgve-E",
    "outputId": "185e358d-0ff7-4dca-fcd5-7e6757d8c59d"
   },
   "outputs": [
    {
     "name": "stdout",
     "output_type": "stream",
     "text": [
      "No     9541\n",
      "Yes    8965\n",
      "Name: package_accomodation, dtype: int64\n"
     ]
    },
    {
     "data": {
      "text/plain": [
       "Text(0.5, 0, 'package_accomodation')"
      ]
     },
     "execution_count": 22,
     "metadata": {},
     "output_type": "execute_result"
    },
    {
     "data": {
      "image/png": "[encoded data removed]",
      "text/plain": [
       "<Figure size 720x360 with 1 Axes>"
      ]
     },
     "metadata": {
      "needs_background": "light"
     },
     "output_type": "display_data"
    }
   ],
   "source": [
    "\n",
    "print(train['package_accomodation'].value_counts())\n",
    "plt.figure(figsize=(10,5))\n",
    "train['package_accomodation'].value_counts(normalize=True).plot(kind='bar')\n",
    "plt.ylabel('counts')\n",
    "plt.xlabel('package_accomodation')"
   ]
  },
  {
   "cell_type": "markdown",
   "metadata": {
    "id": "E5oSEngzve-E"
   },
   "source": [
    "#### Majority The accomodation package was not provided although equal distribution"
   ]
  },
  {
   "cell_type": "markdown",
   "metadata": {
    "id": "l_WbxqVTve-E"
   },
   "source": [
    "### Package Food"
   ]
  },
  {
   "cell_type": "code",
   "execution_count": 23,
   "metadata": {
    "colab": {
     "base_uri": "https://localhost:8080/",
     "height": 410
    },
    "id": "cvhra3NBve-F",
    "outputId": "98d77f5c-020d-4165-bcd8-aad330a62bc4"
   },
   "outputs": [
    {
     "name": "stdout",
     "output_type": "stream",
     "text": [
      "No     10143\n",
      "Yes     8363\n",
      "Name: package_food, dtype: int64\n"
     ]
    },
    {
     "data": {
      "text/plain": [
       "Text(0.5, 0, 'package_food')"
      ]
     },
     "execution_count": 23,
     "metadata": {},
     "output_type": "execute_result"
    },
    {
     "data": {
      "image/png": "[encoded data removed]",
      "text/plain": [
       "<Figure size 720x360 with 1 Axes>"
      ]
     },
     "metadata": {
      "needs_background": "light"
     },
     "output_type": "display_data"
    }
   ],
   "source": [
    "\n",
    "print(train['package_food'].value_counts())\n",
    "plt.figure(figsize=(10,5))\n",
    "train['package_food'].value_counts(normalize=True).plot(kind='bar')\n",
    "plt.ylabel('counts')\n",
    "plt.xlabel('package_food')"
   ]
  },
  {
   "cell_type": "markdown",
   "metadata": {
    "id": "MCNQQvWlve-F"
   },
   "source": [
    "#### Majority Package food wasnt provided"
   ]
  },
  {
   "cell_type": "markdown",
   "metadata": {
    "id": "_JxVGxBvve-G"
   },
   "source": [
    "### Package Transport TZ"
   ]
  },
  {
   "cell_type": "code",
   "execution_count": 24,
   "metadata": {
    "colab": {
     "base_uri": "https://localhost:8080/",
     "height": 410
    },
    "id": "A-V8CUJrve-G",
    "outputId": "e1bae08b-96dc-467d-8baf-7a4110cc3b4d"
   },
   "outputs": [
    {
     "name": "stdout",
     "output_type": "stream",
     "text": [
      "No     10873\n",
      "Yes     7633\n",
      "Name: package_transport_tz, dtype: int64\n"
     ]
    },
    {
     "data": {
      "text/plain": [
       "Text(0.5, 0, 'package_transport_tz')"
      ]
     },
     "execution_count": 24,
     "metadata": {},
     "output_type": "execute_result"
    },
    {
     "data": {
      "image/png": "[encoded data removed]",
      "text/plain": [
       "<Figure size 720x360 with 1 Axes>"
      ]
     },
     "metadata": {
      "needs_background": "light"
     },
     "output_type": "display_data"
    }
   ],
   "source": [
    "\n",
    "print(train['package_transport_tz'].value_counts())\n",
    "plt.figure(figsize=(10,5))\n",
    "train['package_transport_tz'].value_counts(normalize=True).plot(kind='bar')\n",
    "plt.ylabel('counts')\n",
    "plt.xlabel('package_transport_tz')"
   ]
  },
  {
   "cell_type": "markdown",
   "metadata": {
    "id": "2LvgX4Dove-H"
   },
   "source": [
    "#### Majority Tanzania transport package was not provided"
   ]
  },
  {
   "cell_type": "markdown",
   "metadata": {
    "id": "_8Yg5f6wve-H"
   },
   "source": [
    "### Package SightSeeing"
   ]
  },
  {
   "cell_type": "code",
   "execution_count": 25,
   "metadata": {
    "colab": {
     "base_uri": "https://localhost:8080/",
     "height": 410
    },
    "id": "HOSy1C5ave-H",
    "outputId": "67eb33b4-7991-4240-fa3d-4caa81493ab6"
   },
   "outputs": [
    {
     "name": "stdout",
     "output_type": "stream",
     "text": [
      "No     12786\n",
      "Yes     5720\n",
      "Name: package_sightseeing, dtype: int64\n"
     ]
    },
    {
     "data": {
      "text/plain": [
       "Text(0.5, 0, 'package_sightseeing')"
      ]
     },
     "execution_count": 25,
     "metadata": {},
     "output_type": "execute_result"
    },
    {
     "data": {
      "image/png": "[encoded data removed]",
      "text/plain": [
       "<Figure size 720x360 with 1 Axes>"
      ]
     },
     "metadata": {
      "needs_background": "light"
     },
     "output_type": "display_data"
    }
   ],
   "source": [
    "\n",
    "print(train['package_sightseeing'].value_counts())\n",
    "plt.figure(figsize=(10,5))\n",
    "train['package_sightseeing'].value_counts(normalize=True).plot(kind='bar')\n",
    "plt.ylabel('counts')\n",
    "plt.xlabel('package_sightseeing')"
   ]
  },
  {
   "cell_type": "markdown",
   "metadata": {
    "id": "4UqqfyKBve-I"
   },
   "source": [
    "#### Majority Package_sightseeing was not provided"
   ]
  },
  {
   "cell_type": "markdown",
   "metadata": {
    "id": "RN23ng-mve-J"
   },
   "source": [
    "### Package Guided Tour"
   ]
  },
  {
   "cell_type": "code",
   "execution_count": 26,
   "metadata": {
    "colab": {
     "base_uri": "https://localhost:8080/",
     "height": 411
    },
    "id": "_KMb43tnve-J",
    "outputId": "8f7d5465-a758-47f0-e7ec-0c84ece7d15e"
   },
   "outputs": [
    {
     "name": "stdout",
     "output_type": "stream",
     "text": [
      "No     12447\n",
      "Yes     6059\n",
      "Name: package_guided_tour, dtype: int64\n"
     ]
    },
    {
     "data": {
      "text/plain": [
       "Text(0.5, 0, 'package_guided_tour')"
      ]
     },
     "execution_count": 26,
     "metadata": {},
     "output_type": "execute_result"
    },
    {
     "data": {
      "image/png": "[encoded data removed]",
      "text/plain": [
       "<Figure size 720x360 with 1 Axes>"
      ]
     },
     "metadata": {
      "needs_background": "light"
     },
     "output_type": "display_data"
    }
   ],
   "source": [
    "\n",
    "print(train['package_guided_tour'].value_counts())\n",
    "plt.figure(figsize=(10,5))\n",
    "train['package_guided_tour'].value_counts(normalize=True).plot(kind='bar')\n",
    "plt.ylabel('counts')\n",
    "plt.xlabel('package_guided_tour')"
   ]
  },
  {
   "cell_type": "markdown",
   "metadata": {
    "id": "TxzKXwRive-K"
   },
   "source": [
    "#### Majority package guided tour wasnt provided"
   ]
  },
  {
   "cell_type": "markdown",
   "metadata": {
    "id": "u1onPdu5ve-K"
   },
   "source": [
    "### Package Insurance"
   ]
  },
  {
   "cell_type": "code",
   "execution_count": 27,
   "metadata": {
    "colab": {
     "base_uri": "https://localhost:8080/",
     "height": 410
    },
    "id": "0saxintlve-L",
    "outputId": "196c5c73-4aa9-48ef-d5f5-f67f9bf259e4"
   },
   "outputs": [
    {
     "name": "stdout",
     "output_type": "stream",
     "text": [
      "No     15809\n",
      "Yes     2697\n",
      "Name: package_insurance, dtype: int64\n"
     ]
    },
    {
     "data": {
      "text/plain": [
       "Text(0.5, 0, 'package_insurance')"
      ]
     },
     "execution_count": 27,
     "metadata": {},
     "output_type": "execute_result"
    },
    {
     "data": {
      "image/png": "[encoded data removed]",
      "text/plain": [
       "<Figure size 720x360 with 1 Axes>"
      ]
     },
     "metadata": {
      "needs_background": "light"
     },
     "output_type": "display_data"
    }
   ],
   "source": [
    "\n",
    "print(train['package_insurance'].value_counts())\n",
    "plt.figure(figsize=(10,5))\n",
    "train['package_insurance'].value_counts(normalize=True).plot(kind='bar')\n",
    "plt.ylabel('counts')\n",
    "plt.xlabel('package_insurance')"
   ]
  },
  {
   "cell_type": "markdown",
   "metadata": {
    "id": "dTCDQqu1ve-M"
   },
   "source": [
    "#### Majority Package_insurance was not provided and there is an imbalance between the two classes"
   ]
  },
  {
   "cell_type": "markdown",
   "metadata": {
    "id": "7t1ZxwNbve-M"
   },
   "source": [
    "### First Trip Tz"
   ]
  },
  {
   "cell_type": "code",
   "execution_count": 28,
   "metadata": {
    "colab": {
     "base_uri": "https://localhost:8080/",
     "height": 410
    },
    "id": "kYF816DNve-M",
    "outputId": "52f22d0e-e546-4858-ae85-b661e2c6b31c"
   },
   "outputs": [
    {
     "name": "stdout",
     "output_type": "stream",
     "text": [
      "Yes    12737\n",
      "No      5769\n",
      "Name: first_trip_tz, dtype: int64\n"
     ]
    },
    {
     "data": {
      "text/plain": [
       "Text(0.5, 0, 'first_trip_tz')"
      ]
     },
     "execution_count": 28,
     "metadata": {},
     "output_type": "execute_result"
    },
    {
     "data": {
      "image/png": "[encoded data removed]",
      "text/plain": [
       "<Figure size 720x360 with 1 Axes>"
      ]
     },
     "metadata": {
      "needs_background": "light"
     },
     "output_type": "display_data"
    }
   ],
   "source": [
    "\n",
    "print(train['first_trip_tz'].value_counts())\n",
    "plt.figure(figsize=(10,5))\n",
    "train['first_trip_tz'].value_counts(normalize=True).plot(kind='bar')\n",
    "plt.ylabel('counts')\n",
    "plt.xlabel('first_trip_tz')"
   ]
  },
  {
   "cell_type": "markdown",
   "metadata": {
    "id": "2hjFD4T5ve-N"
   },
   "source": [
    "#### Majority it was their first time in Tanzania"
   ]
  },
  {
   "cell_type": "markdown",
   "metadata": {
    "id": "1mx-uUX8ve-N"
   },
   "source": [
    "### Now lets look at the Target class and see if its imbalanced"
   ]
  },
  {
   "cell_type": "code",
   "execution_count": 29,
   "metadata": {
    "colab": {
     "base_uri": "https://localhost:8080/",
     "height": 527
    },
    "id": "8hU_OhfQve-N",
    "outputId": "0f139ce1-bc65-4931-d466-2c81b79f2291"
   },
   "outputs": [
    {
     "name": "stdout",
     "output_type": "stream",
     "text": [
      "Normal Cost     5471\n",
      "Higher Cost     4865\n",
      "High Cost       3678\n",
      "Lower Cost      2567\n",
      "Low Cost        1566\n",
      "Highest Cost     359\n",
      "Name: cost_category, dtype: int64\n"
     ]
    },
    {
     "data": {
      "text/plain": [
       "Text(0.5, 0, 'Cost_Category')"
      ]
     },
     "execution_count": 29,
     "metadata": {},
     "output_type": "execute_result"
    },
    {
     "data": {
      "image/png": "[encoded data removed]",
      "text/plain": [
       "<Figure size 720x360 with 1 Axes>"
      ]
     },
     "metadata": {
      "needs_background": "light"
     },
     "output_type": "display_data"
    }
   ],
   "source": [
    "print(train['cost_category'].value_counts())\n",
    "plt.figure(figsize=(10,5))\n",
    "train['cost_category'].value_counts(normalize=True).plot(kind='bar')\n",
    "plt.ylabel('counts')\n",
    "plt.xlabel('Cost_Category')"
   ]
  },
  {
   "cell_type": "markdown",
   "metadata": {
    "id": "WLA1w0ACve-O"
   },
   "source": [
    "#### The last class is imbalanced so find a good cross validation scheme to deal with this or other ways"
   ]
  },
  {
   "cell_type": "markdown",
   "metadata": {
    "id": "cCjF3sLPve-O"
   },
   "source": [
    "### Conclusion Categorical Features \n",
    "* Is the distribution of cat columns fair? if not what can you do? tip clustering\n",
    "* do the distributions make sense ?\n",
    "* Visualize also the numerical columns\n"
   ]
  },
  {
   "cell_type": "markdown",
   "metadata": {
    "id": "kqvv9iozve-O"
   },
   "source": [
    "##  Feature Engineering"
   ]
  },
  {
   "cell_type": "code",
   "execution_count": 30,
   "metadata": {
    "id": "TTqvJVpwve-P"
   },
   "outputs": [],
   "source": [
    "#CONCATENATING BOTH THE TEST AND TRAIN FOR EASY DATA MANIPULATON\n",
    "# The reason we do this is because what transformations you use on train should also go in test data\n",
    "ntrain = train.shape[0]\n",
    "ntest = test.shape[0]\n",
    "data = pd.concat((train, test)).reset_index(drop=True)"
   ]
  },
  {
   "cell_type": "code",
   "execution_count": 31,
   "metadata": {
    "colab": {
     "base_uri": "https://localhost:8080/"
    },
    "id": "BMmH4Uwive-P",
    "outputId": "389796ee-63e5-4345-bed8-14b6871587b3"
   },
   "outputs": [
    {
     "data": {
      "text/plain": [
       "Index(['Tour_ID', 'country', 'age_group', 'travel_with', 'total_female',\n",
       "       'total_male', 'purpose', 'main_activity', 'info_source',\n",
       "       'tour_arrangement', 'package_transport_int', 'package_accomodation',\n",
       "       'package_food', 'package_transport_tz', 'package_sightseeing',\n",
       "       'package_guided_tour', 'package_insurance', 'night_mainland',\n",
       "       'night_zanzibar', 'first_trip_tz', 'cost_category'],\n",
       "      dtype='object')"
      ]
     },
     "execution_count": 31,
     "metadata": {},
     "output_type": "execute_result"
    }
   ],
   "source": [
    "data.columns"
   ]
  },
  {
   "cell_type": "markdown",
   "metadata": {
    "id": "_HJDgKm7ve-Q"
   },
   "source": [
    "### Creatively come up with new features or cluster the existing ones\n",
    "* This iss where the real work is in\n",
    "* your creativity matters here?\n",
    "* Read about how you can interact features to come up with new features e.g add the males and females to form a new column called total people"
   ]
  },
  {
   "cell_type": "code",
   "execution_count": null,
   "metadata": {
    "colab": {
     "base_uri": "https://localhost:8080/"
    },
    "id": "xFp3mXT7ve-Q",
    "outputId": "4a3f4c99-dbab-44e8-c811-ffa8ad0c8ccf"
   },
   "outputs": [],
   "source": []
  },
  {
   "cell_type": "markdown",
   "metadata": {
    "id": "MOufeoGYve-d"
   },
   "source": [
    "### Pandas Get Dummies\n",
    "* find the difference between this and label encoding"
   ]
  },
  {
   "cell_type": "code",
   "execution_count": 32,
   "metadata": {
    "colab": {
     "base_uri": "https://localhost:8080/",
     "height": 376
    },
    "id": "un-uMWY-ve-e",
    "outputId": "674299a3-d88c-41bf-9ca5-479b96eeaf51"
   },
   "outputs": [
    {
     "data": {
      "text/html": [
       "<div>\n",
       "<style scoped>\n",
       "    .dataframe tbody tr th:only-of-type {\n",
       "        vertical-align: middle;\n",
       "    }\n",
       "\n",
       "    .dataframe tbody tr th {\n",
       "        vertical-align: top;\n",
       "    }\n",
       "\n",
       "    .dataframe thead th {\n",
       "        text-align: right;\n",
       "    }\n",
       "</style>\n",
       "<table border=\"1\" class=\"dataframe\">\n",
       "  <thead>\n",
       "    <tr style=\"text-align: right;\">\n",
       "      <th></th>\n",
       "      <th>Tour_ID</th>\n",
       "      <th>country</th>\n",
       "      <th>travel_with</th>\n",
       "      <th>total_female</th>\n",
       "      <th>total_male</th>\n",
       "      <th>purpose</th>\n",
       "      <th>info_source</th>\n",
       "      <th>tour_arrangement</th>\n",
       "      <th>package_accomodation</th>\n",
       "      <th>package_food</th>\n",
       "      <th>...</th>\n",
       "      <th>main_activity_Cultural Tourism</th>\n",
       "      <th>main_activity_Diving and Sport Fishing</th>\n",
       "      <th>main_activity_Hunting Tourism</th>\n",
       "      <th>main_activity_Mountain Climbing</th>\n",
       "      <th>main_activity_Widlife Tourism</th>\n",
       "      <th>main_activity_Wildlife Tourism</th>\n",
       "      <th>package_transport_int_No</th>\n",
       "      <th>package_transport_int_Yes</th>\n",
       "      <th>first_trip_tz_No</th>\n",
       "      <th>first_trip_tz_Yes</th>\n",
       "    </tr>\n",
       "  </thead>\n",
       "  <tbody>\n",
       "    <tr>\n",
       "      <th>0</th>\n",
       "      <td>tour_id1hffseyw</td>\n",
       "      <td>ITALY</td>\n",
       "      <td>With Children</td>\n",
       "      <td>0.0</td>\n",
       "      <td>2.0</td>\n",
       "      <td>Visiting Friends and Relatives</td>\n",
       "      <td>Friends, relatives</td>\n",
       "      <td>Package Tour</td>\n",
       "      <td>Yes</td>\n",
       "      <td>Yes</td>\n",
       "      <td>...</td>\n",
       "      <td>0</td>\n",
       "      <td>0</td>\n",
       "      <td>0</td>\n",
       "      <td>0</td>\n",
       "      <td>0</td>\n",
       "      <td>0</td>\n",
       "      <td>0</td>\n",
       "      <td>1</td>\n",
       "      <td>0</td>\n",
       "      <td>1</td>\n",
       "    </tr>\n",
       "    <tr>\n",
       "      <th>1</th>\n",
       "      <td>tour_idnacd7zag</td>\n",
       "      <td>UNITED KINGDOM</td>\n",
       "      <td>With Spouse</td>\n",
       "      <td>1.0</td>\n",
       "      <td>1.0</td>\n",
       "      <td>Leisure and Holidays</td>\n",
       "      <td>Travel agent, tour operator</td>\n",
       "      <td>Package Tour</td>\n",
       "      <td>Yes</td>\n",
       "      <td>Yes</td>\n",
       "      <td>...</td>\n",
       "      <td>0</td>\n",
       "      <td>0</td>\n",
       "      <td>0</td>\n",
       "      <td>0</td>\n",
       "      <td>0</td>\n",
       "      <td>1</td>\n",
       "      <td>0</td>\n",
       "      <td>1</td>\n",
       "      <td>0</td>\n",
       "      <td>1</td>\n",
       "    </tr>\n",
       "    <tr>\n",
       "      <th>2</th>\n",
       "      <td>tour_id62vz7e71</td>\n",
       "      <td>UNITED STATES OF AMERICA</td>\n",
       "      <td>With Spouse</td>\n",
       "      <td>1.0</td>\n",
       "      <td>1.0</td>\n",
       "      <td>Leisure and Holidays</td>\n",
       "      <td>Travel agent, tour operator</td>\n",
       "      <td>Package Tour</td>\n",
       "      <td>Yes</td>\n",
       "      <td>Yes</td>\n",
       "      <td>...</td>\n",
       "      <td>0</td>\n",
       "      <td>0</td>\n",
       "      <td>0</td>\n",
       "      <td>0</td>\n",
       "      <td>1</td>\n",
       "      <td>0</td>\n",
       "      <td>0</td>\n",
       "      <td>1</td>\n",
       "      <td>0</td>\n",
       "      <td>1</td>\n",
       "    </tr>\n",
       "  </tbody>\n",
       "</table>\n",
       "<p>3 rows × 36 columns</p>\n",
       "</div>"
      ],
      "text/plain": [
       "           Tour_ID                   country    travel_with  total_female  \\\n",
       "0  tour_id1hffseyw                     ITALY  With Children           0.0   \n",
       "1  tour_idnacd7zag            UNITED KINGDOM    With Spouse           1.0   \n",
       "2  tour_id62vz7e71  UNITED STATES OF AMERICA    With Spouse           1.0   \n",
       "\n",
       "   total_male                         purpose                  info_source  \\\n",
       "0         2.0  Visiting Friends and Relatives           Friends, relatives   \n",
       "1         1.0            Leisure and Holidays  Travel agent, tour operator   \n",
       "2         1.0            Leisure and Holidays  Travel agent, tour operator   \n",
       "\n",
       "  tour_arrangement package_accomodation package_food  ...  \\\n",
       "0     Package Tour                  Yes          Yes  ...   \n",
       "1     Package Tour                  Yes          Yes  ...   \n",
       "2     Package Tour                  Yes          Yes  ...   \n",
       "\n",
       "  main_activity_Cultural Tourism main_activity_Diving and Sport Fishing  \\\n",
       "0                              0                                      0   \n",
       "1                              0                                      0   \n",
       "2                              0                                      0   \n",
       "\n",
       "  main_activity_Hunting Tourism main_activity_Mountain Climbing  \\\n",
       "0                             0                               0   \n",
       "1                             0                               0   \n",
       "2                             0                               0   \n",
       "\n",
       "   main_activity_Widlife Tourism  main_activity_Wildlife Tourism  \\\n",
       "0                              0                               0   \n",
       "1                              0                               1   \n",
       "2                              1                               0   \n",
       "\n",
       "  package_transport_int_No  package_transport_int_Yes  first_trip_tz_No  \\\n",
       "0                        0                          1                 0   \n",
       "1                        0                          1                 0   \n",
       "2                        0                          1                 0   \n",
       "\n",
       "   first_trip_tz_Yes  \n",
       "0                  1  \n",
       "1                  1  \n",
       "2                  1  \n",
       "\n",
       "[3 rows x 36 columns]"
      ]
     },
     "execution_count": 32,
     "metadata": {},
     "output_type": "execute_result"
    }
   ],
   "source": [
    "data = pd.get_dummies(data, columns = [\n",
    " 'age_group','main_activity','package_transport_int','first_trip_tz',\n",
    "])\n",
    "data.head(3)"
   ]
  },
  {
   "cell_type": "markdown",
   "metadata": {
    "id": "xmgGlLArve-g"
   },
   "source": [
    "###  Label Encoding"
   ]
  },
  {
   "cell_type": "code",
   "execution_count": 33,
   "metadata": {
    "id": "2iOWYhuove-g"
   },
   "outputs": [],
   "source": [
    "from sklearn.preprocessing import LabelEncoder\n",
    "le = LabelEncoder()\n",
    "\n",
    "le_columns = [col for col in data.select_dtypes('object').columns if col not in ['Tour_ID','cost_category']]\n",
    "\n",
    "for col in le_columns:\n",
    "   data[col] = le.fit_transform(data[col])"
   ]
  },
  {
   "cell_type": "code",
   "execution_count": 34,
   "metadata": {
    "colab": {
     "base_uri": "https://localhost:8080/",
     "height": 300
    },
    "id": "65m1YjVcve-g",
    "outputId": "36ba5de8-9827-4523-a942-bfd48d42e35c"
   },
   "outputs": [
    {
     "data": {
      "text/html": [
       "<div>\n",
       "<style scoped>\n",
       "    .dataframe tbody tr th:only-of-type {\n",
       "        vertical-align: middle;\n",
       "    }\n",
       "\n",
       "    .dataframe tbody tr th {\n",
       "        vertical-align: top;\n",
       "    }\n",
       "\n",
       "    .dataframe thead th {\n",
       "        text-align: right;\n",
       "    }\n",
       "</style>\n",
       "<table border=\"1\" class=\"dataframe\">\n",
       "  <thead>\n",
       "    <tr style=\"text-align: right;\">\n",
       "      <th></th>\n",
       "      <th>Tour_ID</th>\n",
       "      <th>country</th>\n",
       "      <th>travel_with</th>\n",
       "      <th>total_female</th>\n",
       "      <th>total_male</th>\n",
       "      <th>purpose</th>\n",
       "      <th>info_source</th>\n",
       "      <th>tour_arrangement</th>\n",
       "      <th>package_accomodation</th>\n",
       "      <th>package_food</th>\n",
       "      <th>...</th>\n",
       "      <th>main_activity_Cultural Tourism</th>\n",
       "      <th>main_activity_Diving and Sport Fishing</th>\n",
       "      <th>main_activity_Hunting Tourism</th>\n",
       "      <th>main_activity_Mountain Climbing</th>\n",
       "      <th>main_activity_Widlife Tourism</th>\n",
       "      <th>main_activity_Wildlife Tourism</th>\n",
       "      <th>package_transport_int_No</th>\n",
       "      <th>package_transport_int_Yes</th>\n",
       "      <th>first_trip_tz_No</th>\n",
       "      <th>first_trip_tz_Yes</th>\n",
       "    </tr>\n",
       "  </thead>\n",
       "  <tbody>\n",
       "    <tr>\n",
       "      <th>0</th>\n",
       "      <td>tour_id1hffseyw</td>\n",
       "      <td>62</td>\n",
       "      <td>1</td>\n",
       "      <td>0.0</td>\n",
       "      <td>2.0</td>\n",
       "      <td>6</td>\n",
       "      <td>0</td>\n",
       "      <td>1</td>\n",
       "      <td>1</td>\n",
       "      <td>1</td>\n",
       "      <td>...</td>\n",
       "      <td>0</td>\n",
       "      <td>0</td>\n",
       "      <td>0</td>\n",
       "      <td>0</td>\n",
       "      <td>0</td>\n",
       "      <td>0</td>\n",
       "      <td>0</td>\n",
       "      <td>1</td>\n",
       "      <td>0</td>\n",
       "      <td>1</td>\n",
       "    </tr>\n",
       "    <tr>\n",
       "      <th>1</th>\n",
       "      <td>tour_idnacd7zag</td>\n",
       "      <td>133</td>\n",
       "      <td>3</td>\n",
       "      <td>1.0</td>\n",
       "      <td>1.0</td>\n",
       "      <td>1</td>\n",
       "      <td>7</td>\n",
       "      <td>1</td>\n",
       "      <td>1</td>\n",
       "      <td>1</td>\n",
       "      <td>...</td>\n",
       "      <td>0</td>\n",
       "      <td>0</td>\n",
       "      <td>0</td>\n",
       "      <td>0</td>\n",
       "      <td>0</td>\n",
       "      <td>1</td>\n",
       "      <td>0</td>\n",
       "      <td>1</td>\n",
       "      <td>0</td>\n",
       "      <td>1</td>\n",
       "    </tr>\n",
       "    <tr>\n",
       "      <th>2</th>\n",
       "      <td>tour_id62vz7e71</td>\n",
       "      <td>134</td>\n",
       "      <td>3</td>\n",
       "      <td>1.0</td>\n",
       "      <td>1.0</td>\n",
       "      <td>1</td>\n",
       "      <td>7</td>\n",
       "      <td>1</td>\n",
       "      <td>1</td>\n",
       "      <td>1</td>\n",
       "      <td>...</td>\n",
       "      <td>0</td>\n",
       "      <td>0</td>\n",
       "      <td>0</td>\n",
       "      <td>0</td>\n",
       "      <td>1</td>\n",
       "      <td>0</td>\n",
       "      <td>0</td>\n",
       "      <td>1</td>\n",
       "      <td>0</td>\n",
       "      <td>1</td>\n",
       "    </tr>\n",
       "    <tr>\n",
       "      <th>3</th>\n",
       "      <td>tour_idrc76tzix</td>\n",
       "      <td>106</td>\n",
       "      <td>4</td>\n",
       "      <td>3.0</td>\n",
       "      <td>1.0</td>\n",
       "      <td>1</td>\n",
       "      <td>4</td>\n",
       "      <td>0</td>\n",
       "      <td>0</td>\n",
       "      <td>0</td>\n",
       "      <td>...</td>\n",
       "      <td>0</td>\n",
       "      <td>0</td>\n",
       "      <td>0</td>\n",
       "      <td>0</td>\n",
       "      <td>0</td>\n",
       "      <td>0</td>\n",
       "      <td>1</td>\n",
       "      <td>0</td>\n",
       "      <td>1</td>\n",
       "      <td>0</td>\n",
       "    </tr>\n",
       "    <tr>\n",
       "      <th>4</th>\n",
       "      <td>tour_idn723m0n9</td>\n",
       "      <td>134</td>\n",
       "      <td>0</td>\n",
       "      <td>0.0</td>\n",
       "      <td>1.0</td>\n",
       "      <td>1</td>\n",
       "      <td>7</td>\n",
       "      <td>1</td>\n",
       "      <td>1</td>\n",
       "      <td>1</td>\n",
       "      <td>...</td>\n",
       "      <td>0</td>\n",
       "      <td>0</td>\n",
       "      <td>0</td>\n",
       "      <td>0</td>\n",
       "      <td>1</td>\n",
       "      <td>0</td>\n",
       "      <td>0</td>\n",
       "      <td>1</td>\n",
       "      <td>0</td>\n",
       "      <td>1</td>\n",
       "    </tr>\n",
       "  </tbody>\n",
       "</table>\n",
       "<p>5 rows × 36 columns</p>\n",
       "</div>"
      ],
      "text/plain": [
       "           Tour_ID  country  travel_with  total_female  total_male  purpose  \\\n",
       "0  tour_id1hffseyw       62            1           0.0         2.0        6   \n",
       "1  tour_idnacd7zag      133            3           1.0         1.0        1   \n",
       "2  tour_id62vz7e71      134            3           1.0         1.0        1   \n",
       "3  tour_idrc76tzix      106            4           3.0         1.0        1   \n",
       "4  tour_idn723m0n9      134            0           0.0         1.0        1   \n",
       "\n",
       "   info_source  tour_arrangement  package_accomodation  package_food  ...  \\\n",
       "0            0                 1                     1             1  ...   \n",
       "1            7                 1                     1             1  ...   \n",
       "2            7                 1                     1             1  ...   \n",
       "3            4                 0                     0             0  ...   \n",
       "4            7                 1                     1             1  ...   \n",
       "\n",
       "   main_activity_Cultural Tourism  main_activity_Diving and Sport Fishing  \\\n",
       "0                               0                                       0   \n",
       "1                               0                                       0   \n",
       "2                               0                                       0   \n",
       "3                               0                                       0   \n",
       "4                               0                                       0   \n",
       "\n",
       "   main_activity_Hunting Tourism  main_activity_Mountain Climbing  \\\n",
       "0                              0                                0   \n",
       "1                              0                                0   \n",
       "2                              0                                0   \n",
       "3                              0                                0   \n",
       "4                              0                                0   \n",
       "\n",
       "   main_activity_Widlife Tourism  main_activity_Wildlife Tourism  \\\n",
       "0                              0                               0   \n",
       "1                              0                               1   \n",
       "2                              1                               0   \n",
       "3                              0                               0   \n",
       "4                              1                               0   \n",
       "\n",
       "  package_transport_int_No  package_transport_int_Yes  first_trip_tz_No  \\\n",
       "0                        0                          1                 0   \n",
       "1                        0                          1                 0   \n",
       "2                        0                          1                 0   \n",
       "3                        1                          0                 1   \n",
       "4                        0                          1                 0   \n",
       "\n",
       "   first_trip_tz_Yes  \n",
       "0                  1  \n",
       "1                  1  \n",
       "2                  1  \n",
       "3                  0  \n",
       "4                  1  \n",
       "\n",
       "[5 rows x 36 columns]"
      ]
     },
     "execution_count": 34,
     "metadata": {},
     "output_type": "execute_result"
    }
   ],
   "source": [
    "data.head()"
   ]
  },
  {
   "cell_type": "markdown",
   "metadata": {
    "id": "ttsOO8n1ve-j"
   },
   "source": [
    "## Separate the combined dataset"
   ]
  },
  {
   "cell_type": "code",
   "execution_count": 35,
   "metadata": {
    "colab": {
     "base_uri": "https://localhost:8080/"
    },
    "id": "5dyUlCC6ve-j",
    "outputId": "1530a4ea-003a-4f68-c59e-2d5f45e85548"
   },
   "outputs": [
    {
     "data": {
      "text/plain": [
       "((18506, 36), (6169, 36))"
      ]
     },
     "execution_count": 35,
     "metadata": {},
     "output_type": "execute_result"
    }
   ],
   "source": [
    "# Separate train and test data from the combined dataframe\n",
    "train_df = data[:ntrain]\n",
    "test_df = data[ntrain:]\n",
    "ID = test_df['Tour_ID']\n",
    "# Check the shapes of the split dataset\n",
    "train_df.shape, test_df.shape"
   ]
  },
  {
   "cell_type": "markdown",
   "metadata": {
    "id": "NWZuvekPve-j"
   },
   "source": [
    "### Label Encode the target"
   ]
  },
  {
   "cell_type": "code",
   "execution_count": 36,
   "metadata": {
    "id": "CK8qHGm1ve-j"
   },
   "outputs": [],
   "source": [
    "\n",
    "le_columns = ['cost_category']\n",
    "\n",
    "for col in le_columns:\n",
    "   train_df[col] = le.fit_transform(train_df[col])"
   ]
  },
  {
   "cell_type": "markdown",
   "metadata": {
    "id": "m7YbDItjve-j"
   },
   "source": [
    "## Correlation"
   ]
  },
  {
   "cell_type": "markdown",
   "metadata": {
    "id": "dB9CwkwQve-k"
   },
   "source": [
    "### 1. Negative correlation with the target"
   ]
  },
  {
   "cell_type": "code",
   "execution_count": 37,
   "metadata": {
    "colab": {
     "base_uri": "https://localhost:8080/"
    },
    "id": "wLQZ27uqve-k",
    "outputId": "787af91e-e927-4df1-fc4c-008fdc854118"
   },
   "outputs": [
    {
     "data": {
      "text/plain": [
       "tour_arrangement                   -0.557917\n",
       "package_accomodation               -0.542568\n",
       "package_food                       -0.515487\n",
       "package_transport_tz               -0.474691\n",
       "package_transport_int_Yes          -0.452349\n",
       "package_guided_tour                -0.401703\n",
       "package_sightseeing                -0.379163\n",
       "info_source                        -0.346386\n",
       "package_insurance                  -0.272768\n",
       "first_trip_tz_Yes                  -0.266152\n",
       "travel_with                        -0.257214\n",
       "total_female                       -0.191706\n",
       "main_activity_Widlife Tourism      -0.167139\n",
       "night_zanzibar                     -0.140216\n",
       "age_group_65+                      -0.135855\n",
       "age_group_45-64                    -0.111681\n",
       "total_male                         -0.089196\n",
       "main_activity_Conference Tourism   -0.043799\n",
       "main_activity_Wildlife Tourism     -0.021305\n",
       "age_group_<18                      -0.013270\n",
       "main_activity_Beach Tourism        -0.010943\n",
       "main_activity_Business             -0.009017\n",
       "Name: cost_category, dtype: float64"
      ]
     },
     "execution_count": 37,
     "metadata": {},
     "output_type": "execute_result"
    }
   ],
   "source": [
    "train_df.corr()['cost_category'].sort_values()[train_df.corr()['cost_category'].sort_values() < 0]"
   ]
  },
  {
   "cell_type": "markdown",
   "metadata": {
    "id": "lrXPzJnMve-k"
   },
   "source": [
    "### 2. Positive correlation with the Target"
   ]
  },
  {
   "cell_type": "code",
   "execution_count": 38,
   "metadata": {
    "colab": {
     "base_uri": "https://localhost:8080/"
    },
    "id": "nQO07GMfve-l",
    "outputId": "0856e37c-2970-429b-92cc-6ca364ce5bc7"
   },
   "outputs": [
    {
     "data": {
      "text/plain": [
       "main_activity_Diving and Sport Fishing    0.000623\n",
       "main_activity_Bird Tourism                0.020955\n",
       "night_mainland                            0.024160\n",
       "country                                   0.087799\n",
       "age_group_18-24                           0.091153\n",
       "main_activity_Mountain Climbing           0.101942\n",
       "main_activity_Cultural Tourism            0.109450\n",
       "age_group_25-44                           0.119182\n",
       "main_activity_Hunting Tourism             0.193338\n",
       "purpose                                   0.214525\n",
       "first_trip_tz_No                          0.266152\n",
       "package_transport_int_No                  0.452349\n",
       "cost_category                             1.000000\n",
       "Name: cost_category, dtype: float64"
      ]
     },
     "execution_count": 38,
     "metadata": {},
     "output_type": "execute_result"
    }
   ],
   "source": [
    "train_df.corr()['cost_category'].sort_values()[train_df.corr()['cost_category'].sort_values() > 0]"
   ]
  },
  {
   "cell_type": "markdown",
   "metadata": {
    "id": "ydsKzSgnve-l"
   },
   "source": [
    "## Feature Selection"
   ]
  },
  {
   "cell_type": "code",
   "execution_count": 39,
   "metadata": {
    "colab": {
     "base_uri": "https://localhost:8080/"
    },
    "id": "mV0bBfrkve-l",
    "outputId": "6a2c509b-ea6a-491a-e183-e66a16187e06"
   },
   "outputs": [
    {
     "name": "stdout",
     "output_type": "stream",
     "text": [
      "Learning rate set to 0.114012\n",
      "0:\tlearn: 1.6778158\ttest: 1.6778158\ttest1: 1.6791783\tbest: 1.6791783 (0)\ttotal: 64.6ms\tremaining: 1m 4s\n",
      "200:\tlearn: 0.9814171\ttest: 0.9814171\ttest1: 1.0833089\tbest: 1.0827375 (192)\ttotal: 2.54s\tremaining: 10.1s\n",
      "400:\tlearn: 0.8984243\ttest: 0.8984243\ttest1: 1.0840378\tbest: 1.0801786 (253)\ttotal: 5.03s\tremaining: 7.51s\n",
      "600:\tlearn: 0.8335666\ttest: 0.8335666\ttest1: 1.0897661\tbest: 1.0801786 (253)\ttotal: 7.53s\tremaining: 5s\n",
      "Stopped by overfitting detector  (500 iterations wait)\n",
      "\n",
      "bestTest = 1.080178592\n",
      "bestIteration = 253\n",
      "\n",
      "Shrink model to first 254 iterations.\n"
     ]
    },
    {
     "data": {
      "text/plain": [
       "<catboost.core.CatBoostClassifier at 0x7f275e0ad760>"
      ]
     },
     "execution_count": 39,
     "metadata": {},
     "output_type": "execute_result"
    }
   ],
   "source": [
    "# Select main columns to be used in training\n",
    "main_cols = train_df.columns.difference(['Tour_ID','cost_category',\n",
    " 'package_accomodation','tour_arrangement','travel_with',\n",
    " 'package_food'])\n",
    "X = train_df[main_cols]\n",
    "y = train_df.cost_category\n",
    "\n",
    "model = catt.CatBoostClassifier(random_state = 42,)\n",
    "\n",
    "import random\n",
    "random.seed(123)\n",
    "\n",
    "train_features, valid_features, train_y, valid_y = train_test_split(X, y, test_size = 0.18, stratify = y,random_state = 47)\n",
    "model.fit(train_features, train_y,eval_set = [(train_features, train_y),(valid_features,valid_y)], early_stopping_rounds = 500, \n",
    "          verbose = 200)"
   ]
  },
  {
   "cell_type": "markdown",
   "metadata": {},
   "source": [
    "#### Seee the best test above is what we are trying to improve, reduce it to the lowest you can, and thats how you become a winner\n",
    "* Goodluck "
   ]
  },
  {
   "cell_type": "markdown",
   "metadata": {
    "id": "MwZPkv6Dve-m"
   },
   "source": [
    "## Visualize the Feature Importance\n",
    "* How are those features affecting the model from the most important to the least important"
   ]
  },
  {
   "cell_type": "code",
   "execution_count": 40,
   "metadata": {
    "colab": {
     "base_uri": "https://localhost:8080/",
     "height": 1000
    },
    "id": "J3wyJSntve-m",
    "outputId": "95657e6f-e310-4ee0-ef38-5e7cf381f27d"
   },
   "outputs": [
    {
     "data": {
      "text/html": [
       "<div>\n",
       "<style scoped>\n",
       "    .dataframe tbody tr th:only-of-type {\n",
       "        vertical-align: middle;\n",
       "    }\n",
       "\n",
       "    .dataframe tbody tr th {\n",
       "        vertical-align: top;\n",
       "    }\n",
       "\n",
       "    .dataframe thead th {\n",
       "        text-align: right;\n",
       "    }\n",
       "</style>\n",
       "<table border=\"1\" class=\"dataframe\">\n",
       "  <thead>\n",
       "    <tr style=\"text-align: right;\">\n",
       "      <th></th>\n",
       "      <th>feature_name</th>\n",
       "      <th>varimp (%)</th>\n",
       "    </tr>\n",
       "  </thead>\n",
       "  <tbody>\n",
       "    <tr>\n",
       "      <th>19</th>\n",
       "      <td>night_mainland</td>\n",
       "      <td>13.291133</td>\n",
       "    </tr>\n",
       "    <tr>\n",
       "      <th>5</th>\n",
       "      <td>country</td>\n",
       "      <td>12.044846</td>\n",
       "    </tr>\n",
       "    <tr>\n",
       "      <th>20</th>\n",
       "      <td>night_zanzibar</td>\n",
       "      <td>9.58152</td>\n",
       "    </tr>\n",
       "    <tr>\n",
       "      <th>28</th>\n",
       "      <td>total_female</td>\n",
       "      <td>8.685326</td>\n",
       "    </tr>\n",
       "    <tr>\n",
       "      <th>29</th>\n",
       "      <td>total_male</td>\n",
       "      <td>6.71654</td>\n",
       "    </tr>\n",
       "    <tr>\n",
       "      <th>27</th>\n",
       "      <td>purpose</td>\n",
       "      <td>6.526994</td>\n",
       "    </tr>\n",
       "    <tr>\n",
       "      <th>26</th>\n",
       "      <td>package_transport_tz</td>\n",
       "      <td>6.260159</td>\n",
       "    </tr>\n",
       "    <tr>\n",
       "      <th>24</th>\n",
       "      <td>package_transport_int_No</td>\n",
       "      <td>5.709636</td>\n",
       "    </tr>\n",
       "    <tr>\n",
       "      <th>8</th>\n",
       "      <td>info_source</td>\n",
       "      <td>4.780946</td>\n",
       "    </tr>\n",
       "    <tr>\n",
       "      <th>25</th>\n",
       "      <td>package_transport_int_Yes</td>\n",
       "      <td>4.258155</td>\n",
       "    </tr>\n",
       "    <tr>\n",
       "      <th>21</th>\n",
       "      <td>package_guided_tour</td>\n",
       "      <td>2.883858</td>\n",
       "    </tr>\n",
       "    <tr>\n",
       "      <th>1</th>\n",
       "      <td>age_group_25-44</td>\n",
       "      <td>2.324005</td>\n",
       "    </tr>\n",
       "    <tr>\n",
       "      <th>23</th>\n",
       "      <td>package_sightseeing</td>\n",
       "      <td>2.237197</td>\n",
       "    </tr>\n",
       "    <tr>\n",
       "      <th>17</th>\n",
       "      <td>main_activity_Widlife Tourism</td>\n",
       "      <td>2.208166</td>\n",
       "    </tr>\n",
       "    <tr>\n",
       "      <th>0</th>\n",
       "      <td>age_group_18-24</td>\n",
       "      <td>2.085753</td>\n",
       "    </tr>\n",
       "    <tr>\n",
       "      <th>12</th>\n",
       "      <td>main_activity_Conference Tourism</td>\n",
       "      <td>1.568981</td>\n",
       "    </tr>\n",
       "    <tr>\n",
       "      <th>9</th>\n",
       "      <td>main_activity_Beach Tourism</td>\n",
       "      <td>1.38955</td>\n",
       "    </tr>\n",
       "    <tr>\n",
       "      <th>7</th>\n",
       "      <td>first_trip_tz_Yes</td>\n",
       "      <td>1.355561</td>\n",
       "    </tr>\n",
       "    <tr>\n",
       "      <th>2</th>\n",
       "      <td>age_group_45-64</td>\n",
       "      <td>1.334409</td>\n",
       "    </tr>\n",
       "    <tr>\n",
       "      <th>6</th>\n",
       "      <td>first_trip_tz_No</td>\n",
       "      <td>0.798162</td>\n",
       "    </tr>\n",
       "    <tr>\n",
       "      <th>3</th>\n",
       "      <td>age_group_65+</td>\n",
       "      <td>0.789737</td>\n",
       "    </tr>\n",
       "    <tr>\n",
       "      <th>15</th>\n",
       "      <td>main_activity_Hunting Tourism</td>\n",
       "      <td>0.772322</td>\n",
       "    </tr>\n",
       "    <tr>\n",
       "      <th>22</th>\n",
       "      <td>package_insurance</td>\n",
       "      <td>0.722785</td>\n",
       "    </tr>\n",
       "    <tr>\n",
       "      <th>18</th>\n",
       "      <td>main_activity_Wildlife Tourism</td>\n",
       "      <td>0.711752</td>\n",
       "    </tr>\n",
       "    <tr>\n",
       "      <th>13</th>\n",
       "      <td>main_activity_Cultural Tourism</td>\n",
       "      <td>0.70435</td>\n",
       "    </tr>\n",
       "    <tr>\n",
       "      <th>16</th>\n",
       "      <td>main_activity_Mountain Climbing</td>\n",
       "      <td>0.10694</td>\n",
       "    </tr>\n",
       "    <tr>\n",
       "      <th>11</th>\n",
       "      <td>main_activity_Business</td>\n",
       "      <td>0.066093</td>\n",
       "    </tr>\n",
       "    <tr>\n",
       "      <th>4</th>\n",
       "      <td>age_group_&lt;18</td>\n",
       "      <td>0.053673</td>\n",
       "    </tr>\n",
       "    <tr>\n",
       "      <th>10</th>\n",
       "      <td>main_activity_Bird Tourism</td>\n",
       "      <td>0.02337</td>\n",
       "    </tr>\n",
       "    <tr>\n",
       "      <th>14</th>\n",
       "      <td>main_activity_Diving and Sport Fishing</td>\n",
       "      <td>0.008078</td>\n",
       "    </tr>\n",
       "  </tbody>\n",
       "</table>\n",
       "</div>"
      ],
      "text/plain": [
       "                              feature_name varimp (%)\n",
       "19                          night_mainland  13.291133\n",
       "5                                  country  12.044846\n",
       "20                          night_zanzibar    9.58152\n",
       "28                            total_female   8.685326\n",
       "29                              total_male    6.71654\n",
       "27                                 purpose   6.526994\n",
       "26                    package_transport_tz   6.260159\n",
       "24                package_transport_int_No   5.709636\n",
       "8                              info_source   4.780946\n",
       "25               package_transport_int_Yes   4.258155\n",
       "21                     package_guided_tour   2.883858\n",
       "1                          age_group_25-44   2.324005\n",
       "23                     package_sightseeing   2.237197\n",
       "17           main_activity_Widlife Tourism   2.208166\n",
       "0                          age_group_18-24   2.085753\n",
       "12        main_activity_Conference Tourism   1.568981\n",
       "9              main_activity_Beach Tourism    1.38955\n",
       "7                        first_trip_tz_Yes   1.355561\n",
       "2                          age_group_45-64   1.334409\n",
       "6                         first_trip_tz_No   0.798162\n",
       "3                            age_group_65+   0.789737\n",
       "15           main_activity_Hunting Tourism   0.772322\n",
       "22                       package_insurance   0.722785\n",
       "18          main_activity_Wildlife Tourism   0.711752\n",
       "13          main_activity_Cultural Tourism    0.70435\n",
       "16         main_activity_Mountain Climbing    0.10694\n",
       "11                  main_activity_Business   0.066093\n",
       "4                            age_group_<18   0.053673\n",
       "10              main_activity_Bird Tourism    0.02337\n",
       "14  main_activity_Diving and Sport Fishing   0.008078"
      ]
     },
     "execution_count": 40,
     "metadata": {},
     "output_type": "execute_result"
    }
   ],
   "source": [
    "pd.options.display.max_rows = 2200\n",
    "#define a function to create variable importance dataframe\n",
    "def get_catt_varimp(model, train_columns, max_vars=350):\n",
    "    \n",
    "    # Scikit-learn API LGBMClassifier or LGBMRegressor was fitted, \n",
    "    # so using feature_importances_ property\n",
    "    feature_importances_perc = (model.feature_importances_ / sum(model.feature_importances_)) * 100\n",
    "    cv_varimp_df = pd.DataFrame([train_columns, feature_importances_perc]).T\n",
    "\n",
    "    cv_varimp_df.columns = ['feature_name', 'varimp (%)']\n",
    "\n",
    "    cv_varimp_df.sort_values(by='varimp (%)', ascending=False, inplace=True)\n",
    "\n",
    "    cv_varimp_df = cv_varimp_df.iloc[0:max_vars]   \n",
    "\n",
    "    return cv_varimp_df\n",
    "#\n",
    "get_catt_varimp(model, X.columns)"
   ]
  },
  {
   "cell_type": "markdown",
   "metadata": {
    "id": "S0mVqDO1ve-m"
   },
   "source": [
    "### Now Predict The Test data given and make submissions"
   ]
  },
  {
   "cell_type": "code",
   "execution_count": 43,
   "metadata": {
    "colab": {
     "base_uri": "https://localhost:8080/"
    },
    "id": "bGrRRKeIve-q",
    "outputId": "b752a27b-d1b7-424e-c61f-67b68ab5baf2"
   },
   "outputs": [
    {
     "data": {
      "text/html": [
       "<div>\n",
       "<style scoped>\n",
       "    .dataframe tbody tr th:only-of-type {\n",
       "        vertical-align: middle;\n",
       "    }\n",
       "\n",
       "    .dataframe tbody tr th {\n",
       "        vertical-align: top;\n",
       "    }\n",
       "\n",
       "    .dataframe thead th {\n",
       "        text-align: right;\n",
       "    }\n",
       "</style>\n",
       "<table border=\"1\" class=\"dataframe\">\n",
       "  <thead>\n",
       "    <tr style=\"text-align: right;\">\n",
       "      <th></th>\n",
       "      <th>ID</th>\n",
       "      <th>High Cost</th>\n",
       "      <th>Higher Cost</th>\n",
       "      <th>Highest Cost</th>\n",
       "      <th>Low Cost</th>\n",
       "      <th>Lower Cost</th>\n",
       "      <th>Normal Cost</th>\n",
       "    </tr>\n",
       "  </thead>\n",
       "  <tbody>\n",
       "    <tr>\n",
       "      <th>18506</th>\n",
       "      <td>tour_idynufedne</td>\n",
       "      <td>0.143717</td>\n",
       "      <td>0.046053</td>\n",
       "      <td>0.000597</td>\n",
       "      <td>0.061741</td>\n",
       "      <td>0.030164</td>\n",
       "      <td>0.717729</td>\n",
       "    </tr>\n",
       "    <tr>\n",
       "      <th>18507</th>\n",
       "      <td>tour_id9r3y5moe</td>\n",
       "      <td>0.269146</td>\n",
       "      <td>0.492434</td>\n",
       "      <td>0.030946</td>\n",
       "      <td>0.008063</td>\n",
       "      <td>0.015796</td>\n",
       "      <td>0.183614</td>\n",
       "    </tr>\n",
       "    <tr>\n",
       "      <th>18508</th>\n",
       "      <td>tour_idf6itml6g</td>\n",
       "      <td>0.664212</td>\n",
       "      <td>0.185235</td>\n",
       "      <td>0.008118</td>\n",
       "      <td>0.013591</td>\n",
       "      <td>0.004224</td>\n",
       "      <td>0.124619</td>\n",
       "    </tr>\n",
       "    <tr>\n",
       "      <th>18509</th>\n",
       "      <td>tour_id99u4znru</td>\n",
       "      <td>0.039333</td>\n",
       "      <td>0.023286</td>\n",
       "      <td>0.000107</td>\n",
       "      <td>0.248837</td>\n",
       "      <td>0.110602</td>\n",
       "      <td>0.577835</td>\n",
       "    </tr>\n",
       "    <tr>\n",
       "      <th>18510</th>\n",
       "      <td>tour_idj4i9urbx</td>\n",
       "      <td>0.045523</td>\n",
       "      <td>0.009786</td>\n",
       "      <td>0.000451</td>\n",
       "      <td>0.262066</td>\n",
       "      <td>0.225983</td>\n",
       "      <td>0.456191</td>\n",
       "    </tr>\n",
       "  </tbody>\n",
       "</table>\n",
       "</div>"
      ],
      "text/plain": [
       "                    ID  High Cost  Higher Cost  Highest Cost  Low Cost  \\\n",
       "18506  tour_idynufedne   0.143717     0.046053      0.000597  0.061741   \n",
       "18507  tour_id9r3y5moe   0.269146     0.492434      0.030946  0.008063   \n",
       "18508  tour_idf6itml6g   0.664212     0.185235      0.008118  0.013591   \n",
       "18509  tour_id99u4znru   0.039333     0.023286      0.000107  0.248837   \n",
       "18510  tour_idj4i9urbx   0.045523     0.009786      0.000451  0.262066   \n",
       "\n",
       "       Lower Cost  Normal Cost  \n",
       "18506    0.030164     0.717729  \n",
       "18507    0.015796     0.183614  \n",
       "18508    0.004224     0.124619  \n",
       "18509    0.110602     0.577835  \n",
       "18510    0.225983     0.456191  "
      ]
     },
     "execution_count": 43,
     "metadata": {},
     "output_type": "execute_result"
    }
   ],
   "source": [
    "test_df[['a','b','c','d','e','f']] = model.predict_proba(test_df[X.columns])\n",
    "\n",
    "submission = pd.DataFrame({\"ID\": ID,\n",
    "                           \"High Cost\": test_df['a'],\n",
    "                           \"Higher Cost\": test_df['b'],\n",
    "                           \"Highest Cost\": test_df['c'],\n",
    "                           \"Low Cost\": test_df['d'],\n",
    "                           \"Lower Cost\": test_df['e'],\n",
    "                           \"Normal Cost\": test_df['f']\n",
    "                          })\n",
    "submission.to_csv('baseline.csv',index=False)\n",
    "submission.head()"
   ]
  },
  {
   "cell_type": "markdown",
   "metadata": {},
   "source": [
    "### Final thoughts\n",
    "* Feature Engineering is key, THINK! THINK! THINK! THINK!\n",
    "* Train test split is not very efficient, try stratified kfold\n",
    "* Trust your local validation test (best test) don't worry too much about the public leaderboard\n",
    "* Experiment every way to improve your models, If you face an error , stackoverflow and if stackoverflow doesn't help ask in the group <br>\n",
    "* There are goodies for the winners\n",
    "\n",
    "* GOODLUCKKKKKKKKK YOU NEED IT!"
   ]
  },
  {
   "cell_type": "code",
   "execution_count": null,
   "metadata": {},
   "outputs": [],
   "source": []
  }
 ],
 "metadata": {
  "colab": {
   "name": "Winning_solution_everything.ipynb",
   "provenance": []
  },
  "kernelspec": {
   "display_name": "Python 3",
   "language": "python",
   "name": "python3"
  },
  "language_info": {
   "codemirror_mode": {
    "name": "ipython",
    "version": 3
   },
   "file_extension": ".py",
   "mimetype": "text/x-python",
   "name": "python",
   "nbconvert_exporter": "python",
   "pygments_lexer": "ipython3",
   "version": "3.8.8"
  }
 },
 "nbformat": 4,
 "nbformat_minor": 1
}
