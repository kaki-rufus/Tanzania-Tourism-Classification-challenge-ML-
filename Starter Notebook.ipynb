{
 "cells": [
  {
   "cell_type": "markdown",
   "metadata": {
    "id": "A8hJzadXve9Z"
   },
   "source": [
    "# Tanzania Tourism EDA + MODELLING\n",
    "* Can you use tourism survey data and ML to classify the range of expenditures a tourist spends in Tanzania \n"
   ]
  },
  {
   "cell_type": "markdown",
   "metadata": {
    "id": "KBtWrKVCve9g"
   },
   "source": [
    "### Import necessary Libraries and load the data\n",
    "Libraries help reduce coding errors, make programmers more efficient, and make software smaller in size (and lines of code). Instead of writing long lines of code to accomplish a common task, coders can simply call upon a library – often with a single line of code – to perform that task instead."
   ]
  },
  {
   "cell_type": "code",
   "execution_count": 1,
   "metadata": {
    "id": "hBrMd5Ieve9h"
   },
   "outputs": [],
   "source": [
    "import pandas as pd #A fast, powerful, flexible and easy to use open source data analysis and manipulation tool\n",
    "import numpy as np # Library for working with arrays\n",
    "\n",
    "# creating visualizations in python\n",
    "import matplotlib.pyplot as plt \n",
    "import plotly.express as px\n",
    "from pylab import rcParams\n",
    "import seaborn as sb\n",
    "sb.set_style('darkgrid')\n",
    "rcParams['figure.figsize'] = 8,8\n",
    "import warnings\n",
    "warnings.filterwarnings(\"ignore\")\n",
    "%matplotlib inline\n",
    "\n",
    "\n",
    "# import catboost as catt\n",
    "from catboost import CatBoostClassifier\n",
    "from xgboost import XGBClassifier\n",
    "\n",
    "from sklearn.metrics import log_loss\n",
    "from sklearn.model_selection import StratifiedKFold,KFold,RepeatedStratifiedKFold,train_test_split\n",
    "\n",
    "pd.options.display.max_rows = 2200\n",
    "import gc "
   ]
  },
  {
   "cell_type": "code",
   "execution_count": 2,
   "metadata": {
    "id": "nqt1L01Dve9j"
   },
   "outputs": [],
   "source": [
    "##where your train and test files are located, \n",
    "##don't change this if you are running this notebook om the same folder that the data is\n",
    "path = \"./\""
   ]
  },
  {
   "cell_type": "code",
   "execution_count": 3,
   "metadata": {
    "id": "ESEFsu1ive9k"
   },
   "outputs": [],
   "source": [
    "#import data\n",
    "train = pd.read_csv(path+'Train.csv')\n",
    "test=  pd.read_csv(path+'Test.csv')\n",
    "\n",
    "submission = pd.read_csv(path+'SampleSubmission.csv')"
   ]
  },
  {
   "cell_type": "code",
   "execution_count": 4,
   "metadata": {
    "colab": {
     "base_uri": "https://localhost:8080/"
    },
    "id": "oJxWK2irve9l",
    "outputId": "79a06936-2373-4d1c-9103-eab2f3bf2296"
   },
   "outputs": [
    {
     "data": {
      "text/plain": [
       "((18506, 21), (6169, 20))"
      ]
     },
     "execution_count": 4,
     "metadata": {},
     "output_type": "execute_result"
    }
   ],
   "source": [
    "# How to check the number of rows and columns in a dataset\n",
    "train.shape,test.shape"
   ]
  },
  {
   "cell_type": "code",
   "execution_count": 5,
   "metadata": {
    "colab": {
     "base_uri": "https://localhost:8080/",
     "height": 526
    },
    "id": "X0Fm_zaeve9m",
    "outputId": "ea86a5ef-f3f6-4213-fd39-078821aa6920"
   },
   "outputs": [
    {
     "data": {
      "text/html": [
       "<div>\n",
       "<style scoped>\n",
       "    .dataframe tbody tr th:only-of-type {\n",
       "        vertical-align: middle;\n",
       "    }\n",
       "\n",
       "    .dataframe tbody tr th {\n",
       "        vertical-align: top;\n",
       "    }\n",
       "\n",
       "    .dataframe thead th {\n",
       "        text-align: right;\n",
       "    }\n",
       "</style>\n",
       "<table border=\"1\" class=\"dataframe\">\n",
       "  <thead>\n",
       "    <tr style=\"text-align: right;\">\n",
       "      <th></th>\n",
       "      <th>Tour_ID</th>\n",
       "      <th>country</th>\n",
       "      <th>age_group</th>\n",
       "      <th>travel_with</th>\n",
       "      <th>total_female</th>\n",
       "      <th>total_male</th>\n",
       "      <th>purpose</th>\n",
       "      <th>main_activity</th>\n",
       "      <th>info_source</th>\n",
       "      <th>tour_arrangement</th>\n",
       "      <th>...</th>\n",
       "      <th>package_accomodation</th>\n",
       "      <th>package_food</th>\n",
       "      <th>package_transport_tz</th>\n",
       "      <th>package_sightseeing</th>\n",
       "      <th>package_guided_tour</th>\n",
       "      <th>package_insurance</th>\n",
       "      <th>night_mainland</th>\n",
       "      <th>night_zanzibar</th>\n",
       "      <th>first_trip_tz</th>\n",
       "      <th>cost_category</th>\n",
       "    </tr>\n",
       "  </thead>\n",
       "  <tbody>\n",
       "    <tr>\n",
       "      <th>0</th>\n",
       "      <td>tour_id1hffseyw</td>\n",
       "      <td>ITALY</td>\n",
       "      <td>45-64</td>\n",
       "      <td>With Children</td>\n",
       "      <td>0.0</td>\n",
       "      <td>2.0</td>\n",
       "      <td>Visiting Friends and Relatives</td>\n",
       "      <td>Beach Tourism</td>\n",
       "      <td>Friends, relatives</td>\n",
       "      <td>Package Tour</td>\n",
       "      <td>...</td>\n",
       "      <td>Yes</td>\n",
       "      <td>Yes</td>\n",
       "      <td>Yes</td>\n",
       "      <td>No</td>\n",
       "      <td>No</td>\n",
       "      <td>No</td>\n",
       "      <td>0</td>\n",
       "      <td>7</td>\n",
       "      <td>Yes</td>\n",
       "      <td>High Cost</td>\n",
       "    </tr>\n",
       "    <tr>\n",
       "      <th>1</th>\n",
       "      <td>tour_idnacd7zag</td>\n",
       "      <td>UNITED KINGDOM</td>\n",
       "      <td>25-44</td>\n",
       "      <td>With Spouse</td>\n",
       "      <td>1.0</td>\n",
       "      <td>1.0</td>\n",
       "      <td>Leisure and Holidays</td>\n",
       "      <td>Wildlife Tourism</td>\n",
       "      <td>Travel agent, tour operator</td>\n",
       "      <td>Package Tour</td>\n",
       "      <td>...</td>\n",
       "      <td>Yes</td>\n",
       "      <td>Yes</td>\n",
       "      <td>Yes</td>\n",
       "      <td>No</td>\n",
       "      <td>No</td>\n",
       "      <td>No</td>\n",
       "      <td>0</td>\n",
       "      <td>7</td>\n",
       "      <td>Yes</td>\n",
       "      <td>High Cost</td>\n",
       "    </tr>\n",
       "    <tr>\n",
       "      <th>2</th>\n",
       "      <td>tour_id62vz7e71</td>\n",
       "      <td>UNITED STATES OF AMERICA</td>\n",
       "      <td>65+</td>\n",
       "      <td>With Spouse</td>\n",
       "      <td>1.0</td>\n",
       "      <td>1.0</td>\n",
       "      <td>Leisure and Holidays</td>\n",
       "      <td>Widlife Tourism</td>\n",
       "      <td>Travel agent, tour operator</td>\n",
       "      <td>Package Tour</td>\n",
       "      <td>...</td>\n",
       "      <td>Yes</td>\n",
       "      <td>Yes</td>\n",
       "      <td>Yes</td>\n",
       "      <td>Yes</td>\n",
       "      <td>Yes</td>\n",
       "      <td>No</td>\n",
       "      <td>6</td>\n",
       "      <td>6</td>\n",
       "      <td>Yes</td>\n",
       "      <td>Higher Cost</td>\n",
       "    </tr>\n",
       "    <tr>\n",
       "      <th>3</th>\n",
       "      <td>tour_idrc76tzix</td>\n",
       "      <td>RWANDA</td>\n",
       "      <td>25-44</td>\n",
       "      <td>With Spouse and Children</td>\n",
       "      <td>3.0</td>\n",
       "      <td>1.0</td>\n",
       "      <td>Leisure and Holidays</td>\n",
       "      <td>Beach Tourism</td>\n",
       "      <td>Radio, TV, Web</td>\n",
       "      <td>Independent</td>\n",
       "      <td>...</td>\n",
       "      <td>No</td>\n",
       "      <td>No</td>\n",
       "      <td>No</td>\n",
       "      <td>No</td>\n",
       "      <td>No</td>\n",
       "      <td>No</td>\n",
       "      <td>3</td>\n",
       "      <td>0</td>\n",
       "      <td>No</td>\n",
       "      <td>Lower Cost</td>\n",
       "    </tr>\n",
       "    <tr>\n",
       "      <th>4</th>\n",
       "      <td>tour_idn723m0n9</td>\n",
       "      <td>UNITED STATES OF AMERICA</td>\n",
       "      <td>45-64</td>\n",
       "      <td>Alone</td>\n",
       "      <td>0.0</td>\n",
       "      <td>1.0</td>\n",
       "      <td>Leisure and Holidays</td>\n",
       "      <td>Widlife Tourism</td>\n",
       "      <td>Travel agent, tour operator</td>\n",
       "      <td>Package Tour</td>\n",
       "      <td>...</td>\n",
       "      <td>Yes</td>\n",
       "      <td>Yes</td>\n",
       "      <td>Yes</td>\n",
       "      <td>No</td>\n",
       "      <td>Yes</td>\n",
       "      <td>Yes</td>\n",
       "      <td>7</td>\n",
       "      <td>0</td>\n",
       "      <td>Yes</td>\n",
       "      <td>Higher Cost</td>\n",
       "    </tr>\n",
       "  </tbody>\n",
       "</table>\n",
       "<p>5 rows × 21 columns</p>\n",
       "</div>"
      ],
      "text/plain": [
       "           Tour_ID                   country age_group  \\\n",
       "0  tour_id1hffseyw                     ITALY     45-64   \n",
       "1  tour_idnacd7zag            UNITED KINGDOM     25-44   \n",
       "2  tour_id62vz7e71  UNITED STATES OF AMERICA       65+   \n",
       "3  tour_idrc76tzix                    RWANDA     25-44   \n",
       "4  tour_idn723m0n9  UNITED STATES OF AMERICA     45-64   \n",
       "\n",
       "                travel_with  total_female  total_male  \\\n",
       "0             With Children           0.0         2.0   \n",
       "1               With Spouse           1.0         1.0   \n",
       "2               With Spouse           1.0         1.0   \n",
       "3  With Spouse and Children           3.0         1.0   \n",
       "4                     Alone           0.0         1.0   \n",
       "\n",
       "                          purpose     main_activity  \\\n",
       "0  Visiting Friends and Relatives     Beach Tourism   \n",
       "1            Leisure and Holidays  Wildlife Tourism   \n",
       "2            Leisure and Holidays   Widlife Tourism   \n",
       "3            Leisure and Holidays     Beach Tourism   \n",
       "4            Leisure and Holidays   Widlife Tourism   \n",
       "\n",
       "                   info_source tour_arrangement  ... package_accomodation  \\\n",
       "0           Friends, relatives     Package Tour  ...                  Yes   \n",
       "1  Travel agent, tour operator     Package Tour  ...                  Yes   \n",
       "2  Travel agent, tour operator     Package Tour  ...                  Yes   \n",
       "3               Radio, TV, Web      Independent  ...                   No   \n",
       "4  Travel agent, tour operator     Package Tour  ...                  Yes   \n",
       "\n",
       "  package_food package_transport_tz package_sightseeing package_guided_tour  \\\n",
       "0          Yes                  Yes                  No                  No   \n",
       "1          Yes                  Yes                  No                  No   \n",
       "2          Yes                  Yes                 Yes                 Yes   \n",
       "3           No                   No                  No                  No   \n",
       "4          Yes                  Yes                  No                 Yes   \n",
       "\n",
       "  package_insurance night_mainland  night_zanzibar  first_trip_tz  \\\n",
       "0                No              0               7            Yes   \n",
       "1                No              0               7            Yes   \n",
       "2                No              6               6            Yes   \n",
       "3                No              3               0             No   \n",
       "4               Yes              7               0            Yes   \n",
       "\n",
       "  cost_category  \n",
       "0     High Cost  \n",
       "1     High Cost  \n",
       "2   Higher Cost  \n",
       "3    Lower Cost  \n",
       "4   Higher Cost  \n",
       "\n",
       "[5 rows x 21 columns]"
      ]
     },
     "execution_count": 5,
     "metadata": {},
     "output_type": "execute_result"
    }
   ],
   "source": [
    "# How to see the first 5 rows in a dataset\n",
    "train.head()"
   ]
  },
  {
   "cell_type": "code",
   "execution_count": 6,
   "metadata": {},
   "outputs": [
    {
     "data": {
      "text/plain": [
       "Index(['Tour_ID', 'country', 'age_group', 'travel_with', 'total_female',\n",
       "       'total_male', 'purpose', 'main_activity', 'info_source',\n",
       "       'tour_arrangement', 'package_transport_int', 'package_accomodation',\n",
       "       'package_food', 'package_transport_tz', 'package_sightseeing',\n",
       "       'package_guided_tour', 'package_insurance', 'night_mainland',\n",
       "       'night_zanzibar', 'first_trip_tz', 'cost_category'],\n",
       "      dtype='object')"
      ]
     },
     "execution_count": 6,
     "metadata": {},
     "output_type": "execute_result"
    }
   ],
   "source": [
    "## List all the columns available\n",
    "train.columns"
   ]
  },
  {
   "cell_type": "code",
   "execution_count": 7,
   "metadata": {},
   "outputs": [
    {
     "data": {
      "text/plain": [
       "array(['High Cost', 'Higher Cost', 'Lower Cost', 'Normal Cost',\n",
       "       'Low Cost', 'Highest Cost'], dtype=object)"
      ]
     },
     "execution_count": 7,
     "metadata": {},
     "output_type": "execute_result"
    }
   ],
   "source": [
    "## This is what you are trying to predict \n",
    "train.cost_category.unique()"
   ]
  },
  {
   "cell_type": "markdown",
   "metadata": {
    "id": "LVqorAAFve9o"
   },
   "source": [
    "### DATATYPE DESCRIPTION AND  STATISTICAL INFORMATION"
   ]
  },
  {
   "cell_type": "code",
   "execution_count": 8,
   "metadata": {
    "colab": {
     "base_uri": "https://localhost:8080/"
    },
    "id": "9LRof82Ive9p",
    "outputId": "7b0ae13b-c468-4deb-af66-6ef75633e7f4"
   },
   "outputs": [
    {
     "name": "stdout",
     "output_type": "stream",
     "text": [
      "<class 'pandas.core.frame.DataFrame'>\n",
      "RangeIndex: 18506 entries, 0 to 18505\n",
      "Data columns (total 21 columns):\n",
      " #   Column                 Non-Null Count  Dtype  \n",
      "---  ------                 --------------  -----  \n",
      " 0   Tour_ID                18506 non-null  object \n",
      " 1   country                18506 non-null  object \n",
      " 2   age_group              18506 non-null  object \n",
      " 3   travel_with            17431 non-null  object \n",
      " 4   total_female           18504 non-null  float64\n",
      " 5   total_male             18500 non-null  float64\n",
      " 6   purpose                18506 non-null  object \n",
      " 7   main_activity          18506 non-null  object \n",
      " 8   info_source            18506 non-null  object \n",
      " 9   tour_arrangement       18506 non-null  object \n",
      " 10  package_transport_int  18506 non-null  object \n",
      " 11  package_accomodation   18506 non-null  object \n",
      " 12  package_food           18506 non-null  object \n",
      " 13  package_transport_tz   18506 non-null  object \n",
      " 14  package_sightseeing    18506 non-null  object \n",
      " 15  package_guided_tour    18506 non-null  object \n",
      " 16  package_insurance      18506 non-null  object \n",
      " 17  night_mainland         18506 non-null  int64  \n",
      " 18  night_zanzibar         18506 non-null  int64  \n",
      " 19  first_trip_tz          18506 non-null  object \n",
      " 20  cost_category          18506 non-null  object \n",
      "dtypes: float64(2), int64(2), object(17)\n",
      "memory usage: 3.0+ MB\n"
     ]
    }
   ],
   "source": [
    "train.info()"
   ]
  },
  {
   "cell_type": "markdown",
   "metadata": {
    "id": "_kRBmWX2ve9r"
   },
   "source": [
    "#### We can see a mixture of object columns and int ones with object columns being the majority ones"
   ]
  },
  {
   "cell_type": "code",
   "execution_count": 9,
   "metadata": {
    "colab": {
     "base_uri": "https://localhost:8080/",
     "height": 175
    },
    "id": "746vey_pve9s",
    "outputId": "faa362c9-b548-4162-c93a-344eb2e6692a"
   },
   "outputs": [
    {
     "data": {
      "text/html": [
       "<div>\n",
       "<style scoped>\n",
       "    .dataframe tbody tr th:only-of-type {\n",
       "        vertical-align: middle;\n",
       "    }\n",
       "\n",
       "    .dataframe tbody tr th {\n",
       "        vertical-align: top;\n",
       "    }\n",
       "\n",
       "    .dataframe thead th {\n",
       "        text-align: right;\n",
       "    }\n",
       "</style>\n",
       "<table border=\"1\" class=\"dataframe\">\n",
       "  <thead>\n",
       "    <tr style=\"text-align: right;\">\n",
       "      <th></th>\n",
       "      <th>total_female</th>\n",
       "      <th>total_male</th>\n",
       "      <th>night_mainland</th>\n",
       "      <th>night_zanzibar</th>\n",
       "    </tr>\n",
       "  </thead>\n",
       "  <tbody>\n",
       "    <tr>\n",
       "      <th>count</th>\n",
       "      <td>18504.000000</td>\n",
       "      <td>18500.000000</td>\n",
       "      <td>18506.000000</td>\n",
       "      <td>18506.000000</td>\n",
       "    </tr>\n",
       "    <tr>\n",
       "      <th>mean</th>\n",
       "      <td>0.936230</td>\n",
       "      <td>0.998757</td>\n",
       "      <td>9.141576</td>\n",
       "      <td>2.493516</td>\n",
       "    </tr>\n",
       "    <tr>\n",
       "      <th>std</th>\n",
       "      <td>1.215582</td>\n",
       "      <td>1.173177</td>\n",
       "      <td>14.127449</td>\n",
       "      <td>5.275156</td>\n",
       "    </tr>\n",
       "    <tr>\n",
       "      <th>min</th>\n",
       "      <td>0.000000</td>\n",
       "      <td>0.000000</td>\n",
       "      <td>0.000000</td>\n",
       "      <td>0.000000</td>\n",
       "    </tr>\n",
       "    <tr>\n",
       "      <th>25%</th>\n",
       "      <td>0.000000</td>\n",
       "      <td>1.000000</td>\n",
       "      <td>3.000000</td>\n",
       "      <td>0.000000</td>\n",
       "    </tr>\n",
       "    <tr>\n",
       "      <th>50%</th>\n",
       "      <td>1.000000</td>\n",
       "      <td>1.000000</td>\n",
       "      <td>6.000000</td>\n",
       "      <td>0.000000</td>\n",
       "    </tr>\n",
       "    <tr>\n",
       "      <th>75%</th>\n",
       "      <td>1.000000</td>\n",
       "      <td>1.000000</td>\n",
       "      <td>11.000000</td>\n",
       "      <td>4.000000</td>\n",
       "    </tr>\n",
       "    <tr>\n",
       "      <th>max</th>\n",
       "      <td>49.000000</td>\n",
       "      <td>58.000000</td>\n",
       "      <td>365.000000</td>\n",
       "      <td>240.000000</td>\n",
       "    </tr>\n",
       "  </tbody>\n",
       "</table>\n",
       "</div>"
      ],
      "text/plain": [
       "       total_female    total_male  night_mainland  night_zanzibar\n",
       "count  18504.000000  18500.000000    18506.000000    18506.000000\n",
       "mean       0.936230      0.998757        9.141576        2.493516\n",
       "std        1.215582      1.173177       14.127449        5.275156\n",
       "min        0.000000      0.000000        0.000000        0.000000\n",
       "25%        0.000000      1.000000        3.000000        0.000000\n",
       "50%        1.000000      1.000000        6.000000        0.000000\n",
       "75%        1.000000      1.000000       11.000000        4.000000\n",
       "max       49.000000     58.000000      365.000000      240.000000"
      ]
     },
     "execution_count": 9,
     "metadata": {},
     "output_type": "execute_result"
    }
   ],
   "source": [
    "# describe the continouos variables\n",
    "train.describe()"
   ]
  },
  {
   "cell_type": "markdown",
   "metadata": {
    "id": "g2Daohyyve9s"
   },
   "source": [
    "#### The max is so far away from the 75th percentile in almost all cols, Are those outliers??  Can you deal with them?\n",
    " - drop them\n",
    " - cap them - research them"
   ]
  },
  {
   "cell_type": "markdown",
   "metadata": {
    "id": "qZB9lU49ve9t"
   },
   "source": [
    "## Missing values"
   ]
  },
  {
   "cell_type": "code",
   "execution_count": 10,
   "metadata": {},
   "outputs": [
    {
     "data": {
      "text/plain": [
       "Tour_ID                  0.000000\n",
       "country                  0.000000\n",
       "age_group                0.000000\n",
       "travel_with              5.808927\n",
       "total_female             0.010807\n",
       "total_male               0.032422\n",
       "purpose                  0.000000\n",
       "main_activity            0.000000\n",
       "info_source              0.000000\n",
       "tour_arrangement         0.000000\n",
       "package_transport_int    0.000000\n",
       "package_accomodation     0.000000\n",
       "package_food             0.000000\n",
       "package_transport_tz     0.000000\n",
       "package_sightseeing      0.000000\n",
       "package_guided_tour      0.000000\n",
       "package_insurance        0.000000\n",
       "night_mainland           0.000000\n",
       "night_zanzibar           0.000000\n",
       "first_trip_tz            0.000000\n",
       "cost_category            0.000000\n",
       "dtype: float64"
      ]
     },
     "execution_count": 10,
     "metadata": {},
     "output_type": "execute_result"
    }
   ],
   "source": [
    "train.isnull().sum() * 100/len(train)"
   ]
  },
  {
   "cell_type": "code",
   "execution_count": 11,
   "metadata": {},
   "outputs": [
    {
     "data": {
      "text/plain": [
       "18506"
      ]
     },
     "execution_count": 11,
     "metadata": {},
     "output_type": "execute_result"
    }
   ],
   "source": [
    "len(train)"
   ]
  },
  {
   "cell_type": "code",
   "execution_count": 12,
   "metadata": {
    "colab": {
     "base_uri": "https://localhost:8080/",
     "height": 708
    },
    "id": "imZrGZVfve9u",
    "outputId": "18445318-cb96-4d97-e951-45d0583f362e"
   },
   "outputs": [
    {
     "data": {
      "text/html": [
       "<div>\n",
       "<style scoped>\n",
       "    .dataframe tbody tr th:only-of-type {\n",
       "        vertical-align: middle;\n",
       "    }\n",
       "\n",
       "    .dataframe tbody tr th {\n",
       "        vertical-align: top;\n",
       "    }\n",
       "\n",
       "    .dataframe thead th {\n",
       "        text-align: right;\n",
       "    }\n",
       "</style>\n",
       "<table border=\"1\" class=\"dataframe\">\n",
       "  <thead>\n",
       "    <tr style=\"text-align: right;\">\n",
       "      <th></th>\n",
       "      <th>column_name</th>\n",
       "      <th>percent_missing</th>\n",
       "    </tr>\n",
       "  </thead>\n",
       "  <tbody>\n",
       "    <tr>\n",
       "      <th>Tour_ID</th>\n",
       "      <td>Tour_ID</td>\n",
       "      <td>0.000000</td>\n",
       "    </tr>\n",
       "    <tr>\n",
       "      <th>country</th>\n",
       "      <td>country</td>\n",
       "      <td>0.000000</td>\n",
       "    </tr>\n",
       "    <tr>\n",
       "      <th>age_group</th>\n",
       "      <td>age_group</td>\n",
       "      <td>0.000000</td>\n",
       "    </tr>\n",
       "    <tr>\n",
       "      <th>travel_with</th>\n",
       "      <td>travel_with</td>\n",
       "      <td>5.808927</td>\n",
       "    </tr>\n",
       "    <tr>\n",
       "      <th>total_female</th>\n",
       "      <td>total_female</td>\n",
       "      <td>0.010807</td>\n",
       "    </tr>\n",
       "    <tr>\n",
       "      <th>total_male</th>\n",
       "      <td>total_male</td>\n",
       "      <td>0.032422</td>\n",
       "    </tr>\n",
       "    <tr>\n",
       "      <th>purpose</th>\n",
       "      <td>purpose</td>\n",
       "      <td>0.000000</td>\n",
       "    </tr>\n",
       "    <tr>\n",
       "      <th>main_activity</th>\n",
       "      <td>main_activity</td>\n",
       "      <td>0.000000</td>\n",
       "    </tr>\n",
       "    <tr>\n",
       "      <th>info_source</th>\n",
       "      <td>info_source</td>\n",
       "      <td>0.000000</td>\n",
       "    </tr>\n",
       "    <tr>\n",
       "      <th>tour_arrangement</th>\n",
       "      <td>tour_arrangement</td>\n",
       "      <td>0.000000</td>\n",
       "    </tr>\n",
       "    <tr>\n",
       "      <th>package_transport_int</th>\n",
       "      <td>package_transport_int</td>\n",
       "      <td>0.000000</td>\n",
       "    </tr>\n",
       "    <tr>\n",
       "      <th>package_accomodation</th>\n",
       "      <td>package_accomodation</td>\n",
       "      <td>0.000000</td>\n",
       "    </tr>\n",
       "    <tr>\n",
       "      <th>package_food</th>\n",
       "      <td>package_food</td>\n",
       "      <td>0.000000</td>\n",
       "    </tr>\n",
       "    <tr>\n",
       "      <th>package_transport_tz</th>\n",
       "      <td>package_transport_tz</td>\n",
       "      <td>0.000000</td>\n",
       "    </tr>\n",
       "    <tr>\n",
       "      <th>package_sightseeing</th>\n",
       "      <td>package_sightseeing</td>\n",
       "      <td>0.000000</td>\n",
       "    </tr>\n",
       "    <tr>\n",
       "      <th>package_guided_tour</th>\n",
       "      <td>package_guided_tour</td>\n",
       "      <td>0.000000</td>\n",
       "    </tr>\n",
       "    <tr>\n",
       "      <th>package_insurance</th>\n",
       "      <td>package_insurance</td>\n",
       "      <td>0.000000</td>\n",
       "    </tr>\n",
       "    <tr>\n",
       "      <th>night_mainland</th>\n",
       "      <td>night_mainland</td>\n",
       "      <td>0.000000</td>\n",
       "    </tr>\n",
       "    <tr>\n",
       "      <th>night_zanzibar</th>\n",
       "      <td>night_zanzibar</td>\n",
       "      <td>0.000000</td>\n",
       "    </tr>\n",
       "    <tr>\n",
       "      <th>first_trip_tz</th>\n",
       "      <td>first_trip_tz</td>\n",
       "      <td>0.000000</td>\n",
       "    </tr>\n",
       "    <tr>\n",
       "      <th>cost_category</th>\n",
       "      <td>cost_category</td>\n",
       "      <td>0.000000</td>\n",
       "    </tr>\n",
       "  </tbody>\n",
       "</table>\n",
       "</div>"
      ],
      "text/plain": [
       "                                 column_name  percent_missing\n",
       "Tour_ID                              Tour_ID         0.000000\n",
       "country                              country         0.000000\n",
       "age_group                          age_group         0.000000\n",
       "travel_with                      travel_with         5.808927\n",
       "total_female                    total_female         0.010807\n",
       "total_male                        total_male         0.032422\n",
       "purpose                              purpose         0.000000\n",
       "main_activity                  main_activity         0.000000\n",
       "info_source                      info_source         0.000000\n",
       "tour_arrangement            tour_arrangement         0.000000\n",
       "package_transport_int  package_transport_int         0.000000\n",
       "package_accomodation    package_accomodation         0.000000\n",
       "package_food                    package_food         0.000000\n",
       "package_transport_tz    package_transport_tz         0.000000\n",
       "package_sightseeing      package_sightseeing         0.000000\n",
       "package_guided_tour      package_guided_tour         0.000000\n",
       "package_insurance          package_insurance         0.000000\n",
       "night_mainland                night_mainland         0.000000\n",
       "night_zanzibar                night_zanzibar         0.000000\n",
       "first_trip_tz                  first_trip_tz         0.000000\n",
       "cost_category                  cost_category         0.000000"
      ]
     },
     "execution_count": 12,
     "metadata": {},
     "output_type": "execute_result"
    }
   ],
   "source": [
    "#check for missing values\n",
    "percent_missing = train.isnull().sum() * 100 / len(train)\n",
    "missing_value_train = pd.DataFrame({'column_name': train.columns,\n",
    "                                 'percent_missing': percent_missing})\n",
    "missing_value_train"
   ]
  },
  {
   "cell_type": "markdown",
   "metadata": {
    "id": "xs1KhjpCve9u"
   },
   "source": [
    "#### Only few columns with missing values which are travel_with with 5%, total_female 0.01%, total_male 0.03%. There are many ways to feeel this columns, You've to try all and evaluate which is best\n",
    " - Numerical : mean, median, high arbitrary value(-9999)\n",
    " - Categorical : mode, unknown feature"
   ]
  },
  {
   "cell_type": "code",
   "execution_count": 13,
   "metadata": {
    "colab": {
     "base_uri": "https://localhost:8080/"
    },
    "id": "mspR60vdve9v",
    "outputId": "76cb7028-e347-472a-cbda-f6d2f61db085"
   },
   "outputs": [
    {
     "data": {
      "text/plain": [
       "Tour_ID                     0\n",
       "country                     0\n",
       "age_group                   0\n",
       "travel_with              1075\n",
       "total_female                2\n",
       "total_male                  6\n",
       "purpose                     0\n",
       "main_activity               0\n",
       "info_source                 0\n",
       "tour_arrangement            0\n",
       "package_transport_int       0\n",
       "package_accomodation        0\n",
       "package_food                0\n",
       "package_transport_tz        0\n",
       "package_sightseeing         0\n",
       "package_guided_tour         0\n",
       "package_insurance           0\n",
       "night_mainland              0\n",
       "night_zanzibar              0\n",
       "first_trip_tz               0\n",
       "cost_category               0\n",
       "dtype: int64"
      ]
     },
     "execution_count": 13,
     "metadata": {},
     "output_type": "execute_result"
    }
   ],
   "source": [
    "train.isnull().sum()"
   ]
  },
  {
   "cell_type": "code",
   "execution_count": 14,
   "metadata": {
    "id": "aJ6UAsp2ve9w"
   },
   "outputs": [],
   "source": [
    "# create a list of both categorical and numerical columns\n",
    "cat_columns = [col for col in train.select_dtypes('object').columns]\n",
    "\n",
    "num_columns = [col for col in train.select_dtypes(['int', 'float']).columns]"
   ]
  },
  {
   "cell_type": "markdown",
   "metadata": {
    "id": "BycTJZnQve9x"
   },
   "source": [
    "### Find a way to fill the missing values"
   ]
  },
  {
   "cell_type": "code",
   "execution_count": 15,
   "metadata": {},
   "outputs": [
    {
     "data": {
      "text/plain": [
       "array(['With Children', 'With Spouse', 'With Spouse and Children',\n",
       "       'Alone', nan, 'With Other Friends/Relatives'], dtype=object)"
      ]
     },
     "execution_count": 15,
     "metadata": {},
     "output_type": "execute_result"
    }
   ],
   "source": [
    "# check unique values in travel_with\n",
    "train.travel_with.unique()"
   ]
  },
  {
   "cell_type": "code",
   "execution_count": 16,
   "metadata": {},
   "outputs": [
    {
     "data": {
      "text/plain": [
       "'Alone'"
      ]
     },
     "execution_count": 16,
     "metadata": {},
     "output_type": "execute_result"
    }
   ],
   "source": [
    "train['travel_with'].mode()[0]"
   ]
  },
  {
   "cell_type": "code",
   "execution_count": 17,
   "metadata": {},
   "outputs": [],
   "source": [
    "# fill in the missing values in travel_with column\n",
    "train['travel_with'] = train['travel_with'].fillna(train['travel_with'].mode()[0])"
   ]
  },
  {
   "cell_type": "code",
   "execution_count": 18,
   "metadata": {},
   "outputs": [],
   "source": [
    "# fill in missing values of total female or male with either mean or median\n",
    "train['total_female'] = train['total_female'].fillna(train['total_female'].median())\n",
    "train['total_male'] = train['total_male'].fillna(train['total_male'].median())"
   ]
  },
  {
   "cell_type": "code",
   "execution_count": 19,
   "metadata": {},
   "outputs": [
    {
     "data": {
      "text/plain": [
       "Tour_ID                  0\n",
       "country                  0\n",
       "age_group                0\n",
       "travel_with              0\n",
       "total_female             0\n",
       "total_male               0\n",
       "purpose                  0\n",
       "main_activity            0\n",
       "info_source              0\n",
       "tour_arrangement         0\n",
       "package_transport_int    0\n",
       "package_accomodation     0\n",
       "package_food             0\n",
       "package_transport_tz     0\n",
       "package_sightseeing      0\n",
       "package_guided_tour      0\n",
       "package_insurance        0\n",
       "night_mainland           0\n",
       "night_zanzibar           0\n",
       "first_trip_tz            0\n",
       "cost_category            0\n",
       "dtype: int64"
      ]
     },
     "execution_count": 19,
     "metadata": {},
     "output_type": "execute_result"
    }
   ],
   "source": [
    "# recheck if we have missing values\n",
    "train.isnull().sum()"
   ]
  },
  {
   "cell_type": "markdown",
   "metadata": {
    "id": "gxNhsfNvve90"
   },
   "source": [
    "## Categorical Data"
   ]
  },
  {
   "cell_type": "code",
   "execution_count": 20,
   "metadata": {
    "colab": {
     "base_uri": "https://localhost:8080/"
    },
    "id": "Deti-5Prve91",
    "outputId": "c5019245-79e5-4281-f17e-a56c3e328001"
   },
   "outputs": [
    {
     "data": {
      "text/plain": [
       "Tour_ID                  18506\n",
       "country                    131\n",
       "age_group                    5\n",
       "travel_with                  5\n",
       "total_female                24\n",
       "total_male                  24\n",
       "purpose                      8\n",
       "main_activity               10\n",
       "info_source                  8\n",
       "tour_arrangement             2\n",
       "package_transport_int        2\n",
       "package_accomodation         2\n",
       "package_food                 2\n",
       "package_transport_tz         2\n",
       "package_sightseeing          2\n",
       "package_guided_tour          2\n",
       "package_insurance            2\n",
       "night_mainland             110\n",
       "night_zanzibar              60\n",
       "first_trip_tz                2\n",
       "cost_category                6\n",
       "dtype: int64"
      ]
     },
     "execution_count": 20,
     "metadata": {},
     "output_type": "execute_result"
    }
   ],
   "source": [
    "# check unique values in dataset\n",
    "train.apply(lambda x: len(x.unique()))"
   ]
  },
  {
   "cell_type": "markdown",
   "metadata": {
    "id": "5iPkgZr3ve91"
   },
   "source": [
    "### EXPLORATORY DATA ANALYSIS"
   ]
  },
  {
   "cell_type": "markdown",
   "metadata": {
    "id": "RNIaMnLqve98"
   },
   "source": [
    "### Age Group"
   ]
  },
  {
   "cell_type": "code",
   "execution_count": 21,
   "metadata": {},
   "outputs": [
    {
     "data": {
      "text/plain": [
       "25-44    0.488868\n",
       "45-64    0.305198\n",
       "18-24    0.120069\n",
       "65+      0.079272\n",
       "<18      0.006592\n",
       "Name: age_group, dtype: float64"
      ]
     },
     "execution_count": 21,
     "metadata": {},
     "output_type": "execute_result"
    }
   ],
   "source": [
    "train['age_group'].value_counts(normalize=True)"
   ]
  },
  {
   "cell_type": "code",
   "execution_count": 22,
   "metadata": {
    "colab": {
     "base_uri": "https://localhost:8080/",
     "height": 475
    },
    "id": "ea19OcMeve98",
    "outputId": "37491e83-32be-45c0-a658-383304863acc"
   },
   "outputs": [
    {
     "name": "stdout",
     "output_type": "stream",
     "text": [
      "25-44    9047\n",
      "45-64    5648\n",
      "18-24    2222\n",
      "65+      1467\n",
      "<18       122\n",
      "Name: age_group, dtype: int64\n"
     ]
    },
    {
     "data": {
      "text/plain": [
       "Text(0.5, 0, 'age_group')"
      ]
     },
     "execution_count": 22,
     "metadata": {},
     "output_type": "execute_result"
    },
    {
     "data": {
      "image/png": "[encoded data removed]",
      "text/plain": [
       "<Figure size 720x360 with 1 Axes>"
      ]
     },
     "metadata": {
      "needs_background": "light"
     },
     "output_type": "display_data"
    }
   ],
   "source": [
    "print(train['age_group'].value_counts())\n",
    "plt.figure(figsize=(10,5))\n",
    "train['age_group'].value_counts(normalize=True).plot(kind='bar')\n",
    "plt.ylabel('counts')\n",
    "plt.xticks(rotation=45)\n",
    "plt.xlabel('age_group')"
   ]
  },
  {
   "cell_type": "markdown",
   "metadata": {
    "id": "jc6zyEpove98"
   },
   "source": [
    "#### 25-44 age group are the majority since they are in the working class and have freedom+ energy.This feature is in contention for a StratifiedGroupKFold as per the description"
   ]
  },
  {
   "cell_type": "markdown",
   "metadata": {
    "id": "OhZ6VLwPve99"
   },
   "source": [
    "### Travel With"
   ]
  },
  {
   "cell_type": "code",
   "execution_count": 23,
   "metadata": {
    "colab": {
     "base_uri": "https://localhost:8080/",
     "height": 606
    },
    "id": "sRxA-wAxve99",
    "outputId": "95ec56b7-47e6-496a-9a9e-e0d2846f3022"
   },
   "outputs": [
    {
     "name": "stdout",
     "output_type": "stream",
     "text": [
      "Alone                           8665\n",
      "With Spouse                     4842\n",
      "With Other Friends/Relatives    3268\n",
      "With Spouse and Children        1193\n",
      "With Children                    538\n",
      "Name: travel_with, dtype: int64\n"
     ]
    },
    {
     "data": {
      "text/plain": [
       "Text(0.5, 0, 'travel_with')"
      ]
     },
     "execution_count": 23,
     "metadata": {},
     "output_type": "execute_result"
    },
    {
     "data": {
      "image/png": "[encoded data removed]",
      "text/plain": [
       "<Figure size 720x360 with 1 Axes>"
      ]
     },
     "metadata": {
      "needs_background": "light"
     },
     "output_type": "display_data"
    }
   ],
   "source": [
    "print(train['travel_with'].value_counts())\n",
    "plt.figure(figsize=(10,5))\n",
    "train['travel_with'].value_counts(normalize=True).plot(kind='bar')\n",
    "plt.ylabel('counts')\n",
    "plt.xticks(rotation=45)\n",
    "plt.xlabel('travel_with')"
   ]
  },
  {
   "cell_type": "markdown",
   "metadata": {
    "id": "fVLrQEOuve99"
   },
   "source": [
    "### Purpose"
   ]
  },
  {
   "cell_type": "markdown",
   "metadata": {
    "id": "87ERe8K5ve99"
   },
   "source": [
    "#### Alone the majority, followed by spouse which is understandable"
   ]
  },
  {
   "cell_type": "code",
   "execution_count": 24,
   "metadata": {
    "colab": {
     "base_uri": "https://localhost:8080/",
     "height": 645
    },
    "id": "kdAsKEUeve99",
    "outputId": "af3c9d6e-80f6-4182-8685-42f0c1f31358"
   },
   "outputs": [
    {
     "name": "stdout",
     "output_type": "stream",
     "text": [
      "Leisure and Holidays              11755\n",
      "Visiting Friends and Relatives     2304\n",
      "Business                           2297\n",
      "Meetings and Conference            1179\n",
      "Volunteering                        438\n",
      "Other                               326\n",
      "Scientific and Academic             198\n",
      "Medical                               9\n",
      "Name: purpose, dtype: int64\n"
     ]
    },
    {
     "data": {
      "text/plain": [
       "Text(0.5, 0, 'purpose')"
      ]
     },
     "execution_count": 24,
     "metadata": {},
     "output_type": "execute_result"
    },
    {
     "data": {
      "image/png": "[encoded data removed]",
      "text/plain": [
       "<Figure size 720x360 with 1 Axes>"
      ]
     },
     "metadata": {
      "needs_background": "light"
     },
     "output_type": "display_data"
    }
   ],
   "source": [
    "print(train['purpose'].value_counts())\n",
    "plt.figure(figsize=(10,5))\n",
    "train['purpose'].value_counts(normalize=True).plot(kind='bar')\n",
    "plt.ylabel('counts')\n",
    "plt.xlabel('purpose')"
   ]
  },
  {
   "cell_type": "markdown",
   "metadata": {
    "id": "6FwqDkS_ve9-"
   },
   "source": [
    "#### Understandable with majority being here for leisure and holiday. This feature is also in contention for a Group KFold as per the description"
   ]
  },
  {
   "cell_type": "markdown",
   "metadata": {
    "id": "O0SPeAaEve9-"
   },
   "source": [
    "### Main Activity"
   ]
  },
  {
   "cell_type": "code",
   "execution_count": 25,
   "metadata": {},
   "outputs": [],
   "source": [
    "train['wildlife_tourism'] = train['main_activity'].values[1] + train['main_activity'].values[2]"
   ]
  },
  {
   "cell_type": "code",
   "execution_count": 26,
   "metadata": {
    "colab": {
     "base_uri": "https://localhost:8080/",
     "height": 655
    },
    "id": "QCQVhW24ve9-",
    "outputId": "f04d36ed-0c40-4d48-e2c4-6e82d6f77aed"
   },
   "outputs": [
    {
     "name": "stdout",
     "output_type": "stream",
     "text": [
      "Widlife Tourism             5988\n",
      "Beach Tourism               4172\n",
      "Wildlife Tourism            2283\n",
      "Conference Tourism          1920\n",
      "Hunting Tourism             1712\n",
      "Cultural Tourism            1444\n",
      "Mountain Climbing            529\n",
      "Business                     280\n",
      "Bird Tourism                 144\n",
      "Diving and Sport Fishing      34\n",
      "Name: main_activity, dtype: int64\n"
     ]
    },
    {
     "data": {
      "text/plain": [
       "Text(0.5, 0, 'main_activity')"
      ]
     },
     "execution_count": 26,
     "metadata": {},
     "output_type": "execute_result"
    },
    {
     "data": {
      "image/png": "[encoded data removed]",
      "text/plain": [
       "<Figure size 720x360 with 1 Axes>"
      ]
     },
     "metadata": {
      "needs_background": "light"
     },
     "output_type": "display_data"
    }
   ],
   "source": [
    "print(train['main_activity'].value_counts())\n",
    "plt.figure(figsize=(10,5))\n",
    "train['main_activity'].value_counts(normalize=True).plot(kind='bar')\n",
    "plt.ylabel('counts')\n",
    "plt.xlabel('main_activity')"
   ]
  },
  {
   "cell_type": "code",
   "execution_count": 27,
   "metadata": {},
   "outputs": [],
   "source": [
    "# train.columns"
   ]
  },
  {
   "cell_type": "markdown",
   "metadata": {
    "id": "ZuuiOyenve9_"
   },
   "source": [
    "#### Wildlife Tourism is the majority one, since AFrica is well know for Tourism"
   ]
  },
  {
   "cell_type": "markdown",
   "metadata": {
    "id": "aiBR42J-ve9_"
   },
   "source": [
    " ### Info Source"
   ]
  },
  {
   "cell_type": "code",
   "execution_count": 28,
   "metadata": {
    "colab": {
     "base_uri": "https://localhost:8080/",
     "height": 671
    },
    "id": "f6VWwSIfve-A",
    "outputId": "b871653e-32ac-40c8-9b53-fe8aa2714ae0"
   },
   "outputs": [
    {
     "name": "stdout",
     "output_type": "stream",
     "text": [
      "Travel agent, tour operator        8005\n",
      "Friends, relatives                 6077\n",
      "Others                             1368\n",
      "Newspaper, magazines, brochures    1301\n",
      "Radio, TV, Web                     1223\n",
      "Trade fair                          243\n",
      "Tanzania Mission Abroad             197\n",
      "Inflight magazines                   92\n",
      "Name: info_source, dtype: int64\n"
     ]
    },
    {
     "data": {
      "text/plain": [
       "Text(0.5, 0, 'info_source')"
      ]
     },
     "execution_count": 28,
     "metadata": {},
     "output_type": "execute_result"
    },
    {
     "data": {
      "image/png": "[encoded data removed]",
      "text/plain": [
       "<Figure size 720x360 with 1 Axes>"
      ]
     },
     "metadata": {
      "needs_background": "light"
     },
     "output_type": "display_data"
    }
   ],
   "source": [
    "print(train['info_source'].value_counts())\n",
    "plt.figure(figsize=(10,5))\n",
    "train['info_source'].value_counts(normalize=True).plot(kind='bar')\n",
    "plt.ylabel('counts')\n",
    "plt.xlabel('info_source')"
   ]
  },
  {
   "cell_type": "markdown",
   "metadata": {
    "id": "LYX4ieAGve-A"
   },
   "source": [
    "#### Travel agencies are the leading source of info, which is understandable followed by friends "
   ]
  },
  {
   "cell_type": "markdown",
   "metadata": {
    "id": "1uYlJB_Mve-B"
   },
   "source": [
    "### Tour Arrangement"
   ]
  },
  {
   "cell_type": "code",
   "execution_count": 29,
   "metadata": {
    "colab": {
     "base_uri": "https://localhost:8080/",
     "height": 458
    },
    "id": "_84PVg9pve-C",
    "outputId": "2343753c-3a67-40ca-df3d-aec5cf749813"
   },
   "outputs": [
    {
     "name": "stdout",
     "output_type": "stream",
     "text": [
      "Package Tour    9295\n",
      "Independent     9211\n",
      "Name: tour_arrangement, dtype: int64\n"
     ]
    },
    {
     "data": {
      "text/plain": [
       "Text(0.5, 0, 'tour_arrangement')"
      ]
     },
     "execution_count": 29,
     "metadata": {},
     "output_type": "execute_result"
    },
    {
     "data": {
      "image/png": "[encoded data removed]",
      "text/plain": [
       "<Figure size 720x360 with 1 Axes>"
      ]
     },
     "metadata": {
      "needs_background": "light"
     },
     "output_type": "display_data"
    }
   ],
   "source": [
    "\n",
    "print(train['tour_arrangement'].value_counts())\n",
    "plt.figure(figsize=(10,5))\n",
    "train['tour_arrangement'].value_counts(normalize=True).plot(kind='bar')\n",
    "plt.ylabel('counts')\n",
    "plt.xlabel('tour_arrangement')"
   ]
  },
  {
   "cell_type": "markdown",
   "metadata": {
    "id": "ia-WFF7Qve-C"
   },
   "source": [
    "#### Equal distribution here"
   ]
  },
  {
   "cell_type": "markdown",
   "metadata": {
    "id": "gsxroHjsve-C"
   },
   "source": [
    "### Package Transport Int"
   ]
  },
  {
   "cell_type": "code",
   "execution_count": 30,
   "metadata": {
    "colab": {
     "base_uri": "https://localhost:8080/",
     "height": 410
    },
    "id": "5MID1P1Rve-D",
    "outputId": "56146cc9-5104-4f8f-ee1f-38f16c49e6ff"
   },
   "outputs": [
    {
     "name": "stdout",
     "output_type": "stream",
     "text": [
      "No     12238\n",
      "Yes     6268\n",
      "Name: package_transport_int, dtype: int64\n"
     ]
    },
    {
     "data": {
      "text/plain": [
       "Text(0.5, 0, 'package_transport_int')"
      ]
     },
     "execution_count": 30,
     "metadata": {},
     "output_type": "execute_result"
    },
    {
     "data": {
      "image/png": "[encoded data removed]",
      "text/plain": [
       "<Figure size 720x360 with 1 Axes>"
      ]
     },
     "metadata": {
      "needs_background": "light"
     },
     "output_type": "display_data"
    }
   ],
   "source": [
    "\n",
    "print(train['package_transport_int'].value_counts())\n",
    "plt.figure(figsize=(10,5))\n",
    "train['package_transport_int'].value_counts(normalize=True).plot(kind='bar')\n",
    "plt.ylabel('counts')\n",
    "plt.xlabel('package_transport_int')"
   ]
  },
  {
   "cell_type": "markdown",
   "metadata": {
    "id": "9lVwsvYDve-D"
   },
   "source": [
    "#### Majority the international transport wasn't provided"
   ]
  },
  {
   "cell_type": "markdown",
   "metadata": {
    "id": "Twf7eqUqve-D"
   },
   "source": [
    "### Package Accomodation"
   ]
  },
  {
   "cell_type": "code",
   "execution_count": 31,
   "metadata": {
    "colab": {
     "base_uri": "https://localhost:8080/",
     "height": 410
    },
    "id": "Dpe0JLAgve-E",
    "outputId": "185e358d-0ff7-4dca-fcd5-7e6757d8c59d"
   },
   "outputs": [
    {
     "name": "stdout",
     "output_type": "stream",
     "text": [
      "No     9541\n",
      "Yes    8965\n",
      "Name: package_accomodation, dtype: int64\n"
     ]
    },
    {
     "data": {
      "text/plain": [
       "Text(0.5, 0, 'package_accomodation')"
      ]
     },
     "execution_count": 31,
     "metadata": {},
     "output_type": "execute_result"
    },
    {
     "data": {
      "image/png": "[encoded data removed]",
      "text/plain": [
       "<Figure size 720x360 with 1 Axes>"
      ]
     },
     "metadata": {
      "needs_background": "light"
     },
     "output_type": "display_data"
    }
   ],
   "source": [
    "\n",
    "print(train['package_accomodation'].value_counts())\n",
    "plt.figure(figsize=(10,5))\n",
    "train['package_accomodation'].value_counts(normalize=True).plot(kind='bar')\n",
    "plt.ylabel('counts')\n",
    "plt.xlabel('package_accomodation')"
   ]
  },
  {
   "cell_type": "markdown",
   "metadata": {
    "id": "E5oSEngzve-E"
   },
   "source": [
    "#### Majority The accomodation package was not provided although equal distribution"
   ]
  },
  {
   "cell_type": "markdown",
   "metadata": {
    "id": "l_WbxqVTve-E"
   },
   "source": [
    "### Package Food"
   ]
  },
  {
   "cell_type": "code",
   "execution_count": 32,
   "metadata": {
    "colab": {
     "base_uri": "https://localhost:8080/",
     "height": 410
    },
    "id": "cvhra3NBve-F",
    "outputId": "98d77f5c-020d-4165-bcd8-aad330a62bc4"
   },
   "outputs": [
    {
     "name": "stdout",
     "output_type": "stream",
     "text": [
      "No     10143\n",
      "Yes     8363\n",
      "Name: package_food, dtype: int64\n"
     ]
    },
    {
     "data": {
      "text/plain": [
       "Text(0.5, 0, 'package_food')"
      ]
     },
     "execution_count": 32,
     "metadata": {},
     "output_type": "execute_result"
    },
    {
     "data": {
      "image/png": "[encoded data removed]",
      "text/plain": [
       "<Figure size 720x360 with 1 Axes>"
      ]
     },
     "metadata": {
      "needs_background": "light"
     },
     "output_type": "display_data"
    }
   ],
   "source": [
    "\n",
    "print(train['package_food'].value_counts())\n",
    "plt.figure(figsize=(10,5))\n",
    "train['package_food'].value_counts(normalize=True).plot(kind='bar')\n",
    "plt.ylabel('counts')\n",
    "plt.xlabel('package_food')"
   ]
  },
  {
   "cell_type": "markdown",
   "metadata": {
    "id": "MCNQQvWlve-F"
   },
   "source": [
    "#### Majority Package food wasnt provided"
   ]
  },
  {
   "cell_type": "markdown",
   "metadata": {
    "id": "_JxVGxBvve-G"
   },
   "source": [
    "### Package Transport TZ"
   ]
  },
  {
   "cell_type": "code",
   "execution_count": 33,
   "metadata": {
    "colab": {
     "base_uri": "https://localhost:8080/",
     "height": 410
    },
    "id": "A-V8CUJrve-G",
    "outputId": "e1bae08b-96dc-467d-8baf-7a4110cc3b4d"
   },
   "outputs": [
    {
     "name": "stdout",
     "output_type": "stream",
     "text": [
      "No     10873\n",
      "Yes     7633\n",
      "Name: package_transport_tz, dtype: int64\n"
     ]
    },
    {
     "data": {
      "text/plain": [
       "Text(0.5, 0, 'package_transport_tz')"
      ]
     },
     "execution_count": 33,
     "metadata": {},
     "output_type": "execute_result"
    },
    {
     "data": {
      "image/png": "[encoded data removed]",
      "text/plain": [
       "<Figure size 720x360 with 1 Axes>"
      ]
     },
     "metadata": {
      "needs_background": "light"
     },
     "output_type": "display_data"
    }
   ],
   "source": [
    "\n",
    "print(train['package_transport_tz'].value_counts())\n",
    "plt.figure(figsize=(10,5))\n",
    "train['package_transport_tz'].value_counts(normalize=True).plot(kind='bar')\n",
    "plt.ylabel('counts')\n",
    "plt.xlabel('package_transport_tz')"
   ]
  },
  {
   "cell_type": "markdown",
   "metadata": {
    "id": "2LvgX4Dove-H"
   },
   "source": [
    "#### Majority Tanzania transport package was not provided"
   ]
  },
  {
   "cell_type": "markdown",
   "metadata": {
    "id": "_8Yg5f6wve-H"
   },
   "source": [
    "### Package SightSeeing"
   ]
  },
  {
   "cell_type": "code",
   "execution_count": 34,
   "metadata": {
    "colab": {
     "base_uri": "https://localhost:8080/",
     "height": 410
    },
    "id": "HOSy1C5ave-H",
    "outputId": "67eb33b4-7991-4240-fa3d-4caa81493ab6"
   },
   "outputs": [
    {
     "name": "stdout",
     "output_type": "stream",
     "text": [
      "No     12786\n",
      "Yes     5720\n",
      "Name: package_sightseeing, dtype: int64\n"
     ]
    },
    {
     "data": {
      "text/plain": [
       "Text(0.5, 0, 'package_sightseeing')"
      ]
     },
     "execution_count": 34,
     "metadata": {},
     "output_type": "execute_result"
    },
    {
     "data": {
      "image/png": "[encoded data removed]",
      "text/plain": [
       "<Figure size 720x360 with 1 Axes>"
      ]
     },
     "metadata": {
      "needs_background": "light"
     },
     "output_type": "display_data"
    }
   ],
   "source": [
    "\n",
    "print(train['package_sightseeing'].value_counts())\n",
    "plt.figure(figsize=(10,5))\n",
    "train['package_sightseeing'].value_counts(normalize=True).plot(kind='bar')\n",
    "plt.ylabel('counts')\n",
    "plt.xlabel('package_sightseeing')"
   ]
  },
  {
   "cell_type": "markdown",
   "metadata": {
    "id": "4UqqfyKBve-I"
   },
   "source": [
    "#### Majority Package_sightseeing was not provided"
   ]
  },
  {
   "cell_type": "markdown",
   "metadata": {
    "id": "RN23ng-mve-J"
   },
   "source": [
    "### Package Guided Tour"
   ]
  },
  {
   "cell_type": "code",
   "execution_count": 35,
   "metadata": {
    "colab": {
     "base_uri": "https://localhost:8080/",
     "height": 411
    },
    "id": "_KMb43tnve-J",
    "outputId": "8f7d5465-a758-47f0-e7ec-0c84ece7d15e"
   },
   "outputs": [
    {
     "name": "stdout",
     "output_type": "stream",
     "text": [
      "No     12447\n",
      "Yes     6059\n",
      "Name: package_guided_tour, dtype: int64\n"
     ]
    },
    {
     "data": {
      "text/plain": [
       "Text(0.5, 0, 'package_guided_tour')"
      ]
     },
     "execution_count": 35,
     "metadata": {},
     "output_type": "execute_result"
    },
    {
     "data": {
      "image/png": "[encoded data removed]",
      "text/plain": [
       "<Figure size 720x360 with 1 Axes>"
      ]
     },
     "metadata": {
      "needs_background": "light"
     },
     "output_type": "display_data"
    }
   ],
   "source": [
    "\n",
    "print(train['package_guided_tour'].value_counts())\n",
    "plt.figure(figsize=(10,5))\n",
    "train['package_guided_tour'].value_counts(normalize=True).plot(kind='bar')\n",
    "plt.ylabel('counts')\n",
    "plt.xlabel('package_guided_tour')"
   ]
  },
  {
   "cell_type": "markdown",
   "metadata": {
    "id": "TxzKXwRive-K"
   },
   "source": [
    "#### Majority package guided tour wasnt provided"
   ]
  },
  {
   "cell_type": "markdown",
   "metadata": {
    "id": "u1onPdu5ve-K"
   },
   "source": [
    "### Package Insurance"
   ]
  },
  {
   "cell_type": "code",
   "execution_count": 36,
   "metadata": {
    "colab": {
     "base_uri": "https://localhost:8080/",
     "height": 410
    },
    "id": "0saxintlve-L",
    "outputId": "196c5c73-4aa9-48ef-d5f5-f67f9bf259e4"
   },
   "outputs": [
    {
     "name": "stdout",
     "output_type": "stream",
     "text": [
      "No     15809\n",
      "Yes     2697\n",
      "Name: package_insurance, dtype: int64\n"
     ]
    },
    {
     "data": {
      "text/plain": [
       "Text(0.5, 0, 'package_insurance')"
      ]
     },
     "execution_count": 36,
     "metadata": {},
     "output_type": "execute_result"
    },
    {
     "data": {
      "image/png": "[encoded data removed]",
      "text/plain": [
       "<Figure size 720x360 with 1 Axes>"
      ]
     },
     "metadata": {
      "needs_background": "light"
     },
     "output_type": "display_data"
    }
   ],
   "source": [
    "\n",
    "print(train['package_insurance'].value_counts())\n",
    "plt.figure(figsize=(10,5))\n",
    "train['package_insurance'].value_counts(normalize=True).plot(kind='bar')\n",
    "plt.ylabel('counts')\n",
    "plt.xlabel('package_insurance')"
   ]
  },
  {
   "cell_type": "markdown",
   "metadata": {
    "id": "dTCDQqu1ve-M"
   },
   "source": [
    "#### Majority Package_insurance was not provided and there is an imbalance between the two classes"
   ]
  },
  {
   "cell_type": "markdown",
   "metadata": {
    "id": "7t1ZxwNbve-M"
   },
   "source": [
    "### First Trip Tz"
   ]
  },
  {
   "cell_type": "code",
   "execution_count": 37,
   "metadata": {
    "colab": {
     "base_uri": "https://localhost:8080/",
     "height": 410
    },
    "id": "kYF816DNve-M",
    "outputId": "52f22d0e-e546-4858-ae85-b661e2c6b31c"
   },
   "outputs": [
    {
     "name": "stdout",
     "output_type": "stream",
     "text": [
      "Yes    12737\n",
      "No      5769\n",
      "Name: first_trip_tz, dtype: int64\n"
     ]
    },
    {
     "data": {
      "text/plain": [
       "Text(0.5, 0, 'first_trip_tz')"
      ]
     },
     "execution_count": 37,
     "metadata": {},
     "output_type": "execute_result"
    },
    {
     "data": {
      "image/png": "[encoded data removed]",
      "text/plain": [
       "<Figure size 720x360 with 1 Axes>"
      ]
     },
     "metadata": {
      "needs_background": "light"
     },
     "output_type": "display_data"
    }
   ],
   "source": [
    "\n",
    "print(train['first_trip_tz'].value_counts())\n",
    "plt.figure(figsize=(10,5))\n",
    "train['first_trip_tz'].value_counts(normalize=True).plot(kind='bar')\n",
    "plt.ylabel('counts')\n",
    "plt.xlabel('first_trip_tz')"
   ]
  },
  {
   "cell_type": "markdown",
   "metadata": {
    "id": "2hjFD4T5ve-N"
   },
   "source": [
    "#### Majority it was their first time in Tanzania"
   ]
  },
  {
   "cell_type": "markdown",
   "metadata": {
    "id": "1mx-uUX8ve-N"
   },
   "source": [
    "### Now lets look at the Target class and see if its imbalanced"
   ]
  },
  {
   "cell_type": "code",
   "execution_count": 38,
   "metadata": {
    "colab": {
     "base_uri": "https://localhost:8080/",
     "height": 527
    },
    "id": "8hU_OhfQve-N",
    "outputId": "0f139ce1-bc65-4931-d466-2c81b79f2291"
   },
   "outputs": [
    {
     "name": "stdout",
     "output_type": "stream",
     "text": [
      "Normal Cost     5471\n",
      "Higher Cost     4865\n",
      "High Cost       3678\n",
      "Lower Cost      2567\n",
      "Low Cost        1566\n",
      "Highest Cost     359\n",
      "Name: cost_category, dtype: int64\n"
     ]
    },
    {
     "data": {
      "text/plain": [
       "Text(0.5, 0, 'Cost_Category')"
      ]
     },
     "execution_count": 38,
     "metadata": {},
     "output_type": "execute_result"
    },
    {
     "data": {
      "image/png": "[encoded data removed]",
      "text/plain": [
       "<Figure size 720x360 with 1 Axes>"
      ]
     },
     "metadata": {
      "needs_background": "light"
     },
     "output_type": "display_data"
    }
   ],
   "source": [
    "print(train['cost_category'].value_counts())\n",
    "plt.figure(figsize=(10,5))\n",
    "train['cost_category'].value_counts(normalize=True).plot(kind='bar')\n",
    "plt.ylabel('counts')\n",
    "plt.xlabel('Cost_Category')"
   ]
  },
  {
   "cell_type": "markdown",
   "metadata": {
    "id": "WLA1w0ACve-O"
   },
   "source": [
    "#### The last class is imbalanced so find a good cross validation scheme to deal with this or other ways\n",
    "- use class weights\n",
    "- smote"
   ]
  },
  {
   "cell_type": "markdown",
   "metadata": {
    "id": "cCjF3sLPve-O"
   },
   "source": [
    "### Conclusion Categorical Features \n",
    "* Is the distribution of cat columns fair? if not what can you do? tip clustering\n",
    "* do the distributions make sense ?\n",
    "* Visualize also the numerical columns\n"
   ]
  },
  {
   "cell_type": "code",
   "execution_count": 39,
   "metadata": {},
   "outputs": [],
   "source": [
    "# train.dtypes"
   ]
  },
  {
   "cell_type": "code",
   "execution_count": 40,
   "metadata": {},
   "outputs": [
    {
     "data": {
      "text/plain": [
       "['total_female', 'total_male', 'night_mainland', 'night_zanzibar']"
      ]
     },
     "execution_count": 40,
     "metadata": {},
     "output_type": "execute_result"
    }
   ],
   "source": [
    "# numerical columns\n",
    "num = [col for col in train.select_dtypes(['float', 'int64'])]\n",
    "num"
   ]
  },
  {
   "cell_type": "markdown",
   "metadata": {},
   "source": [
    "### Total Female"
   ]
  },
  {
   "cell_type": "code",
   "execution_count": 41,
   "metadata": {},
   "outputs": [
    {
     "data": {
      "text/plain": [
       "Text(0.5, 0, 'Total female')"
      ]
     },
     "execution_count": 41,
     "metadata": {},
     "output_type": "execute_result"
    },
    {
     "data": {
      "image/png": "[encoded data removed]",
      "text/plain": [
       "<Figure size 720x360 with 1 Axes>"
      ]
     },
     "metadata": {
      "needs_background": "light"
     },
     "output_type": "display_data"
    }
   ],
   "source": [
    "# print(train['total_female'].value_counts())\n",
    "plt.figure(figsize=(10,5))\n",
    "train['total_female'].value_counts().plot(kind='bar')\n",
    "plt.xticks(rotation=45)\n",
    "plt.ylabel('Count')\n",
    "plt.xlabel('Total female')"
   ]
  },
  {
   "cell_type": "markdown",
   "metadata": {},
   "source": [
    "### Total male"
   ]
  },
  {
   "cell_type": "code",
   "execution_count": 42,
   "metadata": {},
   "outputs": [
    {
     "data": {
      "text/plain": [
       "Text(0.5, 0, 'Total male')"
      ]
     },
     "execution_count": 42,
     "metadata": {},
     "output_type": "execute_result"
    },
    {
     "data": {
      "image/png": "[encoded data removed]",
      "text/plain": [
       "<Figure size 720x360 with 1 Axes>"
      ]
     },
     "metadata": {
      "needs_background": "light"
     },
     "output_type": "display_data"
    }
   ],
   "source": [
    "# print(train['total_male'].value_counts())\n",
    "plt.figure(figsize=(10,5))\n",
    "train['total_male'].value_counts().plot(kind='bar')\n",
    "plt.xticks(rotation=45)\n",
    "plt.ylabel('Count')\n",
    "plt.xlabel('Total male')"
   ]
  },
  {
   "cell_type": "markdown",
   "metadata": {},
   "source": [
    "### Distribution of numerical columns"
   ]
  },
  {
   "cell_type": "code",
   "execution_count": 43,
   "metadata": {},
   "outputs": [
    {
     "data": {
      "text/plain": [
       "array([[<AxesSubplot:title={'center':'total_female'}>,\n",
       "        <AxesSubplot:title={'center':'total_male'}>],\n",
       "       [<AxesSubplot:title={'center':'night_mainland'}>,\n",
       "        <AxesSubplot:title={'center':'night_zanzibar'}>]], dtype=object)"
      ]
     },
     "execution_count": 43,
     "metadata": {},
     "output_type": "execute_result"
    },
    {
     "data": {
      "text/plain": [
       "<Figure size 1440x1800 with 0 Axes>"
      ]
     },
     "metadata": {},
     "output_type": "display_data"
    },
    {
     "data": {
      "image/png": "[encoded data removed]",
      "text/plain": [
       "<Figure size 432x288 with 4 Axes>"
      ]
     },
     "metadata": {
      "needs_background": "light"
     },
     "output_type": "display_data"
    }
   ],
   "source": [
    "plt.figure(figsize = (20, 25))\n",
    "train.hist()"
   ]
  },
  {
   "cell_type": "code",
   "execution_count": 44,
   "metadata": {},
   "outputs": [
    {
     "data": {
      "text/plain": [
       "['total_female', 'total_male', 'night_mainland', 'night_zanzibar']"
      ]
     },
     "execution_count": 44,
     "metadata": {},
     "output_type": "execute_result"
    }
   ],
   "source": [
    "cat_cols = [col for col in train.select_dtypes(['int64', 'float']).columns]\n",
    "cat_cols"
   ]
  },
  {
   "cell_type": "code",
   "execution_count": 45,
   "metadata": {},
   "outputs": [
    {
     "data": {
      "image/png": "[encoded data removed]",
      "text/plain": [
       "<Figure size 720x360 with 1 Axes>"
      ]
     },
     "metadata": {
      "needs_background": "light"
     },
     "output_type": "display_data"
    }
   ],
   "source": [
    "plt.figure(figsize = (10, 5))\n",
    "for cat in cat_cols:\n",
    "    train[cat_cols].boxplot()"
   ]
  },
  {
   "cell_type": "code",
   "execution_count": 46,
   "metadata": {},
   "outputs": [
    {
     "data": {
      "text/html": [
       "<div>\n",
       "<style scoped>\n",
       "    .dataframe tbody tr th:only-of-type {\n",
       "        vertical-align: middle;\n",
       "    }\n",
       "\n",
       "    .dataframe tbody tr th {\n",
       "        vertical-align: top;\n",
       "    }\n",
       "\n",
       "    .dataframe thead th {\n",
       "        text-align: right;\n",
       "    }\n",
       "</style>\n",
       "<table border=\"1\" class=\"dataframe\">\n",
       "  <thead>\n",
       "    <tr style=\"text-align: right;\">\n",
       "      <th></th>\n",
       "      <th>Tour_ID</th>\n",
       "      <th>country</th>\n",
       "      <th>age_group</th>\n",
       "      <th>travel_with</th>\n",
       "      <th>total_female</th>\n",
       "      <th>total_male</th>\n",
       "      <th>purpose</th>\n",
       "      <th>main_activity</th>\n",
       "      <th>info_source</th>\n",
       "      <th>tour_arrangement</th>\n",
       "      <th>...</th>\n",
       "      <th>package_food</th>\n",
       "      <th>package_transport_tz</th>\n",
       "      <th>package_sightseeing</th>\n",
       "      <th>package_guided_tour</th>\n",
       "      <th>package_insurance</th>\n",
       "      <th>night_mainland</th>\n",
       "      <th>night_zanzibar</th>\n",
       "      <th>first_trip_tz</th>\n",
       "      <th>cost_category</th>\n",
       "      <th>wildlife_tourism</th>\n",
       "    </tr>\n",
       "  </thead>\n",
       "  <tbody>\n",
       "    <tr>\n",
       "      <th>0</th>\n",
       "      <td>tour_id1hffseyw</td>\n",
       "      <td>ITALY</td>\n",
       "      <td>45-64</td>\n",
       "      <td>With Children</td>\n",
       "      <td>0.0</td>\n",
       "      <td>2.0</td>\n",
       "      <td>Visiting Friends and Relatives</td>\n",
       "      <td>Beach Tourism</td>\n",
       "      <td>Friends, relatives</td>\n",
       "      <td>Package Tour</td>\n",
       "      <td>...</td>\n",
       "      <td>Yes</td>\n",
       "      <td>Yes</td>\n",
       "      <td>No</td>\n",
       "      <td>No</td>\n",
       "      <td>No</td>\n",
       "      <td>0</td>\n",
       "      <td>7</td>\n",
       "      <td>Yes</td>\n",
       "      <td>High Cost</td>\n",
       "      <td>Wildlife TourismWidlife Tourism</td>\n",
       "    </tr>\n",
       "    <tr>\n",
       "      <th>1</th>\n",
       "      <td>tour_idnacd7zag</td>\n",
       "      <td>UNITED KINGDOM</td>\n",
       "      <td>25-44</td>\n",
       "      <td>With Spouse</td>\n",
       "      <td>1.0</td>\n",
       "      <td>1.0</td>\n",
       "      <td>Leisure and Holidays</td>\n",
       "      <td>Wildlife Tourism</td>\n",
       "      <td>Travel agent, tour operator</td>\n",
       "      <td>Package Tour</td>\n",
       "      <td>...</td>\n",
       "      <td>Yes</td>\n",
       "      <td>Yes</td>\n",
       "      <td>No</td>\n",
       "      <td>No</td>\n",
       "      <td>No</td>\n",
       "      <td>0</td>\n",
       "      <td>7</td>\n",
       "      <td>Yes</td>\n",
       "      <td>High Cost</td>\n",
       "      <td>Wildlife TourismWidlife Tourism</td>\n",
       "    </tr>\n",
       "    <tr>\n",
       "      <th>2</th>\n",
       "      <td>tour_id62vz7e71</td>\n",
       "      <td>UNITED STATES OF AMERICA</td>\n",
       "      <td>65+</td>\n",
       "      <td>With Spouse</td>\n",
       "      <td>1.0</td>\n",
       "      <td>1.0</td>\n",
       "      <td>Leisure and Holidays</td>\n",
       "      <td>Widlife Tourism</td>\n",
       "      <td>Travel agent, tour operator</td>\n",
       "      <td>Package Tour</td>\n",
       "      <td>...</td>\n",
       "      <td>Yes</td>\n",
       "      <td>Yes</td>\n",
       "      <td>Yes</td>\n",
       "      <td>Yes</td>\n",
       "      <td>No</td>\n",
       "      <td>6</td>\n",
       "      <td>6</td>\n",
       "      <td>Yes</td>\n",
       "      <td>Higher Cost</td>\n",
       "      <td>Wildlife TourismWidlife Tourism</td>\n",
       "    </tr>\n",
       "  </tbody>\n",
       "</table>\n",
       "<p>3 rows × 22 columns</p>\n",
       "</div>"
      ],
      "text/plain": [
       "           Tour_ID                   country age_group    travel_with  \\\n",
       "0  tour_id1hffseyw                     ITALY     45-64  With Children   \n",
       "1  tour_idnacd7zag            UNITED KINGDOM     25-44    With Spouse   \n",
       "2  tour_id62vz7e71  UNITED STATES OF AMERICA       65+    With Spouse   \n",
       "\n",
       "   total_female  total_male                         purpose     main_activity  \\\n",
       "0           0.0         2.0  Visiting Friends and Relatives     Beach Tourism   \n",
       "1           1.0         1.0            Leisure and Holidays  Wildlife Tourism   \n",
       "2           1.0         1.0            Leisure and Holidays   Widlife Tourism   \n",
       "\n",
       "                   info_source tour_arrangement  ... package_food  \\\n",
       "0           Friends, relatives     Package Tour  ...          Yes   \n",
       "1  Travel agent, tour operator     Package Tour  ...          Yes   \n",
       "2  Travel agent, tour operator     Package Tour  ...          Yes   \n",
       "\n",
       "  package_transport_tz package_sightseeing package_guided_tour  \\\n",
       "0                  Yes                  No                  No   \n",
       "1                  Yes                  No                  No   \n",
       "2                  Yes                 Yes                 Yes   \n",
       "\n",
       "  package_insurance night_mainland night_zanzibar  first_trip_tz  \\\n",
       "0                No              0              7            Yes   \n",
       "1                No              0              7            Yes   \n",
       "2                No              6              6            Yes   \n",
       "\n",
       "   cost_category                 wildlife_tourism  \n",
       "0      High Cost  Wildlife TourismWidlife Tourism  \n",
       "1      High Cost  Wildlife TourismWidlife Tourism  \n",
       "2    Higher Cost  Wildlife TourismWidlife Tourism  \n",
       "\n",
       "[3 rows x 22 columns]"
      ]
     },
     "execution_count": 46,
     "metadata": {},
     "output_type": "execute_result"
    }
   ],
   "source": [
    "train.head(3)"
   ]
  },
  {
   "cell_type": "code",
   "execution_count": 47,
   "metadata": {},
   "outputs": [
    {
     "data": {
      "image/png": "[encoded data removed]",
      "text/plain": [
       "<Figure size 432x288 with 1 Axes>"
      ]
     },
     "metadata": {
      "needs_background": "light"
     },
     "output_type": "display_data"
    },
    {
     "data": {
      "image/png": "[encoded data removed]",
      "text/plain": [
       "<Figure size 432x288 with 1 Axes>"
      ]
     },
     "metadata": {
      "needs_background": "light"
     },
     "output_type": "display_data"
    },
    {
     "data": {
      "image/png": "[encoded data removed]",
      "text/plain": [
       "<Figure size 432x288 with 1 Axes>"
      ]
     },
     "metadata": {
      "needs_background": "light"
     },
     "output_type": "display_data"
    },
    {
     "data": {
      "image/png": "[encoded data removed]",
      "text/plain": [
       "<Figure size 432x288 with 1 Axes>"
      ]
     },
     "metadata": {
      "needs_background": "light"
     },
     "output_type": "display_data"
    }
   ],
   "source": [
    "# remove outliers\n",
    "for col in cat_cols:\n",
    "    std = train[col].std()\n",
    "    mean = train[col].mean()\n",
    "\n",
    "\n",
    "    cut_off = std * 3\n",
    "\n",
    "    lower, upper = mean - cut_off, mean + cut_off\n",
    "\n",
    "    train = train[(train[col] < upper) & (train[col] > lower)]\n",
    "\n",
    "    train[[col]].boxplot()\n",
    "    plt.show()"
   ]
  },
  {
   "cell_type": "markdown",
   "metadata": {
    "id": "kqvv9iozve-O"
   },
   "source": [
    "##  Feature Engineering"
   ]
  },
  {
   "cell_type": "code",
   "execution_count": 48,
   "metadata": {
    "id": "TTqvJVpwve-P"
   },
   "outputs": [],
   "source": [
    "#CONCATENATING BOTH THE TEST AND TRAIN FOR EASY DATA MANIPULATON\n",
    "# The reason we do this is because what transformations you use on train should also go in test data\n",
    "ntrain = train.shape[0]\n",
    "ntest = test.shape[0]\n",
    "data = pd.concat((train, test)).reset_index(drop=True)"
   ]
  },
  {
   "cell_type": "code",
   "execution_count": 49,
   "metadata": {
    "colab": {
     "base_uri": "https://localhost:8080/"
    },
    "id": "BMmH4Uwive-P",
    "outputId": "389796ee-63e5-4345-bed8-14b6871587b3"
   },
   "outputs": [
    {
     "data": {
      "text/plain": [
       "Index(['Tour_ID', 'country', 'age_group', 'travel_with', 'total_female',\n",
       "       'total_male', 'purpose', 'main_activity', 'info_source',\n",
       "       'tour_arrangement', 'package_transport_int', 'package_accomodation',\n",
       "       'package_food', 'package_transport_tz', 'package_sightseeing',\n",
       "       'package_guided_tour', 'package_insurance', 'night_mainland',\n",
       "       'night_zanzibar', 'first_trip_tz', 'cost_category', 'wildlife_tourism'],\n",
       "      dtype='object')"
      ]
     },
     "execution_count": 49,
     "metadata": {},
     "output_type": "execute_result"
    }
   ],
   "source": [
    "data.columns"
   ]
  },
  {
   "cell_type": "markdown",
   "metadata": {
    "id": "_HJDgKm7ve-Q"
   },
   "source": [
    "### Creatively come up with new features or cluster the existing ones\n",
    "* This iss where the real work is in\n",
    "* your creativity matters here?\n",
    "* Read about how you can interact features to come up with new features e.g add the males and females to form a new column called total people"
   ]
  },
  {
   "cell_type": "code",
   "execution_count": 50,
   "metadata": {
    "colab": {
     "base_uri": "https://localhost:8080/"
    },
    "id": "xFp3mXT7ve-Q",
    "outputId": "4a3f4c99-dbab-44e8-c811-ffa8ad0c8ccf"
   },
   "outputs": [
    {
     "data": {
      "text/plain": [
       "Index(['Tour_ID', 'country', 'age_group', 'travel_with', 'total_female',\n",
       "       'total_male', 'purpose', 'main_activity', 'info_source',\n",
       "       'tour_arrangement', 'package_transport_int', 'package_accomodation',\n",
       "       'package_food', 'package_transport_tz', 'package_sightseeing',\n",
       "       'package_guided_tour', 'package_insurance', 'night_mainland',\n",
       "       'night_zanzibar', 'first_trip_tz', 'cost_category', 'wildlife_tourism'],\n",
       "      dtype='object')"
      ]
     },
     "execution_count": 50,
     "metadata": {},
     "output_type": "execute_result"
    }
   ],
   "source": [
    "# print columns\n",
    "data.columns"
   ]
  },
  {
   "cell_type": "code",
   "execution_count": 51,
   "metadata": {},
   "outputs": [],
   "source": [
    "data['num_people'] = data['total_female'] + data['total_male']\n",
    "\n",
    "data['packages'] =   data['package_transport_int'] + data['package_accomodation'] + data['package_food'] \n",
    "+ data['package_transport_tz'] + data['package_sightseeing'] + data['package_guided_tour']\n",
    "+ data['tour_arrangement'] + data['package_insurance']\n",
    "\n",
    "data['nights'] = data['night_mainland'] + data['night_zanzibar']"
   ]
  },
  {
   "cell_type": "code",
   "execution_count": 52,
   "metadata": {},
   "outputs": [],
   "source": [
    "data['purpose_arrangement'] = data['purpose'] + data['tour_arrangement']\n",
    "data['activity_arrangement'] = data['main_activity'] + data['tour_arrangement']"
   ]
  },
  {
   "cell_type": "code",
   "execution_count": 53,
   "metadata": {},
   "outputs": [],
   "source": [
    "data['arrange_pack'] = data['tour_arrangement'] + data['packages']\n",
    "# data['country_night'] = data['country'] + data['nights']"
   ]
  },
  {
   "cell_type": "code",
   "execution_count": 54,
   "metadata": {},
   "outputs": [
    {
     "data": {
      "text/plain": [
       "Index(['Tour_ID', 'country', 'age_group', 'travel_with', 'total_female',\n",
       "       'total_male', 'purpose', 'main_activity', 'info_source',\n",
       "       'tour_arrangement', 'package_transport_int', 'package_accomodation',\n",
       "       'package_food', 'package_transport_tz', 'package_sightseeing',\n",
       "       'package_guided_tour', 'package_insurance', 'night_mainland',\n",
       "       'night_zanzibar', 'first_trip_tz', 'cost_category', 'wildlife_tourism',\n",
       "       'num_people', 'packages', 'nights', 'purpose_arrangement',\n",
       "       'activity_arrangement', 'arrange_pack'],\n",
       "      dtype='object')"
      ]
     },
     "execution_count": 54,
     "metadata": {},
     "output_type": "execute_result"
    }
   ],
   "source": [
    "data.columns"
   ]
  },
  {
   "cell_type": "code",
   "execution_count": 55,
   "metadata": {},
   "outputs": [],
   "source": [
    "# data = data.drop(columns = ['total_female', 'total_male',  \n",
    "#                             'night_mainland', 'night_zanzibar'], axis=1)"
   ]
  },
  {
   "cell_type": "code",
   "execution_count": 56,
   "metadata": {},
   "outputs": [
    {
     "data": {
      "text/html": [
       "<div>\n",
       "<style scoped>\n",
       "    .dataframe tbody tr th:only-of-type {\n",
       "        vertical-align: middle;\n",
       "    }\n",
       "\n",
       "    .dataframe tbody tr th {\n",
       "        vertical-align: top;\n",
       "    }\n",
       "\n",
       "    .dataframe thead th {\n",
       "        text-align: right;\n",
       "    }\n",
       "</style>\n",
       "<table border=\"1\" class=\"dataframe\">\n",
       "  <thead>\n",
       "    <tr style=\"text-align: right;\">\n",
       "      <th></th>\n",
       "      <th>Tour_ID</th>\n",
       "      <th>country</th>\n",
       "      <th>age_group</th>\n",
       "      <th>travel_with</th>\n",
       "      <th>total_female</th>\n",
       "      <th>total_male</th>\n",
       "      <th>purpose</th>\n",
       "      <th>main_activity</th>\n",
       "      <th>info_source</th>\n",
       "      <th>tour_arrangement</th>\n",
       "      <th>...</th>\n",
       "      <th>night_zanzibar</th>\n",
       "      <th>first_trip_tz</th>\n",
       "      <th>cost_category</th>\n",
       "      <th>wildlife_tourism</th>\n",
       "      <th>num_people</th>\n",
       "      <th>packages</th>\n",
       "      <th>nights</th>\n",
       "      <th>purpose_arrangement</th>\n",
       "      <th>activity_arrangement</th>\n",
       "      <th>arrange_pack</th>\n",
       "    </tr>\n",
       "  </thead>\n",
       "  <tbody>\n",
       "    <tr>\n",
       "      <th>0</th>\n",
       "      <td>tour_id1hffseyw</td>\n",
       "      <td>ITALY</td>\n",
       "      <td>45-64</td>\n",
       "      <td>With Children</td>\n",
       "      <td>0.0</td>\n",
       "      <td>2.0</td>\n",
       "      <td>Visiting Friends and Relatives</td>\n",
       "      <td>Beach Tourism</td>\n",
       "      <td>Friends, relatives</td>\n",
       "      <td>Package Tour</td>\n",
       "      <td>...</td>\n",
       "      <td>7</td>\n",
       "      <td>Yes</td>\n",
       "      <td>High Cost</td>\n",
       "      <td>Wildlife TourismWidlife Tourism</td>\n",
       "      <td>2.0</td>\n",
       "      <td>YesYesYes</td>\n",
       "      <td>7</td>\n",
       "      <td>Visiting Friends and RelativesPackage Tour</td>\n",
       "      <td>Beach TourismPackage Tour</td>\n",
       "      <td>Package TourYesYesYes</td>\n",
       "    </tr>\n",
       "    <tr>\n",
       "      <th>1</th>\n",
       "      <td>tour_idnacd7zag</td>\n",
       "      <td>UNITED KINGDOM</td>\n",
       "      <td>25-44</td>\n",
       "      <td>With Spouse</td>\n",
       "      <td>1.0</td>\n",
       "      <td>1.0</td>\n",
       "      <td>Leisure and Holidays</td>\n",
       "      <td>Wildlife Tourism</td>\n",
       "      <td>Travel agent, tour operator</td>\n",
       "      <td>Package Tour</td>\n",
       "      <td>...</td>\n",
       "      <td>7</td>\n",
       "      <td>Yes</td>\n",
       "      <td>High Cost</td>\n",
       "      <td>Wildlife TourismWidlife Tourism</td>\n",
       "      <td>2.0</td>\n",
       "      <td>YesYesYes</td>\n",
       "      <td>7</td>\n",
       "      <td>Leisure and HolidaysPackage Tour</td>\n",
       "      <td>Wildlife TourismPackage Tour</td>\n",
       "      <td>Package TourYesYesYes</td>\n",
       "    </tr>\n",
       "    <tr>\n",
       "      <th>2</th>\n",
       "      <td>tour_id62vz7e71</td>\n",
       "      <td>UNITED STATES OF AMERICA</td>\n",
       "      <td>65+</td>\n",
       "      <td>With Spouse</td>\n",
       "      <td>1.0</td>\n",
       "      <td>1.0</td>\n",
       "      <td>Leisure and Holidays</td>\n",
       "      <td>Widlife Tourism</td>\n",
       "      <td>Travel agent, tour operator</td>\n",
       "      <td>Package Tour</td>\n",
       "      <td>...</td>\n",
       "      <td>6</td>\n",
       "      <td>Yes</td>\n",
       "      <td>Higher Cost</td>\n",
       "      <td>Wildlife TourismWidlife Tourism</td>\n",
       "      <td>2.0</td>\n",
       "      <td>YesYesYes</td>\n",
       "      <td>12</td>\n",
       "      <td>Leisure and HolidaysPackage Tour</td>\n",
       "      <td>Widlife TourismPackage Tour</td>\n",
       "      <td>Package TourYesYesYes</td>\n",
       "    </tr>\n",
       "  </tbody>\n",
       "</table>\n",
       "<p>3 rows × 28 columns</p>\n",
       "</div>"
      ],
      "text/plain": [
       "           Tour_ID                   country age_group    travel_with  \\\n",
       "0  tour_id1hffseyw                     ITALY     45-64  With Children   \n",
       "1  tour_idnacd7zag            UNITED KINGDOM     25-44    With Spouse   \n",
       "2  tour_id62vz7e71  UNITED STATES OF AMERICA       65+    With Spouse   \n",
       "\n",
       "   total_female  total_male                         purpose     main_activity  \\\n",
       "0           0.0         2.0  Visiting Friends and Relatives     Beach Tourism   \n",
       "1           1.0         1.0            Leisure and Holidays  Wildlife Tourism   \n",
       "2           1.0         1.0            Leisure and Holidays   Widlife Tourism   \n",
       "\n",
       "                   info_source tour_arrangement  ... night_zanzibar  \\\n",
       "0           Friends, relatives     Package Tour  ...              7   \n",
       "1  Travel agent, tour operator     Package Tour  ...              7   \n",
       "2  Travel agent, tour operator     Package Tour  ...              6   \n",
       "\n",
       "  first_trip_tz cost_category                 wildlife_tourism num_people  \\\n",
       "0           Yes     High Cost  Wildlife TourismWidlife Tourism        2.0   \n",
       "1           Yes     High Cost  Wildlife TourismWidlife Tourism        2.0   \n",
       "2           Yes   Higher Cost  Wildlife TourismWidlife Tourism        2.0   \n",
       "\n",
       "    packages nights                         purpose_arrangement  \\\n",
       "0  YesYesYes      7  Visiting Friends and RelativesPackage Tour   \n",
       "1  YesYesYes      7            Leisure and HolidaysPackage Tour   \n",
       "2  YesYesYes     12            Leisure and HolidaysPackage Tour   \n",
       "\n",
       "           activity_arrangement           arrange_pack  \n",
       "0     Beach TourismPackage Tour  Package TourYesYesYes  \n",
       "1  Wildlife TourismPackage Tour  Package TourYesYesYes  \n",
       "2   Widlife TourismPackage Tour  Package TourYesYesYes  \n",
       "\n",
       "[3 rows x 28 columns]"
      ]
     },
     "execution_count": 56,
     "metadata": {},
     "output_type": "execute_result"
    }
   ],
   "source": [
    "data.head(3)"
   ]
  },
  {
   "cell_type": "code",
   "execution_count": 57,
   "metadata": {},
   "outputs": [
    {
     "data": {
      "text/plain": [
       "(23734, 28)"
      ]
     },
     "execution_count": 57,
     "metadata": {},
     "output_type": "execute_result"
    }
   ],
   "source": [
    "data.shape"
   ]
  },
  {
   "cell_type": "markdown",
   "metadata": {
    "id": "MOufeoGYve-d"
   },
   "source": [
    "### Pandas Get Dummies\n",
    "* find the difference between this and label encoding"
   ]
  },
  {
   "cell_type": "code",
   "execution_count": 58,
   "metadata": {},
   "outputs": [
    {
     "data": {
      "text/plain": [
       "Index(['Tour_ID', 'country', 'age_group', 'travel_with', 'total_female',\n",
       "       'total_male', 'purpose', 'main_activity', 'info_source',\n",
       "       'tour_arrangement', 'package_transport_int', 'package_accomodation',\n",
       "       'package_food', 'package_transport_tz', 'package_sightseeing',\n",
       "       'package_guided_tour', 'package_insurance', 'night_mainland',\n",
       "       'night_zanzibar', 'first_trip_tz', 'cost_category', 'wildlife_tourism',\n",
       "       'num_people', 'packages', 'nights', 'purpose_arrangement',\n",
       "       'activity_arrangement', 'arrange_pack'],\n",
       "      dtype='object')"
      ]
     },
     "execution_count": 58,
     "metadata": {},
     "output_type": "execute_result"
    }
   ],
   "source": [
    "data.columns"
   ]
  },
  {
   "cell_type": "code",
   "execution_count": 59,
   "metadata": {
    "colab": {
     "base_uri": "https://localhost:8080/",
     "height": 376
    },
    "id": "un-uMWY-ve-e",
    "outputId": "674299a3-d88c-41bf-9ca5-479b96eeaf51"
   },
   "outputs": [
    {
     "data": {
      "text/html": [
       "<div>\n",
       "<style scoped>\n",
       "    .dataframe tbody tr th:only-of-type {\n",
       "        vertical-align: middle;\n",
       "    }\n",
       "\n",
       "    .dataframe tbody tr th {\n",
       "        vertical-align: top;\n",
       "    }\n",
       "\n",
       "    .dataframe thead th {\n",
       "        text-align: right;\n",
       "    }\n",
       "</style>\n",
       "<table border=\"1\" class=\"dataframe\">\n",
       "  <thead>\n",
       "    <tr style=\"text-align: right;\">\n",
       "      <th></th>\n",
       "      <th>Tour_ID</th>\n",
       "      <th>country</th>\n",
       "      <th>travel_with</th>\n",
       "      <th>total_female</th>\n",
       "      <th>total_male</th>\n",
       "      <th>purpose</th>\n",
       "      <th>info_source</th>\n",
       "      <th>tour_arrangement</th>\n",
       "      <th>package_accomodation</th>\n",
       "      <th>package_food</th>\n",
       "      <th>...</th>\n",
       "      <th>activity_arrangement_Diving and Sport FishingIndependent</th>\n",
       "      <th>activity_arrangement_Diving and Sport FishingPackage Tour</th>\n",
       "      <th>activity_arrangement_Hunting TourismIndependent</th>\n",
       "      <th>activity_arrangement_Hunting TourismPackage Tour</th>\n",
       "      <th>activity_arrangement_Mountain ClimbingIndependent</th>\n",
       "      <th>activity_arrangement_Mountain ClimbingPackage Tour</th>\n",
       "      <th>activity_arrangement_Widlife TourismIndependent</th>\n",
       "      <th>activity_arrangement_Widlife TourismPackage Tour</th>\n",
       "      <th>activity_arrangement_Wildlife TourismIndependent</th>\n",
       "      <th>activity_arrangement_Wildlife TourismPackage Tour</th>\n",
       "    </tr>\n",
       "  </thead>\n",
       "  <tbody>\n",
       "    <tr>\n",
       "      <th>0</th>\n",
       "      <td>tour_id1hffseyw</td>\n",
       "      <td>ITALY</td>\n",
       "      <td>With Children</td>\n",
       "      <td>0.0</td>\n",
       "      <td>2.0</td>\n",
       "      <td>Visiting Friends and Relatives</td>\n",
       "      <td>Friends, relatives</td>\n",
       "      <td>Package Tour</td>\n",
       "      <td>Yes</td>\n",
       "      <td>Yes</td>\n",
       "      <td>...</td>\n",
       "      <td>0</td>\n",
       "      <td>0</td>\n",
       "      <td>0</td>\n",
       "      <td>0</td>\n",
       "      <td>0</td>\n",
       "      <td>0</td>\n",
       "      <td>0</td>\n",
       "      <td>0</td>\n",
       "      <td>0</td>\n",
       "      <td>0</td>\n",
       "    </tr>\n",
       "    <tr>\n",
       "      <th>1</th>\n",
       "      <td>tour_idnacd7zag</td>\n",
       "      <td>UNITED KINGDOM</td>\n",
       "      <td>With Spouse</td>\n",
       "      <td>1.0</td>\n",
       "      <td>1.0</td>\n",
       "      <td>Leisure and Holidays</td>\n",
       "      <td>Travel agent, tour operator</td>\n",
       "      <td>Package Tour</td>\n",
       "      <td>Yes</td>\n",
       "      <td>Yes</td>\n",
       "      <td>...</td>\n",
       "      <td>0</td>\n",
       "      <td>0</td>\n",
       "      <td>0</td>\n",
       "      <td>0</td>\n",
       "      <td>0</td>\n",
       "      <td>0</td>\n",
       "      <td>0</td>\n",
       "      <td>0</td>\n",
       "      <td>0</td>\n",
       "      <td>1</td>\n",
       "    </tr>\n",
       "    <tr>\n",
       "      <th>2</th>\n",
       "      <td>tour_id62vz7e71</td>\n",
       "      <td>UNITED STATES OF AMERICA</td>\n",
       "      <td>With Spouse</td>\n",
       "      <td>1.0</td>\n",
       "      <td>1.0</td>\n",
       "      <td>Leisure and Holidays</td>\n",
       "      <td>Travel agent, tour operator</td>\n",
       "      <td>Package Tour</td>\n",
       "      <td>Yes</td>\n",
       "      <td>Yes</td>\n",
       "      <td>...</td>\n",
       "      <td>0</td>\n",
       "      <td>0</td>\n",
       "      <td>0</td>\n",
       "      <td>0</td>\n",
       "      <td>0</td>\n",
       "      <td>0</td>\n",
       "      <td>0</td>\n",
       "      <td>1</td>\n",
       "      <td>0</td>\n",
       "      <td>0</td>\n",
       "    </tr>\n",
       "  </tbody>\n",
       "</table>\n",
       "<p>3 rows × 77 columns</p>\n",
       "</div>"
      ],
      "text/plain": [
       "           Tour_ID                   country    travel_with  total_female  \\\n",
       "0  tour_id1hffseyw                     ITALY  With Children           0.0   \n",
       "1  tour_idnacd7zag            UNITED KINGDOM    With Spouse           1.0   \n",
       "2  tour_id62vz7e71  UNITED STATES OF AMERICA    With Spouse           1.0   \n",
       "\n",
       "   total_male                         purpose                  info_source  \\\n",
       "0         2.0  Visiting Friends and Relatives           Friends, relatives   \n",
       "1         1.0            Leisure and Holidays  Travel agent, tour operator   \n",
       "2         1.0            Leisure and Holidays  Travel agent, tour operator   \n",
       "\n",
       "  tour_arrangement package_accomodation package_food  ...  \\\n",
       "0     Package Tour                  Yes          Yes  ...   \n",
       "1     Package Tour                  Yes          Yes  ...   \n",
       "2     Package Tour                  Yes          Yes  ...   \n",
       "\n",
       "  activity_arrangement_Diving and Sport FishingIndependent  \\\n",
       "0                                                  0         \n",
       "1                                                  0         \n",
       "2                                                  0         \n",
       "\n",
       "  activity_arrangement_Diving and Sport FishingPackage Tour  \\\n",
       "0                                                  0          \n",
       "1                                                  0          \n",
       "2                                                  0          \n",
       "\n",
       "  activity_arrangement_Hunting TourismIndependent  \\\n",
       "0                                               0   \n",
       "1                                               0   \n",
       "2                                               0   \n",
       "\n",
       "  activity_arrangement_Hunting TourismPackage Tour  \\\n",
       "0                                                0   \n",
       "1                                                0   \n",
       "2                                                0   \n",
       "\n",
       "   activity_arrangement_Mountain ClimbingIndependent  \\\n",
       "0                                                  0   \n",
       "1                                                  0   \n",
       "2                                                  0   \n",
       "\n",
       "   activity_arrangement_Mountain ClimbingPackage Tour  \\\n",
       "0                                                  0    \n",
       "1                                                  0    \n",
       "2                                                  0    \n",
       "\n",
       "  activity_arrangement_Widlife TourismIndependent  \\\n",
       "0                                               0   \n",
       "1                                               0   \n",
       "2                                               0   \n",
       "\n",
       "  activity_arrangement_Widlife TourismPackage Tour  \\\n",
       "0                                                0   \n",
       "1                                                0   \n",
       "2                                                1   \n",
       "\n",
       "   activity_arrangement_Wildlife TourismIndependent  \\\n",
       "0                                                 0   \n",
       "1                                                 0   \n",
       "2                                                 0   \n",
       "\n",
       "  activity_arrangement_Wildlife TourismPackage Tour  \n",
       "0                                                 0  \n",
       "1                                                 1  \n",
       "2                                                 0  \n",
       "\n",
       "[3 rows x 77 columns]"
      ]
     },
     "execution_count": 59,
     "metadata": {},
     "output_type": "execute_result"
    }
   ],
   "source": [
    "data = pd.get_dummies(data, columns = [\n",
    " 'age_group','main_activity','package_transport_int','first_trip_tz', 'arrange_pack', 'activity_arrangement'\n",
    "])\n",
    "data.head(3)"
   ]
  },
  {
   "cell_type": "markdown",
   "metadata": {
    "id": "xmgGlLArve-g"
   },
   "source": [
    "###  Label Encoding"
   ]
  },
  {
   "cell_type": "code",
   "execution_count": 60,
   "metadata": {
    "id": "2iOWYhuove-g"
   },
   "outputs": [],
   "source": [
    "from sklearn.preprocessing import LabelEncoder\n",
    "le = LabelEncoder()\n",
    "\n",
    "le_columns = [col for col in data.select_dtypes('object').columns if col not in ['Tour_ID','cost_category']]\n",
    "\n",
    "for col in le_columns:\n",
    "   data[col] = le.fit_transform(data[col])"
   ]
  },
  {
   "cell_type": "code",
   "execution_count": 61,
   "metadata": {},
   "outputs": [],
   "source": [
    "# data['country_night'] = data['country'] + data['nights']"
   ]
  },
  {
   "cell_type": "code",
   "execution_count": 62,
   "metadata": {
    "colab": {
     "base_uri": "https://localhost:8080/",
     "height": 300
    },
    "id": "65m1YjVcve-g",
    "outputId": "36ba5de8-9827-4523-a942-bfd48d42e35c"
   },
   "outputs": [
    {
     "data": {
      "text/html": [
       "<div>\n",
       "<style scoped>\n",
       "    .dataframe tbody tr th:only-of-type {\n",
       "        vertical-align: middle;\n",
       "    }\n",
       "\n",
       "    .dataframe tbody tr th {\n",
       "        vertical-align: top;\n",
       "    }\n",
       "\n",
       "    .dataframe thead th {\n",
       "        text-align: right;\n",
       "    }\n",
       "</style>\n",
       "<table border=\"1\" class=\"dataframe\">\n",
       "  <thead>\n",
       "    <tr style=\"text-align: right;\">\n",
       "      <th></th>\n",
       "      <th>Tour_ID</th>\n",
       "      <th>country</th>\n",
       "      <th>travel_with</th>\n",
       "      <th>total_female</th>\n",
       "      <th>total_male</th>\n",
       "      <th>purpose</th>\n",
       "      <th>info_source</th>\n",
       "      <th>tour_arrangement</th>\n",
       "      <th>package_accomodation</th>\n",
       "      <th>package_food</th>\n",
       "      <th>...</th>\n",
       "      <th>activity_arrangement_Diving and Sport FishingIndependent</th>\n",
       "      <th>activity_arrangement_Diving and Sport FishingPackage Tour</th>\n",
       "      <th>activity_arrangement_Hunting TourismIndependent</th>\n",
       "      <th>activity_arrangement_Hunting TourismPackage Tour</th>\n",
       "      <th>activity_arrangement_Mountain ClimbingIndependent</th>\n",
       "      <th>activity_arrangement_Mountain ClimbingPackage Tour</th>\n",
       "      <th>activity_arrangement_Widlife TourismIndependent</th>\n",
       "      <th>activity_arrangement_Widlife TourismPackage Tour</th>\n",
       "      <th>activity_arrangement_Wildlife TourismIndependent</th>\n",
       "      <th>activity_arrangement_Wildlife TourismPackage Tour</th>\n",
       "    </tr>\n",
       "  </thead>\n",
       "  <tbody>\n",
       "    <tr>\n",
       "      <th>0</th>\n",
       "      <td>tour_id1hffseyw</td>\n",
       "      <td>62</td>\n",
       "      <td>1</td>\n",
       "      <td>0.0</td>\n",
       "      <td>2.0</td>\n",
       "      <td>6</td>\n",
       "      <td>0</td>\n",
       "      <td>1</td>\n",
       "      <td>1</td>\n",
       "      <td>1</td>\n",
       "      <td>...</td>\n",
       "      <td>0</td>\n",
       "      <td>0</td>\n",
       "      <td>0</td>\n",
       "      <td>0</td>\n",
       "      <td>0</td>\n",
       "      <td>0</td>\n",
       "      <td>0</td>\n",
       "      <td>0</td>\n",
       "      <td>0</td>\n",
       "      <td>0</td>\n",
       "    </tr>\n",
       "    <tr>\n",
       "      <th>1</th>\n",
       "      <td>tour_idnacd7zag</td>\n",
       "      <td>133</td>\n",
       "      <td>3</td>\n",
       "      <td>1.0</td>\n",
       "      <td>1.0</td>\n",
       "      <td>1</td>\n",
       "      <td>7</td>\n",
       "      <td>1</td>\n",
       "      <td>1</td>\n",
       "      <td>1</td>\n",
       "      <td>...</td>\n",
       "      <td>0</td>\n",
       "      <td>0</td>\n",
       "      <td>0</td>\n",
       "      <td>0</td>\n",
       "      <td>0</td>\n",
       "      <td>0</td>\n",
       "      <td>0</td>\n",
       "      <td>0</td>\n",
       "      <td>0</td>\n",
       "      <td>1</td>\n",
       "    </tr>\n",
       "    <tr>\n",
       "      <th>2</th>\n",
       "      <td>tour_id62vz7e71</td>\n",
       "      <td>134</td>\n",
       "      <td>3</td>\n",
       "      <td>1.0</td>\n",
       "      <td>1.0</td>\n",
       "      <td>1</td>\n",
       "      <td>7</td>\n",
       "      <td>1</td>\n",
       "      <td>1</td>\n",
       "      <td>1</td>\n",
       "      <td>...</td>\n",
       "      <td>0</td>\n",
       "      <td>0</td>\n",
       "      <td>0</td>\n",
       "      <td>0</td>\n",
       "      <td>0</td>\n",
       "      <td>0</td>\n",
       "      <td>0</td>\n",
       "      <td>1</td>\n",
       "      <td>0</td>\n",
       "      <td>0</td>\n",
       "    </tr>\n",
       "    <tr>\n",
       "      <th>3</th>\n",
       "      <td>tour_idrc76tzix</td>\n",
       "      <td>106</td>\n",
       "      <td>4</td>\n",
       "      <td>3.0</td>\n",
       "      <td>1.0</td>\n",
       "      <td>1</td>\n",
       "      <td>4</td>\n",
       "      <td>0</td>\n",
       "      <td>0</td>\n",
       "      <td>0</td>\n",
       "      <td>...</td>\n",
       "      <td>0</td>\n",
       "      <td>0</td>\n",
       "      <td>0</td>\n",
       "      <td>0</td>\n",
       "      <td>0</td>\n",
       "      <td>0</td>\n",
       "      <td>0</td>\n",
       "      <td>0</td>\n",
       "      <td>0</td>\n",
       "      <td>0</td>\n",
       "    </tr>\n",
       "    <tr>\n",
       "      <th>4</th>\n",
       "      <td>tour_idn723m0n9</td>\n",
       "      <td>134</td>\n",
       "      <td>0</td>\n",
       "      <td>0.0</td>\n",
       "      <td>1.0</td>\n",
       "      <td>1</td>\n",
       "      <td>7</td>\n",
       "      <td>1</td>\n",
       "      <td>1</td>\n",
       "      <td>1</td>\n",
       "      <td>...</td>\n",
       "      <td>0</td>\n",
       "      <td>0</td>\n",
       "      <td>0</td>\n",
       "      <td>0</td>\n",
       "      <td>0</td>\n",
       "      <td>0</td>\n",
       "      <td>0</td>\n",
       "      <td>1</td>\n",
       "      <td>0</td>\n",
       "      <td>0</td>\n",
       "    </tr>\n",
       "  </tbody>\n",
       "</table>\n",
       "<p>5 rows × 77 columns</p>\n",
       "</div>"
      ],
      "text/plain": [
       "           Tour_ID  country  travel_with  total_female  total_male  purpose  \\\n",
       "0  tour_id1hffseyw       62            1           0.0         2.0        6   \n",
       "1  tour_idnacd7zag      133            3           1.0         1.0        1   \n",
       "2  tour_id62vz7e71      134            3           1.0         1.0        1   \n",
       "3  tour_idrc76tzix      106            4           3.0         1.0        1   \n",
       "4  tour_idn723m0n9      134            0           0.0         1.0        1   \n",
       "\n",
       "   info_source  tour_arrangement  package_accomodation  package_food  ...  \\\n",
       "0            0                 1                     1             1  ...   \n",
       "1            7                 1                     1             1  ...   \n",
       "2            7                 1                     1             1  ...   \n",
       "3            4                 0                     0             0  ...   \n",
       "4            7                 1                     1             1  ...   \n",
       "\n",
       "   activity_arrangement_Diving and Sport FishingIndependent  \\\n",
       "0                                                  0          \n",
       "1                                                  0          \n",
       "2                                                  0          \n",
       "3                                                  0          \n",
       "4                                                  0          \n",
       "\n",
       "   activity_arrangement_Diving and Sport FishingPackage Tour  \\\n",
       "0                                                  0           \n",
       "1                                                  0           \n",
       "2                                                  0           \n",
       "3                                                  0           \n",
       "4                                                  0           \n",
       "\n",
       "   activity_arrangement_Hunting TourismIndependent  \\\n",
       "0                                                0   \n",
       "1                                                0   \n",
       "2                                                0   \n",
       "3                                                0   \n",
       "4                                                0   \n",
       "\n",
       "   activity_arrangement_Hunting TourismPackage Tour  \\\n",
       "0                                                 0   \n",
       "1                                                 0   \n",
       "2                                                 0   \n",
       "3                                                 0   \n",
       "4                                                 0   \n",
       "\n",
       "   activity_arrangement_Mountain ClimbingIndependent  \\\n",
       "0                                                  0   \n",
       "1                                                  0   \n",
       "2                                                  0   \n",
       "3                                                  0   \n",
       "4                                                  0   \n",
       "\n",
       "   activity_arrangement_Mountain ClimbingPackage Tour  \\\n",
       "0                                                  0    \n",
       "1                                                  0    \n",
       "2                                                  0    \n",
       "3                                                  0    \n",
       "4                                                  0    \n",
       "\n",
       "  activity_arrangement_Widlife TourismIndependent  \\\n",
       "0                                               0   \n",
       "1                                               0   \n",
       "2                                               0   \n",
       "3                                               0   \n",
       "4                                               0   \n",
       "\n",
       "   activity_arrangement_Widlife TourismPackage Tour  \\\n",
       "0                                                 0   \n",
       "1                                                 0   \n",
       "2                                                 1   \n",
       "3                                                 0   \n",
       "4                                                 1   \n",
       "\n",
       "   activity_arrangement_Wildlife TourismIndependent  \\\n",
       "0                                                 0   \n",
       "1                                                 0   \n",
       "2                                                 0   \n",
       "3                                                 0   \n",
       "4                                                 0   \n",
       "\n",
       "   activity_arrangement_Wildlife TourismPackage Tour  \n",
       "0                                                  0  \n",
       "1                                                  1  \n",
       "2                                                  0  \n",
       "3                                                  0  \n",
       "4                                                  0  \n",
       "\n",
       "[5 rows x 77 columns]"
      ]
     },
     "execution_count": 62,
     "metadata": {},
     "output_type": "execute_result"
    }
   ],
   "source": [
    "data.head()"
   ]
  },
  {
   "cell_type": "code",
   "execution_count": null,
   "metadata": {},
   "outputs": [],
   "source": []
  },
  {
   "cell_type": "markdown",
   "metadata": {
    "id": "ttsOO8n1ve-j"
   },
   "source": [
    "## Separate the combined dataset"
   ]
  },
  {
   "cell_type": "code",
   "execution_count": 63,
   "metadata": {
    "colab": {
     "base_uri": "https://localhost:8080/"
    },
    "id": "5dyUlCC6ve-j",
    "outputId": "1530a4ea-003a-4f68-c59e-2d5f45e85548"
   },
   "outputs": [
    {
     "data": {
      "text/plain": [
       "((17565, 77), (6169, 77))"
      ]
     },
     "execution_count": 63,
     "metadata": {},
     "output_type": "execute_result"
    }
   ],
   "source": [
    "# Separate train and test data from the combined dataframe\n",
    "train_df = data[:ntrain]\n",
    "test_df = data[ntrain:]\n",
    "ID = test_df['Tour_ID']\n",
    "# Check the shapes of the split dataset\n",
    "train_df.shape, test_df.shape"
   ]
  },
  {
   "cell_type": "markdown",
   "metadata": {
    "id": "NWZuvekPve-j"
   },
   "source": [
    "### Label Encode the target"
   ]
  },
  {
   "cell_type": "code",
   "execution_count": 64,
   "metadata": {
    "id": "CK8qHGm1ve-j"
   },
   "outputs": [],
   "source": [
    "le_columns = ['cost_category']\n",
    "\n",
    "for col in le_columns:\n",
    "   train_df[col] = le.fit_transform(train_df[col])"
   ]
  },
  {
   "cell_type": "markdown",
   "metadata": {
    "id": "m7YbDItjve-j"
   },
   "source": [
    "## Correlation"
   ]
  },
  {
   "cell_type": "markdown",
   "metadata": {
    "id": "dB9CwkwQve-k"
   },
   "source": [
    "### 1. Negative correlation with the target"
   ]
  },
  {
   "cell_type": "code",
   "execution_count": 65,
   "metadata": {
    "colab": {
     "base_uri": "https://localhost:8080/"
    },
    "id": "wLQZ27uqve-k",
    "outputId": "787af91e-e927-4df1-fc4c-008fdc854118"
   },
   "outputs": [
    {
     "data": {
      "text/plain": [
       "tour_arrangement                                            -0.567202\n",
       "package_accomodation                                        -0.552156\n",
       "packages                                                    -0.547227\n",
       "package_food                                                -0.525738\n",
       "package_transport_tz                                        -0.483722\n",
       "package_transport_int_Yes                                   -0.460471\n",
       "arrange_pack_Package TourYesYesYes                          -0.431617\n",
       "package_guided_tour                                         -0.408220\n",
       "package_sightseeing                                         -0.384083\n",
       "travel_with                                                 -0.377684\n",
       "info_source                                                 -0.352650\n",
       "activity_arrangement_Widlife TourismPackage Tour            -0.322892\n",
       "num_people                                                  -0.278109\n",
       "package_insurance                                           -0.277220\n",
       "first_trip_tz_Yes                                           -0.271859\n",
       "total_female                                                -0.260834\n",
       "activity_arrangement_Beach TourismPackage Tour              -0.239807\n",
       "night_zanzibar                                              -0.226877\n",
       "main_activity_Widlife Tourism                               -0.171460\n",
       "arrange_pack_Package TourNoYesYes                           -0.166184\n",
       "age_group_65+                                               -0.140579\n",
       "activity_arrangement_Wildlife TourismPackage Tour           -0.134375\n",
       "total_male                                                  -0.112501\n",
       "age_group_45-64                                             -0.110672\n",
       "activity_arrangement_Conference TourismPackage Tour         -0.108035\n",
       "nights                                                      -0.093717\n",
       "arrange_pack_Package TourYesYesNo                           -0.090100\n",
       "activity_arrangement_BusinessPackage Tour                   -0.057797\n",
       "activity_arrangement_Cultural TourismPackage Tour           -0.050356\n",
       "arrange_pack_Package TourYesNoYes                           -0.048816\n",
       "main_activity_Conference Tourism                            -0.038576\n",
       "activity_arrangement_Bird TourismPackage Tour               -0.032560\n",
       "arrange_pack_Package TourNoNoNo                             -0.031699\n",
       "arrange_pack_Package TourNoYesNo                            -0.030159\n",
       "arrange_pack_Package TourYesNoNo                            -0.025278\n",
       "main_activity_Wildlife Tourism                              -0.020664\n",
       "arrange_pack_IndependentYesYesYes                           -0.018196\n",
       "age_group_<18                                               -0.013322\n",
       "arrange_pack_IndependentNoYesYes                            -0.012930\n",
       "main_activity_Beach Tourism                                 -0.011776\n",
       "main_activity_Business                                      -0.011754\n",
       "activity_arrangement_Mountain ClimbingPackage Tour          -0.011385\n",
       "activity_arrangement_Diving and Sport FishingPackage Tour   -0.010414\n",
       "arrange_pack_Package TourNoNoYes                            -0.008084\n",
       "arrange_pack_IndependentYesNoYes                            -0.006010\n",
       "arrange_pack_IndependentYesYesNo                            -0.002360\n",
       "arrange_pack_IndependentNoYesNo                             -0.002354\n",
       "Name: cost_category, dtype: float64"
      ]
     },
     "execution_count": 65,
     "metadata": {},
     "output_type": "execute_result"
    }
   ],
   "source": [
    "train_df.corr()['cost_category'].sort_values()[train_df.corr()['cost_category'].sort_values() < 0]"
   ]
  },
  {
   "cell_type": "markdown",
   "metadata": {
    "id": "lrXPzJnMve-k"
   },
   "source": [
    "### 2. Positive correlation with the Target"
   ]
  },
  {
   "cell_type": "code",
   "execution_count": 66,
   "metadata": {},
   "outputs": [],
   "source": [
    "# train_df.corr()['cost_category'].sort_values()[train_df.corr()['cost_category'].sort_values() > 0]"
   ]
  },
  {
   "cell_type": "code",
   "execution_count": 67,
   "metadata": {
    "colab": {
     "base_uri": "https://localhost:8080/"
    },
    "id": "nQO07GMfve-l",
    "outputId": "0856e37c-2970-429b-92cc-6ca364ce5bc7"
   },
   "outputs": [
    {
     "data": {
      "text/plain": [
       "main_activity_Diving and Sport Fishing                      0.000477\n",
       "activity_arrangement_Hunting TourismPackage Tour            0.002258\n",
       "arrange_pack_IndependentNoNoYes                             0.007478\n",
       "night_mainland                                              0.008281\n",
       "activity_arrangement_Diving and Sport FishingIndependent    0.009336\n",
       "arrange_pack_IndependentYesNoNo                             0.020217\n",
       "main_activity_Bird Tourism                                  0.021748\n",
       "activity_arrangement_BusinessIndependent                    0.041237\n",
       "activity_arrangement_Bird TourismIndependent                0.047360\n",
       "activity_arrangement_Conference TourismIndependent          0.084183\n",
       "age_group_18-24                                             0.090626\n",
       "country                                                     0.091049\n",
       "main_activity_Mountain Climbing                             0.104533\n",
       "main_activity_Cultural Tourism                              0.110622\n",
       "activity_arrangement_Mountain ClimbingIndependent           0.115892\n",
       "age_group_25-44                                             0.123036\n",
       "activity_arrangement_Wildlife TourismIndependent            0.127751\n",
       "purpose_arrangement                                         0.149241\n",
       "activity_arrangement_Cultural TourismIndependent            0.153983\n",
       "activity_arrangement_Widlife TourismIndependent             0.174247\n",
       "main_activity_Hunting Tourism                               0.195272\n",
       "activity_arrangement_Hunting TourismIndependent             0.204290\n",
       "activity_arrangement_Beach TourismIndependent               0.210959\n",
       "purpose                                                     0.217566\n",
       "first_trip_tz_No                                            0.271859\n",
       "package_transport_int_No                                    0.460471\n",
       "arrange_pack_IndependentNoNoNo                              0.569358\n",
       "cost_category                                               1.000000\n",
       "Name: cost_category, dtype: float64"
      ]
     },
     "execution_count": 67,
     "metadata": {},
     "output_type": "execute_result"
    }
   ],
   "source": [
    "train_df.corr()['cost_category'].sort_values()[train_df.corr()['cost_category'].sort_values() > 0]"
   ]
  },
  {
   "cell_type": "markdown",
   "metadata": {
    "id": "ydsKzSgnve-l"
   },
   "source": [
    "## Feature Selection"
   ]
  },
  {
   "cell_type": "code",
   "execution_count": 68,
   "metadata": {},
   "outputs": [],
   "source": [
    "# Select main columns to be used in training\n",
    "# main_cols = train_df.columns.difference(['Tour_ID','cost_category',\n",
    "#  'package_accomodation','tour_arrangement','travel_with',\n",
    "#  'package_food'])\n",
    "# X = train_df[main_cols]\n",
    "# y = train_df.cost_category"
   ]
  },
  {
   "cell_type": "code",
   "execution_count": 69,
   "metadata": {
    "scrolled": true
   },
   "outputs": [],
   "source": [
    "# from sklearn.model_selection import cross_val_score\n",
    "# import random\n",
    "# random.seed(123)\n",
    "# cv = StratifiedKFold(n_splits=5)\n",
    "# model = CatBoostClassifier(random_state = 42)\n",
    "# cross = cross_val_score(model, X, y, cv=cv)\n",
    "# mean = np.mean(cross)\n",
    "# print(mean)"
   ]
  },
  {
   "cell_type": "code",
   "execution_count": 70,
   "metadata": {
    "colab": {
     "base_uri": "https://localhost:8080/"
    },
    "id": "mV0bBfrkve-l",
    "outputId": "6a2c509b-ea6a-491a-e183-e66a16187e06"
   },
   "outputs": [
    {
     "name": "stdout",
     "output_type": "stream",
     "text": [
      "Learning rate set to 0.113893\n",
      "0:\tlearn: 1.6549732\ttest: 1.6549732\ttest1: 1.6572905\tbest: 1.6572905 (0)\ttotal: 197ms\tremaining: 3m 16s\n",
      "200:\tlearn: 0.9475199\ttest: 0.9475199\ttest1: 1.0613504\tbest: 1.0613504 (200)\ttotal: 4.64s\tremaining: 18.4s\n",
      "400:\tlearn: 0.8669803\ttest: 0.8669803\ttest1: 1.0642063\tbest: 1.0605169 (234)\ttotal: 8s\tremaining: 11.9s\n",
      "600:\tlearn: 0.8035743\ttest: 0.8035743\ttest1: 1.0704355\tbest: 1.0605169 (234)\ttotal: 11.3s\tremaining: 7.49s\n",
      "Stopped by overfitting detector  (500 iterations wait)\n",
      "\n",
      "bestTest = 1.060516924\n",
      "bestIteration = 234\n",
      "\n",
      "Shrink model to first 235 iterations.\n"
     ]
    },
    {
     "data": {
      "text/plain": [
       "<catboost.core.CatBoostClassifier at 0x135fd378430>"
      ]
     },
     "execution_count": 70,
     "metadata": {},
     "output_type": "execute_result"
    }
   ],
   "source": [
    "# Select main columns to be used in training\n",
    "main_cols = train_df.columns.difference(['Tour_ID','cost_category', 'package_accomodation','tour_arrangement','travel_with',\n",
    " 'package_food'])\n",
    "X = train_df[main_cols]\n",
    "y = train_df.cost_category\n",
    "\n",
    "# from sklearn.preprocessing import MinMaxScaler\n",
    "# sc = MinMaxScaler()\n",
    "# X = sc.fit_transform(X)\n",
    "\n",
    "model = CatBoostClassifier(random_state = 42)\n",
    "\n",
    "import random\n",
    "random.seed(123)\n",
    "\n",
    "train_features, valid_features, train_y, valid_y = train_test_split(X, y, test_size = 0.18, stratify = y,random_state = 47)\n",
    "model.fit(train_features, train_y,eval_set = [(train_features, train_y),(valid_features,valid_y)], early_stopping_rounds = 500, \n",
    "          verbose = 200)"
   ]
  },
  {
   "cell_type": "code",
   "execution_count": 71,
   "metadata": {},
   "outputs": [],
   "source": [
    "# fold_pred=[]\n",
    "# oof_pred = []\n",
    "\n",
    "# params =     params = {\n",
    "#         'iterations':10000,\n",
    "#         'random_state':42,\n",
    "#         'bootstrap_type':'Bernoulli',\n",
    "#         'max_depth': 7,\n",
    "#         'learning_rate': 0.008436034013684798,\n",
    "#         'l2_leaf_reg': 0.8908564261285311,\n",
    "\n",
    "        \n",
    "   \n",
    "        \n",
    "#          }\n",
    " \n",
    "\n",
    "\n",
    "\n",
    "\n",
    "# fold= StratifiedKFold(n_splits=5)#15#5#10\n",
    "# i=1\n",
    "# for train_index, test_index in fold.split(X,y):     \n",
    "  \n",
    "#     X_train, X_test = X.iloc[train_index], X.iloc[test_index]\n",
    "#     y_train, y_test = y.iloc[train_index], y.iloc[test_index]\n",
    "    \n",
    "\n",
    "\n",
    "#     model = CatBoostClassifier(**params)\n",
    "\n",
    "#     model.fit(X_train,y_train,eval_set=[(X_train,y_train),(X_test, y_test)], early_stopping_rounds=250, verbose = False)#erly100\n",
    "\n",
    "#     preds= model.predict_proba(X_test)\n",
    "#     print(\"err: \",(log_loss(y_test,preds))) \n",
    "# #     print(\"roc: \",(roc_auc_score(y_test,preds[:,1]))) \n",
    "#     oof_pred.append(log_loss(y_test,preds))\n",
    "#     p2 = model.predict_proba(test_df[X.columns])\n",
    "#     fold_pred.append(p2)\n",
    "    \n",
    "\n",
    "# print(np.mean(oof_pred))"
   ]
  },
  {
   "cell_type": "markdown",
   "metadata": {},
   "source": [
    "#### Seee the best test above is what we are trying to improve, reduce it to the lowest you can, and thats how you become a winner\n",
    "* Goodluck "
   ]
  },
  {
   "cell_type": "markdown",
   "metadata": {
    "id": "MwZPkv6Dve-m"
   },
   "source": [
    "## Visualize the Feature Importance\n",
    "* How are those features affecting the model from the most important to the least important"
   ]
  },
  {
   "cell_type": "code",
   "execution_count": 72,
   "metadata": {},
   "outputs": [],
   "source": [
    "# X.columns"
   ]
  },
  {
   "cell_type": "code",
   "execution_count": 73,
   "metadata": {
    "colab": {
     "base_uri": "https://localhost:8080/",
     "height": 1000
    },
    "id": "J3wyJSntve-m",
    "outputId": "95657e6f-e310-4ee0-ef38-5e7cf381f27d"
   },
   "outputs": [
    {
     "data": {
      "text/html": [
       "<div>\n",
       "<style scoped>\n",
       "    .dataframe tbody tr th:only-of-type {\n",
       "        vertical-align: middle;\n",
       "    }\n",
       "\n",
       "    .dataframe tbody tr th {\n",
       "        vertical-align: top;\n",
       "    }\n",
       "\n",
       "    .dataframe thead th {\n",
       "        text-align: right;\n",
       "    }\n",
       "</style>\n",
       "<table border=\"1\" class=\"dataframe\">\n",
       "  <thead>\n",
       "    <tr style=\"text-align: right;\">\n",
       "      <th></th>\n",
       "      <th>feature_name</th>\n",
       "      <th>varimp (%)</th>\n",
       "    </tr>\n",
       "  </thead>\n",
       "  <tbody>\n",
       "    <tr>\n",
       "      <th>41</th>\n",
       "      <td>country</td>\n",
       "      <td>11.671068</td>\n",
       "    </tr>\n",
       "    <tr>\n",
       "      <th>65</th>\n",
       "      <td>packages</td>\n",
       "      <td>10.281352</td>\n",
       "    </tr>\n",
       "    <tr>\n",
       "      <th>25</th>\n",
       "      <td>arrange_pack_IndependentNoNoNo</td>\n",
       "      <td>10.130593</td>\n",
       "    </tr>\n",
       "    <tr>\n",
       "      <th>57</th>\n",
       "      <td>nights</td>\n",
       "      <td>8.799566</td>\n",
       "    </tr>\n",
       "    <tr>\n",
       "      <th>58</th>\n",
       "      <td>num_people</td>\n",
       "      <td>8.684168</td>\n",
       "    </tr>\n",
       "    <tr>\n",
       "      <th>55</th>\n",
       "      <td>night_mainland</td>\n",
       "      <td>8.086316</td>\n",
       "    </tr>\n",
       "    <tr>\n",
       "      <th>56</th>\n",
       "      <td>night_zanzibar</td>\n",
       "      <td>6.213719</td>\n",
       "    </tr>\n",
       "    <tr>\n",
       "      <th>44</th>\n",
       "      <td>info_source</td>\n",
       "      <td>4.585778</td>\n",
       "    </tr>\n",
       "    <tr>\n",
       "      <th>67</th>\n",
       "      <td>purpose_arrangement</td>\n",
       "      <td>2.958285</td>\n",
       "    </tr>\n",
       "    <tr>\n",
       "      <th>69</th>\n",
       "      <td>total_male</td>\n",
       "      <td>2.711378</td>\n",
       "    </tr>\n",
       "    <tr>\n",
       "      <th>66</th>\n",
       "      <td>purpose</td>\n",
       "      <td>2.639335</td>\n",
       "    </tr>\n",
       "    <tr>\n",
       "      <th>68</th>\n",
       "      <td>total_female</td>\n",
       "      <td>2.507068</td>\n",
       "    </tr>\n",
       "    <tr>\n",
       "      <th>21</th>\n",
       "      <td>age_group_25-44</td>\n",
       "      <td>1.850913</td>\n",
       "    </tr>\n",
       "    <tr>\n",
       "      <th>20</th>\n",
       "      <td>age_group_18-24</td>\n",
       "      <td>1.794456</td>\n",
       "    </tr>\n",
       "    <tr>\n",
       "      <th>22</th>\n",
       "      <td>age_group_45-64</td>\n",
       "      <td>1.517735</td>\n",
       "    </tr>\n",
       "    <tr>\n",
       "      <th>17</th>\n",
       "      <td>activity_arrangement_Widlife TourismPackage Tour</td>\n",
       "      <td>1.1308</td>\n",
       "    </tr>\n",
       "    <tr>\n",
       "      <th>59</th>\n",
       "      <td>package_guided_tour</td>\n",
       "      <td>1.103006</td>\n",
       "    </tr>\n",
       "    <tr>\n",
       "      <th>23</th>\n",
       "      <td>age_group_65+</td>\n",
       "      <td>1.040276</td>\n",
       "    </tr>\n",
       "    <tr>\n",
       "      <th>53</th>\n",
       "      <td>main_activity_Widlife Tourism</td>\n",
       "      <td>1.027904</td>\n",
       "    </tr>\n",
       "    <tr>\n",
       "      <th>61</th>\n",
       "      <td>package_sightseeing</td>\n",
       "      <td>0.961654</td>\n",
       "    </tr>\n",
       "    <tr>\n",
       "      <th>42</th>\n",
       "      <td>first_trip_tz_No</td>\n",
       "      <td>0.936012</td>\n",
       "    </tr>\n",
       "    <tr>\n",
       "      <th>45</th>\n",
       "      <td>main_activity_Beach Tourism</td>\n",
       "      <td>0.799111</td>\n",
       "    </tr>\n",
       "    <tr>\n",
       "      <th>64</th>\n",
       "      <td>package_transport_tz</td>\n",
       "      <td>0.783788</td>\n",
       "    </tr>\n",
       "    <tr>\n",
       "      <th>62</th>\n",
       "      <td>package_transport_int_No</td>\n",
       "      <td>0.765981</td>\n",
       "    </tr>\n",
       "    <tr>\n",
       "      <th>43</th>\n",
       "      <td>first_trip_tz_Yes</td>\n",
       "      <td>0.688854</td>\n",
       "    </tr>\n",
       "    <tr>\n",
       "      <th>60</th>\n",
       "      <td>package_insurance</td>\n",
       "      <td>0.666195</td>\n",
       "    </tr>\n",
       "    <tr>\n",
       "      <th>54</th>\n",
       "      <td>main_activity_Wildlife Tourism</td>\n",
       "      <td>0.663435</td>\n",
       "    </tr>\n",
       "    <tr>\n",
       "      <th>48</th>\n",
       "      <td>main_activity_Conference Tourism</td>\n",
       "      <td>0.538143</td>\n",
       "    </tr>\n",
       "    <tr>\n",
       "      <th>16</th>\n",
       "      <td>activity_arrangement_Widlife TourismIndependent</td>\n",
       "      <td>0.530831</td>\n",
       "    </tr>\n",
       "    <tr>\n",
       "      <th>51</th>\n",
       "      <td>main_activity_Hunting Tourism</td>\n",
       "      <td>0.413491</td>\n",
       "    </tr>\n",
       "    <tr>\n",
       "      <th>49</th>\n",
       "      <td>main_activity_Cultural Tourism</td>\n",
       "      <td>0.405205</td>\n",
       "    </tr>\n",
       "    <tr>\n",
       "      <th>7</th>\n",
       "      <td>activity_arrangement_Conference TourismPackage...</td>\n",
       "      <td>0.385311</td>\n",
       "    </tr>\n",
       "    <tr>\n",
       "      <th>40</th>\n",
       "      <td>arrange_pack_Package TourYesYesYes</td>\n",
       "      <td>0.375821</td>\n",
       "    </tr>\n",
       "    <tr>\n",
       "      <th>36</th>\n",
       "      <td>arrange_pack_Package TourNoYesYes</td>\n",
       "      <td>0.34309</td>\n",
       "    </tr>\n",
       "    <tr>\n",
       "      <th>1</th>\n",
       "      <td>activity_arrangement_Beach TourismPackage Tour</td>\n",
       "      <td>0.331258</td>\n",
       "    </tr>\n",
       "    <tr>\n",
       "      <th>19</th>\n",
       "      <td>activity_arrangement_Wildlife TourismPackage Tour</td>\n",
       "      <td>0.225236</td>\n",
       "    </tr>\n",
       "    <tr>\n",
       "      <th>12</th>\n",
       "      <td>activity_arrangement_Hunting TourismIndependent</td>\n",
       "      <td>0.195442</td>\n",
       "    </tr>\n",
       "    <tr>\n",
       "      <th>6</th>\n",
       "      <td>activity_arrangement_Conference TourismIndepen...</td>\n",
       "      <td>0.182008</td>\n",
       "    </tr>\n",
       "    <tr>\n",
       "      <th>8</th>\n",
       "      <td>activity_arrangement_Cultural TourismIndependent</td>\n",
       "      <td>0.181435</td>\n",
       "    </tr>\n",
       "    <tr>\n",
       "      <th>0</th>\n",
       "      <td>activity_arrangement_Beach TourismIndependent</td>\n",
       "      <td>0.170978</td>\n",
       "    </tr>\n",
       "    <tr>\n",
       "      <th>18</th>\n",
       "      <td>activity_arrangement_Wildlife TourismIndependent</td>\n",
       "      <td>0.116763</td>\n",
       "    </tr>\n",
       "    <tr>\n",
       "      <th>33</th>\n",
       "      <td>arrange_pack_Package TourNoNoNo</td>\n",
       "      <td>0.108893</td>\n",
       "    </tr>\n",
       "    <tr>\n",
       "      <th>52</th>\n",
       "      <td>main_activity_Mountain Climbing</td>\n",
       "      <td>0.080896</td>\n",
       "    </tr>\n",
       "    <tr>\n",
       "      <th>39</th>\n",
       "      <td>arrange_pack_Package TourYesYesNo</td>\n",
       "      <td>0.075139</td>\n",
       "    </tr>\n",
       "    <tr>\n",
       "      <th>9</th>\n",
       "      <td>activity_arrangement_Cultural TourismPackage Tour</td>\n",
       "      <td>0.06682</td>\n",
       "    </tr>\n",
       "    <tr>\n",
       "      <th>14</th>\n",
       "      <td>activity_arrangement_Mountain ClimbingIndependent</td>\n",
       "      <td>0.058292</td>\n",
       "    </tr>\n",
       "    <tr>\n",
       "      <th>46</th>\n",
       "      <td>main_activity_Bird Tourism</td>\n",
       "      <td>0.048067</td>\n",
       "    </tr>\n",
       "    <tr>\n",
       "      <th>35</th>\n",
       "      <td>arrange_pack_Package TourNoYesNo</td>\n",
       "      <td>0.023173</td>\n",
       "    </tr>\n",
       "    <tr>\n",
       "      <th>24</th>\n",
       "      <td>age_group_&lt;18</td>\n",
       "      <td>0.022625</td>\n",
       "    </tr>\n",
       "    <tr>\n",
       "      <th>13</th>\n",
       "      <td>activity_arrangement_Hunting TourismPackage Tour</td>\n",
       "      <td>0.015306</td>\n",
       "    </tr>\n",
       "    <tr>\n",
       "      <th>37</th>\n",
       "      <td>arrange_pack_Package TourYesNoNo</td>\n",
       "      <td>0.015171</td>\n",
       "    </tr>\n",
       "    <tr>\n",
       "      <th>34</th>\n",
       "      <td>arrange_pack_Package TourNoNoYes</td>\n",
       "      <td>0.013452</td>\n",
       "    </tr>\n",
       "    <tr>\n",
       "      <th>47</th>\n",
       "      <td>main_activity_Business</td>\n",
       "      <td>0.012259</td>\n",
       "    </tr>\n",
       "    <tr>\n",
       "      <th>3</th>\n",
       "      <td>activity_arrangement_Bird TourismPackage Tour</td>\n",
       "      <td>0.011391</td>\n",
       "    </tr>\n",
       "    <tr>\n",
       "      <th>10</th>\n",
       "      <td>activity_arrangement_Diving and Sport FishingI...</td>\n",
       "      <td>0.011366</td>\n",
       "    </tr>\n",
       "    <tr>\n",
       "      <th>38</th>\n",
       "      <td>arrange_pack_Package TourYesNoYes</td>\n",
       "      <td>0.00839</td>\n",
       "    </tr>\n",
       "    <tr>\n",
       "      <th>50</th>\n",
       "      <td>main_activity_Diving and Sport Fishing</td>\n",
       "      <td>0.007921</td>\n",
       "    </tr>\n",
       "    <tr>\n",
       "      <th>15</th>\n",
       "      <td>activity_arrangement_Mountain ClimbingPackage ...</td>\n",
       "      <td>0.007012</td>\n",
       "    </tr>\n",
       "    <tr>\n",
       "      <th>32</th>\n",
       "      <td>arrange_pack_IndependentYesYesYes</td>\n",
       "      <td>0.006286</td>\n",
       "    </tr>\n",
       "    <tr>\n",
       "      <th>5</th>\n",
       "      <td>activity_arrangement_BusinessPackage Tour</td>\n",
       "      <td>0.005106</td>\n",
       "    </tr>\n",
       "    <tr>\n",
       "      <th>4</th>\n",
       "      <td>activity_arrangement_BusinessIndependent</td>\n",
       "      <td>0.003064</td>\n",
       "    </tr>\n",
       "    <tr>\n",
       "      <th>29</th>\n",
       "      <td>arrange_pack_IndependentYesNoNo</td>\n",
       "      <td>0.001707</td>\n",
       "    </tr>\n",
       "    <tr>\n",
       "      <th>31</th>\n",
       "      <td>arrange_pack_IndependentYesYesNo</td>\n",
       "      <td>0.001103</td>\n",
       "    </tr>\n",
       "    <tr>\n",
       "      <th>26</th>\n",
       "      <td>arrange_pack_IndependentNoNoYes</td>\n",
       "      <td>0.000965</td>\n",
       "    </tr>\n",
       "    <tr>\n",
       "      <th>28</th>\n",
       "      <td>arrange_pack_IndependentNoYesYes</td>\n",
       "      <td>0.000885</td>\n",
       "    </tr>\n",
       "    <tr>\n",
       "      <th>11</th>\n",
       "      <td>activity_arrangement_Diving and Sport FishingP...</td>\n",
       "      <td>0.000494</td>\n",
       "    </tr>\n",
       "    <tr>\n",
       "      <th>27</th>\n",
       "      <td>arrange_pack_IndependentNoYesNo</td>\n",
       "      <td>0.000432</td>\n",
       "    </tr>\n",
       "    <tr>\n",
       "      <th>30</th>\n",
       "      <td>arrange_pack_IndependentYesNoYes</td>\n",
       "      <td>0.000028</td>\n",
       "    </tr>\n",
       "    <tr>\n",
       "      <th>63</th>\n",
       "      <td>package_transport_int_Yes</td>\n",
       "      <td>0.0</td>\n",
       "    </tr>\n",
       "    <tr>\n",
       "      <th>2</th>\n",
       "      <td>activity_arrangement_Bird TourismIndependent</td>\n",
       "      <td>0.0</td>\n",
       "    </tr>\n",
       "    <tr>\n",
       "      <th>70</th>\n",
       "      <td>wildlife_tourism</td>\n",
       "      <td>0.0</td>\n",
       "    </tr>\n",
       "  </tbody>\n",
       "</table>\n",
       "</div>"
      ],
      "text/plain": [
       "                                         feature_name varimp (%)\n",
       "41                                            country  11.671068\n",
       "65                                           packages  10.281352\n",
       "25                     arrange_pack_IndependentNoNoNo  10.130593\n",
       "57                                             nights   8.799566\n",
       "58                                         num_people   8.684168\n",
       "55                                     night_mainland   8.086316\n",
       "56                                     night_zanzibar   6.213719\n",
       "44                                        info_source   4.585778\n",
       "67                                purpose_arrangement   2.958285\n",
       "69                                         total_male   2.711378\n",
       "66                                            purpose   2.639335\n",
       "68                                       total_female   2.507068\n",
       "21                                    age_group_25-44   1.850913\n",
       "20                                    age_group_18-24   1.794456\n",
       "22                                    age_group_45-64   1.517735\n",
       "17   activity_arrangement_Widlife TourismPackage Tour     1.1308\n",
       "59                                package_guided_tour   1.103006\n",
       "23                                      age_group_65+   1.040276\n",
       "53                      main_activity_Widlife Tourism   1.027904\n",
       "61                                package_sightseeing   0.961654\n",
       "42                                   first_trip_tz_No   0.936012\n",
       "45                        main_activity_Beach Tourism   0.799111\n",
       "64                               package_transport_tz   0.783788\n",
       "62                           package_transport_int_No   0.765981\n",
       "43                                  first_trip_tz_Yes   0.688854\n",
       "60                                  package_insurance   0.666195\n",
       "54                     main_activity_Wildlife Tourism   0.663435\n",
       "48                   main_activity_Conference Tourism   0.538143\n",
       "16    activity_arrangement_Widlife TourismIndependent   0.530831\n",
       "51                      main_activity_Hunting Tourism   0.413491\n",
       "49                     main_activity_Cultural Tourism   0.405205\n",
       "7   activity_arrangement_Conference TourismPackage...   0.385311\n",
       "40                 arrange_pack_Package TourYesYesYes   0.375821\n",
       "36                  arrange_pack_Package TourNoYesYes    0.34309\n",
       "1      activity_arrangement_Beach TourismPackage Tour   0.331258\n",
       "19  activity_arrangement_Wildlife TourismPackage Tour   0.225236\n",
       "12    activity_arrangement_Hunting TourismIndependent   0.195442\n",
       "6   activity_arrangement_Conference TourismIndepen...   0.182008\n",
       "8    activity_arrangement_Cultural TourismIndependent   0.181435\n",
       "0       activity_arrangement_Beach TourismIndependent   0.170978\n",
       "18   activity_arrangement_Wildlife TourismIndependent   0.116763\n",
       "33                    arrange_pack_Package TourNoNoNo   0.108893\n",
       "52                    main_activity_Mountain Climbing   0.080896\n",
       "39                  arrange_pack_Package TourYesYesNo   0.075139\n",
       "9   activity_arrangement_Cultural TourismPackage Tour    0.06682\n",
       "14  activity_arrangement_Mountain ClimbingIndependent   0.058292\n",
       "46                         main_activity_Bird Tourism   0.048067\n",
       "35                   arrange_pack_Package TourNoYesNo   0.023173\n",
       "24                                      age_group_<18   0.022625\n",
       "13   activity_arrangement_Hunting TourismPackage Tour   0.015306\n",
       "37                   arrange_pack_Package TourYesNoNo   0.015171\n",
       "34                   arrange_pack_Package TourNoNoYes   0.013452\n",
       "47                             main_activity_Business   0.012259\n",
       "3       activity_arrangement_Bird TourismPackage Tour   0.011391\n",
       "10  activity_arrangement_Diving and Sport FishingI...   0.011366\n",
       "38                  arrange_pack_Package TourYesNoYes    0.00839\n",
       "50             main_activity_Diving and Sport Fishing   0.007921\n",
       "15  activity_arrangement_Mountain ClimbingPackage ...   0.007012\n",
       "32                  arrange_pack_IndependentYesYesYes   0.006286\n",
       "5           activity_arrangement_BusinessPackage Tour   0.005106\n",
       "4            activity_arrangement_BusinessIndependent   0.003064\n",
       "29                    arrange_pack_IndependentYesNoNo   0.001707\n",
       "31                   arrange_pack_IndependentYesYesNo   0.001103\n",
       "26                    arrange_pack_IndependentNoNoYes   0.000965\n",
       "28                   arrange_pack_IndependentNoYesYes   0.000885\n",
       "11  activity_arrangement_Diving and Sport FishingP...   0.000494\n",
       "27                    arrange_pack_IndependentNoYesNo   0.000432\n",
       "30                   arrange_pack_IndependentYesNoYes   0.000028\n",
       "63                          package_transport_int_Yes        0.0\n",
       "2        activity_arrangement_Bird TourismIndependent        0.0\n",
       "70                                   wildlife_tourism        0.0"
      ]
     },
     "execution_count": 73,
     "metadata": {},
     "output_type": "execute_result"
    }
   ],
   "source": [
    "pd.options.display.max_rows = 2200\n",
    "#define a function to create variable importance dataframe\n",
    "def get_catt_varimp(model, train_columns, max_vars=350):\n",
    "    \n",
    "    # Scikit-learn API LGBMClassifier or LGBMRegressor was fitted, \n",
    "    # so using feature_importances_ property\n",
    "    feature_importances_perc = (model.feature_importances_ / sum(model.feature_importances_)) * 100\n",
    "    cv_varimp_df = pd.DataFrame([train_columns, feature_importances_perc]).T\n",
    "\n",
    "    cv_varimp_df.columns = ['feature_name', 'varimp (%)']\n",
    "\n",
    "    cv_varimp_df.sort_values(by='varimp (%)', ascending=False, inplace=True)\n",
    "\n",
    "    cv_varimp_df = cv_varimp_df.iloc[0:max_vars]   \n",
    "\n",
    "    return cv_varimp_df\n",
    "#\n",
    "get_catt_varimp(model, X.columns)"
   ]
  },
  {
   "cell_type": "markdown",
   "metadata": {
    "id": "S0mVqDO1ve-m"
   },
   "source": [
    "### Now Predict The Test data given and make submissions"
   ]
  },
  {
   "cell_type": "code",
   "execution_count": 74,
   "metadata": {
    "colab": {
     "base_uri": "https://localhost:8080/"
    },
    "id": "bGrRRKeIve-q",
    "outputId": "b752a27b-d1b7-424e-c61f-67b68ab5baf2"
   },
   "outputs": [
    {
     "data": {
      "text/html": [
       "<div>\n",
       "<style scoped>\n",
       "    .dataframe tbody tr th:only-of-type {\n",
       "        vertical-align: middle;\n",
       "    }\n",
       "\n",
       "    .dataframe tbody tr th {\n",
       "        vertical-align: top;\n",
       "    }\n",
       "\n",
       "    .dataframe thead th {\n",
       "        text-align: right;\n",
       "    }\n",
       "</style>\n",
       "<table border=\"1\" class=\"dataframe\">\n",
       "  <thead>\n",
       "    <tr style=\"text-align: right;\">\n",
       "      <th></th>\n",
       "      <th>ID</th>\n",
       "      <th>High Cost</th>\n",
       "      <th>Higher Cost</th>\n",
       "      <th>Highest Cost</th>\n",
       "      <th>Low Cost</th>\n",
       "      <th>Lower Cost</th>\n",
       "      <th>Normal Cost</th>\n",
       "    </tr>\n",
       "  </thead>\n",
       "  <tbody>\n",
       "    <tr>\n",
       "      <th>17565</th>\n",
       "      <td>tour_idynufedne</td>\n",
       "      <td>0.135352</td>\n",
       "      <td>0.039252</td>\n",
       "      <td>0.000317</td>\n",
       "      <td>0.076672</td>\n",
       "      <td>0.028176</td>\n",
       "      <td>0.720231</td>\n",
       "    </tr>\n",
       "    <tr>\n",
       "      <th>17566</th>\n",
       "      <td>tour_id9r3y5moe</td>\n",
       "      <td>0.214182</td>\n",
       "      <td>0.595665</td>\n",
       "      <td>0.040170</td>\n",
       "      <td>0.007529</td>\n",
       "      <td>0.010434</td>\n",
       "      <td>0.132019</td>\n",
       "    </tr>\n",
       "    <tr>\n",
       "      <th>17567</th>\n",
       "      <td>tour_idf6itml6g</td>\n",
       "      <td>0.678920</td>\n",
       "      <td>0.178846</td>\n",
       "      <td>0.005475</td>\n",
       "      <td>0.008080</td>\n",
       "      <td>0.004723</td>\n",
       "      <td>0.123956</td>\n",
       "    </tr>\n",
       "    <tr>\n",
       "      <th>17568</th>\n",
       "      <td>tour_id99u4znru</td>\n",
       "      <td>0.027167</td>\n",
       "      <td>0.013950</td>\n",
       "      <td>0.000125</td>\n",
       "      <td>0.295430</td>\n",
       "      <td>0.091498</td>\n",
       "      <td>0.571831</td>\n",
       "    </tr>\n",
       "    <tr>\n",
       "      <th>17569</th>\n",
       "      <td>tour_idj4i9urbx</td>\n",
       "      <td>0.023368</td>\n",
       "      <td>0.006569</td>\n",
       "      <td>0.000187</td>\n",
       "      <td>0.268794</td>\n",
       "      <td>0.264021</td>\n",
       "      <td>0.437061</td>\n",
       "    </tr>\n",
       "  </tbody>\n",
       "</table>\n",
       "</div>"
      ],
      "text/plain": [
       "                    ID  High Cost  Higher Cost  Highest Cost  Low Cost  \\\n",
       "17565  tour_idynufedne   0.135352     0.039252      0.000317  0.076672   \n",
       "17566  tour_id9r3y5moe   0.214182     0.595665      0.040170  0.007529   \n",
       "17567  tour_idf6itml6g   0.678920     0.178846      0.005475  0.008080   \n",
       "17568  tour_id99u4znru   0.027167     0.013950      0.000125  0.295430   \n",
       "17569  tour_idj4i9urbx   0.023368     0.006569      0.000187  0.268794   \n",
       "\n",
       "       Lower Cost  Normal Cost  \n",
       "17565    0.028176     0.720231  \n",
       "17566    0.010434     0.132019  \n",
       "17567    0.004723     0.123956  \n",
       "17568    0.091498     0.571831  \n",
       "17569    0.264021     0.437061  "
      ]
     },
     "execution_count": 74,
     "metadata": {},
     "output_type": "execute_result"
    }
   ],
   "source": [
    "test_df[['a','b','c','d','e','f']] = model.predict_proba(test_df[X.columns])\n",
    "\n",
    "submission = pd.DataFrame({\"ID\": ID,\n",
    "                           \"High Cost\": test_df['a'],\n",
    "                           \"Higher Cost\": test_df['b'],\n",
    "                           \"Highest Cost\": test_df['c'],\n",
    "                           \"Low Cost\": test_df['d'],\n",
    "                           \"Lower Cost\": test_df['e'],\n",
    "                           \"Normal Cost\": test_df['f']\n",
    "                          })\n",
    "submission.to_csv('baseline.csv',index=False)\n",
    "submission.head()"
   ]
  },
  {
   "cell_type": "markdown",
   "metadata": {},
   "source": [
    "### Final thoughts\n",
    "* Feature Engineering is key, THINK! THINK! THINK! THINK!\n",
    "* Train test split is not very efficient, try stratified kfold\n",
    "* Trust your local validation test (best test) don't worry too much about the public leaderboard\n",
    "* Experiment every way to improve your models, If you face an error , stackoverflow and if stackoverflow doesn't help ask in the group <br>\n",
    "* There are goodies for the winners\n",
    "\n",
    "* GOODLUCKKKKKKKKK YOU NEED IT!"
   ]
  },
  {
   "cell_type": "code",
   "execution_count": null,
   "metadata": {},
   "outputs": [],
   "source": []
  }
 ],
 "metadata": {
  "colab": {
   "name": "Winning_solution_everything.ipynb",
   "provenance": []
  },
  "kernelspec": {
   "display_name": "Python 3",
   "language": "python",
   "name": "python3"
  },
  "language_info": {
   "codemirror_mode": {
    "name": "ipython",
    "version": 3
   },
   "file_extension": ".py",
   "mimetype": "text/x-python",
   "name": "python",
   "nbconvert_exporter": "python",
   "pygments_lexer": "ipython3",
   "version": "3.8.8"
  }
 },
 "nbformat": 4,
 "nbformat_minor": 1
}
